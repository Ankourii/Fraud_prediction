{
 "cells": [
  {
   "cell_type": "code",
   "execution_count": 1,
   "id": "ceee95d3",
   "metadata": {},
   "outputs": [],
   "source": [
    "# to ignore warnings\n",
    "import warnings\n",
    "warnings.filterwarnings('ignore')\n",
    "\n",
    "#necessary libraries to handle dataframes and numeric data \n",
    "import pandas as pd\n",
    "import numpy as np\n",
    "\n",
    "# for visuals\n",
    "import pylab as plt\n",
    "import seaborn as sns\n",
    "%matplotlib inline\n",
    "\n",
    "# for data splitting into train and test\n",
    "from sklearn.model_selection import train_test_split as tts\n",
    "\n",
    "#the models\n",
    "from sklearn.linear_model import LogisticRegression\n",
    "from sklearn.tree import DecisionTreeClassifier\n",
    "from sklearn.ensemble import RandomForestClassifier\n",
    "\n",
    "#the metrics\n",
    "from sklearn.metrics import confusion_matrix as cm\n",
    "from sklearn.metrics import accuracy_score \n",
    "from sklearn.metrics import precision_score \n",
    "from sklearn.metrics import recall_score \n",
    "from sklearn.metrics import f1_score\n",
    "from sklearn.metrics import cohen_kappa_score\n",
    "\n",
    "# to standardize\n",
    "from sklearn.preprocessing import StandardScaler\n",
    "from sklearn.preprocessing import MinMaxScaler\n",
    "\n",
    "#to save the model\n",
    "import pickle\n",
    "\n",
    "# to get the most important columns\n",
    "from sklearn.inspection import permutation_importance"
   ]
  },
  {
   "cell_type": "markdown",
   "id": "ea60af89",
   "metadata": {},
   "source": [
    "## Preprocessing 1:\n",
    "\n",
    "Keeping outliers,downsampling non-fraud cases, getting dummies for column 'type', standardising using standardscaler."
   ]
  },
  {
   "cell_type": "code",
   "execution_count": 2,
   "id": "064b7d36",
   "metadata": {},
   "outputs": [],
   "source": [
    "data_pp1=pd.read_csv('../../data/second/data_pp1.csv')"
   ]
  },
  {
   "cell_type": "markdown",
   "id": "48f5fc8e",
   "metadata": {},
   "source": [
    "Importing the data"
   ]
  },
  {
   "cell_type": "code",
   "execution_count": 3,
   "id": "e81a59af",
   "metadata": {},
   "outputs": [
    {
     "data": {
      "text/html": [
       "<div>\n",
       "<style scoped>\n",
       "    .dataframe tbody tr th:only-of-type {\n",
       "        vertical-align: middle;\n",
       "    }\n",
       "\n",
       "    .dataframe tbody tr th {\n",
       "        vertical-align: top;\n",
       "    }\n",
       "\n",
       "    .dataframe thead th {\n",
       "        text-align: right;\n",
       "    }\n",
       "</style>\n",
       "<table border=\"1\" class=\"dataframe\">\n",
       "  <thead>\n",
       "    <tr style=\"text-align: right;\">\n",
       "      <th></th>\n",
       "      <th>step</th>\n",
       "      <th>amount</th>\n",
       "      <th>oldbalanceOrg</th>\n",
       "      <th>newbalanceOrig</th>\n",
       "      <th>oldbalanceDest</th>\n",
       "      <th>newbalanceDest</th>\n",
       "      <th>isFraud</th>\n",
       "      <th>isFlaggedFraud</th>\n",
       "      <th>type_CASH_IN</th>\n",
       "      <th>type_CASH_OUT</th>\n",
       "      <th>type_DEBIT</th>\n",
       "      <th>type_PAYMENT</th>\n",
       "      <th>type_TRANSFER</th>\n",
       "    </tr>\n",
       "  </thead>\n",
       "  <tbody>\n",
       "    <tr>\n",
       "      <th>0</th>\n",
       "      <td>1</td>\n",
       "      <td>181.0</td>\n",
       "      <td>181.0</td>\n",
       "      <td>0.0</td>\n",
       "      <td>0.0</td>\n",
       "      <td>0.0</td>\n",
       "      <td>1</td>\n",
       "      <td>0</td>\n",
       "      <td>0</td>\n",
       "      <td>0</td>\n",
       "      <td>0</td>\n",
       "      <td>0</td>\n",
       "      <td>1</td>\n",
       "    </tr>\n",
       "    <tr>\n",
       "      <th>1</th>\n",
       "      <td>1</td>\n",
       "      <td>181.0</td>\n",
       "      <td>181.0</td>\n",
       "      <td>0.0</td>\n",
       "      <td>21182.0</td>\n",
       "      <td>0.0</td>\n",
       "      <td>1</td>\n",
       "      <td>0</td>\n",
       "      <td>0</td>\n",
       "      <td>1</td>\n",
       "      <td>0</td>\n",
       "      <td>0</td>\n",
       "      <td>0</td>\n",
       "    </tr>\n",
       "    <tr>\n",
       "      <th>2</th>\n",
       "      <td>1</td>\n",
       "      <td>2806.0</td>\n",
       "      <td>2806.0</td>\n",
       "      <td>0.0</td>\n",
       "      <td>0.0</td>\n",
       "      <td>0.0</td>\n",
       "      <td>1</td>\n",
       "      <td>0</td>\n",
       "      <td>0</td>\n",
       "      <td>0</td>\n",
       "      <td>0</td>\n",
       "      <td>0</td>\n",
       "      <td>1</td>\n",
       "    </tr>\n",
       "    <tr>\n",
       "      <th>3</th>\n",
       "      <td>1</td>\n",
       "      <td>2806.0</td>\n",
       "      <td>2806.0</td>\n",
       "      <td>0.0</td>\n",
       "      <td>26202.0</td>\n",
       "      <td>0.0</td>\n",
       "      <td>1</td>\n",
       "      <td>0</td>\n",
       "      <td>0</td>\n",
       "      <td>1</td>\n",
       "      <td>0</td>\n",
       "      <td>0</td>\n",
       "      <td>0</td>\n",
       "    </tr>\n",
       "    <tr>\n",
       "      <th>4</th>\n",
       "      <td>1</td>\n",
       "      <td>20128.0</td>\n",
       "      <td>20128.0</td>\n",
       "      <td>0.0</td>\n",
       "      <td>0.0</td>\n",
       "      <td>0.0</td>\n",
       "      <td>1</td>\n",
       "      <td>0</td>\n",
       "      <td>0</td>\n",
       "      <td>0</td>\n",
       "      <td>0</td>\n",
       "      <td>0</td>\n",
       "      <td>1</td>\n",
       "    </tr>\n",
       "  </tbody>\n",
       "</table>\n",
       "</div>"
      ],
      "text/plain": [
       "   step   amount  oldbalanceOrg  newbalanceOrig  oldbalanceDest  \\\n",
       "0     1    181.0          181.0             0.0             0.0   \n",
       "1     1    181.0          181.0             0.0         21182.0   \n",
       "2     1   2806.0         2806.0             0.0             0.0   \n",
       "3     1   2806.0         2806.0             0.0         26202.0   \n",
       "4     1  20128.0        20128.0             0.0             0.0   \n",
       "\n",
       "   newbalanceDest  isFraud  isFlaggedFraud  type_CASH_IN  type_CASH_OUT  \\\n",
       "0             0.0        1               0             0              0   \n",
       "1             0.0        1               0             0              1   \n",
       "2             0.0        1               0             0              0   \n",
       "3             0.0        1               0             0              1   \n",
       "4             0.0        1               0             0              0   \n",
       "\n",
       "   type_DEBIT  type_PAYMENT  type_TRANSFER  \n",
       "0           0             0              1  \n",
       "1           0             0              0  \n",
       "2           0             0              1  \n",
       "3           0             0              0  \n",
       "4           0             0              1  "
      ]
     },
     "execution_count": 3,
     "metadata": {},
     "output_type": "execute_result"
    }
   ],
   "source": [
    "data_pp1.head()"
   ]
  },
  {
   "cell_type": "code",
   "execution_count": 4,
   "id": "c762b082",
   "metadata": {},
   "outputs": [],
   "source": [
    "X_pp1=data_pp1.drop('isFraud', axis=1)\n",
    "y_pp1=data_pp1['isFraud']"
   ]
  },
  {
   "cell_type": "markdown",
   "id": "98a2b4c6",
   "metadata": {},
   "source": [
    "Defining my target column"
   ]
  },
  {
   "cell_type": "code",
   "execution_count": 5,
   "id": "047d11fb",
   "metadata": {},
   "outputs": [],
   "source": [
    "X_train1, X_test1, y_train1, y_test1 =tts(X_pp1, y_pp1, \n",
    "                                       random_state=42,\n",
    "                                       stratify=y_pp1)\n"
   ]
  },
  {
   "cell_type": "markdown",
   "id": "f46e7294",
   "metadata": {},
   "source": [
    "Splitting into train and test"
   ]
  },
  {
   "cell_type": "code",
   "execution_count": 6,
   "id": "21f32976",
   "metadata": {},
   "outputs": [],
   "source": [
    "escalador = StandardScaler()   \n",
    " \n",
    "escalador.fit(X_train1[['amount', 'oldbalanceOrg', 'newbalanceOrig', 'oldbalanceDest', 'newbalanceDest']])\n",
    " \n",
    "X_train1[['amount', 'oldbalanceOrg', 'newbalanceOrig', 'oldbalanceDest', 'newbalanceDest']] = escalador.transform(X_train1[['amount', 'oldbalanceOrg', 'newbalanceOrig', 'oldbalanceDest', 'newbalanceDest']])   \n",
    "X_test1[['amount', 'oldbalanceOrg', 'newbalanceOrig', 'oldbalanceDest', 'newbalanceDest']] = escalador.transform(X_test1[['amount', 'oldbalanceOrg', 'newbalanceOrig', 'oldbalanceDest', 'newbalanceDest']])  \n"
   ]
  },
  {
   "cell_type": "markdown",
   "id": "a3108d89",
   "metadata": {},
   "source": [
    "Standardizing the data using standardscaler"
   ]
  },
  {
   "cell_type": "code",
   "execution_count": 7,
   "id": "d6e6faa5",
   "metadata": {},
   "outputs": [
    {
     "data": {
      "text/html": [
       "<div>\n",
       "<style scoped>\n",
       "    .dataframe tbody tr th:only-of-type {\n",
       "        vertical-align: middle;\n",
       "    }\n",
       "\n",
       "    .dataframe tbody tr th {\n",
       "        vertical-align: top;\n",
       "    }\n",
       "\n",
       "    .dataframe thead th {\n",
       "        text-align: right;\n",
       "    }\n",
       "</style>\n",
       "<table border=\"1\" class=\"dataframe\">\n",
       "  <thead>\n",
       "    <tr style=\"text-align: right;\">\n",
       "      <th></th>\n",
       "      <th>step</th>\n",
       "      <th>amount</th>\n",
       "      <th>oldbalanceOrg</th>\n",
       "      <th>newbalanceOrig</th>\n",
       "      <th>oldbalanceDest</th>\n",
       "      <th>newbalanceDest</th>\n",
       "      <th>isFlaggedFraud</th>\n",
       "      <th>type_CASH_IN</th>\n",
       "      <th>type_CASH_OUT</th>\n",
       "      <th>type_DEBIT</th>\n",
       "      <th>type_PAYMENT</th>\n",
       "      <th>type_TRANSFER</th>\n",
       "    </tr>\n",
       "  </thead>\n",
       "  <tbody>\n",
       "    <tr>\n",
       "      <th>14450</th>\n",
       "      <td>277</td>\n",
       "      <td>-0.439946</td>\n",
       "      <td>-0.384908</td>\n",
       "      <td>-0.211217</td>\n",
       "      <td>-0.296040</td>\n",
       "      <td>-0.386025</td>\n",
       "      <td>0</td>\n",
       "      <td>0</td>\n",
       "      <td>0</td>\n",
       "      <td>0</td>\n",
       "      <td>1</td>\n",
       "      <td>0</td>\n",
       "    </tr>\n",
       "    <tr>\n",
       "      <th>6029</th>\n",
       "      <td>546</td>\n",
       "      <td>-0.429963</td>\n",
       "      <td>-0.379685</td>\n",
       "      <td>-0.212037</td>\n",
       "      <td>-0.296040</td>\n",
       "      <td>-0.386025</td>\n",
       "      <td>0</td>\n",
       "      <td>0</td>\n",
       "      <td>0</td>\n",
       "      <td>0</td>\n",
       "      <td>0</td>\n",
       "      <td>1</td>\n",
       "    </tr>\n",
       "    <tr>\n",
       "      <th>12951</th>\n",
       "      <td>300</td>\n",
       "      <td>-0.260930</td>\n",
       "      <td>-0.370837</td>\n",
       "      <td>-0.050621</td>\n",
       "      <td>-0.274270</td>\n",
       "      <td>-0.386025</td>\n",
       "      <td>0</td>\n",
       "      <td>1</td>\n",
       "      <td>0</td>\n",
       "      <td>0</td>\n",
       "      <td>0</td>\n",
       "      <td>0</td>\n",
       "    </tr>\n",
       "    <tr>\n",
       "      <th>8697</th>\n",
       "      <td>370</td>\n",
       "      <td>-0.308936</td>\n",
       "      <td>-0.387496</td>\n",
       "      <td>-0.212037</td>\n",
       "      <td>0.551333</td>\n",
       "      <td>0.412887</td>\n",
       "      <td>0</td>\n",
       "      <td>0</td>\n",
       "      <td>1</td>\n",
       "      <td>0</td>\n",
       "      <td>0</td>\n",
       "      <td>0</td>\n",
       "    </tr>\n",
       "    <tr>\n",
       "      <th>3129</th>\n",
       "      <td>276</td>\n",
       "      <td>0.399893</td>\n",
       "      <td>0.106781</td>\n",
       "      <td>-0.212037</td>\n",
       "      <td>-0.296040</td>\n",
       "      <td>-0.386025</td>\n",
       "      <td>0</td>\n",
       "      <td>0</td>\n",
       "      <td>0</td>\n",
       "      <td>0</td>\n",
       "      <td>0</td>\n",
       "      <td>1</td>\n",
       "    </tr>\n",
       "  </tbody>\n",
       "</table>\n",
       "</div>"
      ],
      "text/plain": [
       "       step    amount  oldbalanceOrg  newbalanceOrig  oldbalanceDest  \\\n",
       "14450   277 -0.439946      -0.384908       -0.211217       -0.296040   \n",
       "6029    546 -0.429963      -0.379685       -0.212037       -0.296040   \n",
       "12951   300 -0.260930      -0.370837       -0.050621       -0.274270   \n",
       "8697    370 -0.308936      -0.387496       -0.212037        0.551333   \n",
       "3129    276  0.399893       0.106781       -0.212037       -0.296040   \n",
       "\n",
       "       newbalanceDest  isFlaggedFraud  type_CASH_IN  type_CASH_OUT  \\\n",
       "14450       -0.386025               0             0              0   \n",
       "6029        -0.386025               0             0              0   \n",
       "12951       -0.386025               0             1              0   \n",
       "8697         0.412887               0             0              1   \n",
       "3129        -0.386025               0             0              0   \n",
       "\n",
       "       type_DEBIT  type_PAYMENT  type_TRANSFER  \n",
       "14450           0             1              0  \n",
       "6029            0             0              1  \n",
       "12951           0             0              0  \n",
       "8697            0             0              0  \n",
       "3129            0             0              1  "
      ]
     },
     "execution_count": 7,
     "metadata": {},
     "output_type": "execute_result"
    }
   ],
   "source": [
    "X_train1.head()"
   ]
  },
  {
   "cell_type": "markdown",
   "id": "b31c94da",
   "metadata": {},
   "source": [
    "Seeing the data after standardization"
   ]
  },
  {
   "cell_type": "code",
   "execution_count": 8,
   "id": "a24d7965",
   "metadata": {},
   "outputs": [],
   "source": [
    "lr_pp1=LogisticRegression()\n",
    "dt_pp1=DecisionTreeClassifier()\n",
    "rf_pp1=RandomForestClassifier()"
   ]
  },
  {
   "cell_type": "markdown",
   "id": "080e50b7",
   "metadata": {},
   "source": [
    "Initiating the models"
   ]
  },
  {
   "cell_type": "code",
   "execution_count": 9,
   "id": "730465f8",
   "metadata": {},
   "outputs": [
    {
     "data": {
      "text/html": [
       "<style>#sk-container-id-1 {color: black;}#sk-container-id-1 pre{padding: 0;}#sk-container-id-1 div.sk-toggleable {background-color: white;}#sk-container-id-1 label.sk-toggleable__label {cursor: pointer;display: block;width: 100%;margin-bottom: 0;padding: 0.3em;box-sizing: border-box;text-align: center;}#sk-container-id-1 label.sk-toggleable__label-arrow:before {content: \"▸\";float: left;margin-right: 0.25em;color: #696969;}#sk-container-id-1 label.sk-toggleable__label-arrow:hover:before {color: black;}#sk-container-id-1 div.sk-estimator:hover label.sk-toggleable__label-arrow:before {color: black;}#sk-container-id-1 div.sk-toggleable__content {max-height: 0;max-width: 0;overflow: hidden;text-align: left;background-color: #f0f8ff;}#sk-container-id-1 div.sk-toggleable__content pre {margin: 0.2em;color: black;border-radius: 0.25em;background-color: #f0f8ff;}#sk-container-id-1 input.sk-toggleable__control:checked~div.sk-toggleable__content {max-height: 200px;max-width: 100%;overflow: auto;}#sk-container-id-1 input.sk-toggleable__control:checked~label.sk-toggleable__label-arrow:before {content: \"▾\";}#sk-container-id-1 div.sk-estimator input.sk-toggleable__control:checked~label.sk-toggleable__label {background-color: #d4ebff;}#sk-container-id-1 div.sk-label input.sk-toggleable__control:checked~label.sk-toggleable__label {background-color: #d4ebff;}#sk-container-id-1 input.sk-hidden--visually {border: 0;clip: rect(1px 1px 1px 1px);clip: rect(1px, 1px, 1px, 1px);height: 1px;margin: -1px;overflow: hidden;padding: 0;position: absolute;width: 1px;}#sk-container-id-1 div.sk-estimator {font-family: monospace;background-color: #f0f8ff;border: 1px dotted black;border-radius: 0.25em;box-sizing: border-box;margin-bottom: 0.5em;}#sk-container-id-1 div.sk-estimator:hover {background-color: #d4ebff;}#sk-container-id-1 div.sk-parallel-item::after {content: \"\";width: 100%;border-bottom: 1px solid gray;flex-grow: 1;}#sk-container-id-1 div.sk-label:hover label.sk-toggleable__label {background-color: #d4ebff;}#sk-container-id-1 div.sk-serial::before {content: \"\";position: absolute;border-left: 1px solid gray;box-sizing: border-box;top: 0;bottom: 0;left: 50%;z-index: 0;}#sk-container-id-1 div.sk-serial {display: flex;flex-direction: column;align-items: center;background-color: white;padding-right: 0.2em;padding-left: 0.2em;position: relative;}#sk-container-id-1 div.sk-item {position: relative;z-index: 1;}#sk-container-id-1 div.sk-parallel {display: flex;align-items: stretch;justify-content: center;background-color: white;position: relative;}#sk-container-id-1 div.sk-item::before, #sk-container-id-1 div.sk-parallel-item::before {content: \"\";position: absolute;border-left: 1px solid gray;box-sizing: border-box;top: 0;bottom: 0;left: 50%;z-index: -1;}#sk-container-id-1 div.sk-parallel-item {display: flex;flex-direction: column;z-index: 1;position: relative;background-color: white;}#sk-container-id-1 div.sk-parallel-item:first-child::after {align-self: flex-end;width: 50%;}#sk-container-id-1 div.sk-parallel-item:last-child::after {align-self: flex-start;width: 50%;}#sk-container-id-1 div.sk-parallel-item:only-child::after {width: 0;}#sk-container-id-1 div.sk-dashed-wrapped {border: 1px dashed gray;margin: 0 0.4em 0.5em 0.4em;box-sizing: border-box;padding-bottom: 0.4em;background-color: white;}#sk-container-id-1 div.sk-label label {font-family: monospace;font-weight: bold;display: inline-block;line-height: 1.2em;}#sk-container-id-1 div.sk-label-container {text-align: center;}#sk-container-id-1 div.sk-container {/* jupyter's `normalize.less` sets `[hidden] { display: none; }` but bootstrap.min.css set `[hidden] { display: none !important; }` so we also need the `!important` here to be able to override the default hidden behavior on the sphinx rendered scikit-learn.org. See: https://github.com/scikit-learn/scikit-learn/issues/21755 */display: inline-block !important;position: relative;}#sk-container-id-1 div.sk-text-repr-fallback {display: none;}</style><div id=\"sk-container-id-1\" class=\"sk-top-container\"><div class=\"sk-text-repr-fallback\"><pre>RandomForestClassifier()</pre><b>In a Jupyter environment, please rerun this cell to show the HTML representation or trust the notebook. <br />On GitHub, the HTML representation is unable to render, please try loading this page with nbviewer.org.</b></div><div class=\"sk-container\" hidden><div class=\"sk-item\"><div class=\"sk-estimator sk-toggleable\"><input class=\"sk-toggleable__control sk-hidden--visually\" id=\"sk-estimator-id-1\" type=\"checkbox\" checked><label for=\"sk-estimator-id-1\" class=\"sk-toggleable__label sk-toggleable__label-arrow\">RandomForestClassifier</label><div class=\"sk-toggleable__content\"><pre>RandomForestClassifier()</pre></div></div></div></div></div>"
      ],
      "text/plain": [
       "RandomForestClassifier()"
      ]
     },
     "execution_count": 9,
     "metadata": {},
     "output_type": "execute_result"
    }
   ],
   "source": [
    "lr_pp1.fit(X_train1, y_train1)\n",
    "dt_pp1.fit(X_train1, y_train1)\n",
    "rf_pp1.fit(X_train1, y_train1)"
   ]
  },
  {
   "cell_type": "markdown",
   "id": "68962142",
   "metadata": {},
   "source": [
    "Training the models"
   ]
  },
  {
   "cell_type": "code",
   "execution_count": 10,
   "id": "cffc8704",
   "metadata": {},
   "outputs": [],
   "source": [
    "y_test_pred_lr_pp1 = lr_pp1.predict(X_test1)\n",
    "y_test_pred_dt_pp1 = dt_pp1.predict(X_test1)\n",
    "y_test_pred_rf_pp1 = rf_pp1.predict(X_test1)"
   ]
  },
  {
   "cell_type": "code",
   "execution_count": 11,
   "id": "853f1253",
   "metadata": {},
   "outputs": [],
   "source": [
    "y_train_pred_lr_pp1 = lr_pp1.predict(X_train1)\n",
    "y_train_pred_dt_pp1 = dt_pp1.predict(X_train1)\n",
    "y_train_pred_rf_pp1 = rf_pp1.predict(X_train1)"
   ]
  },
  {
   "cell_type": "markdown",
   "id": "3e1f51f5",
   "metadata": {},
   "source": [
    "Getting the predictions for both test and train data (I need to get both to check whether my model is overfitted or not)"
   ]
  },
  {
   "cell_type": "code",
   "execution_count": 12,
   "id": "29bf5e03",
   "metadata": {},
   "outputs": [],
   "source": [
    "#Getting the metrics for each model for train and test \n",
    "\n",
    "def metrics(y_test, y_test_pred_model, y_train, y_train_pred_model, model):\n",
    "    \n",
    "    accuracy_test = accuracy_score(y_test, y_test_pred_model)\n",
    "    precision_test = precision_score(y_test, y_test_pred_model)\n",
    "    recall_test = recall_score(y_test, y_test_pred_model)\n",
    "    f1_test = f1_score(y_test, y_test_pred_model)\n",
    "    kappa_test = cohen_kappa_score(y_test, y_test_pred_model)\n",
    "\n",
    "    accuracy_train = accuracy_score(y_train, y_train_pred_model)\n",
    "    precision_train = precision_score(y_train, y_train_pred_model)\n",
    "    recall_train = recall_score(y_train, y_train_pred_model)\n",
    "    f1_train = f1_score(y_train, y_train_pred_model)\n",
    "    kappa_train = cohen_kappa_score(y_train, y_train_pred_model)\n",
    "\n",
    "    \n",
    "    df = pd.DataFrame({'accuracy': [accuracy_test, accuracy_train], \n",
    "                       'precision': [precision_test, precision_train],\n",
    "                       'recall': [recall_test, recall_train], \n",
    "                       'f1': [f1_test, f1_train],\n",
    "                       'kapppa': [kappa_test, kappa_train],\n",
    "                       'set': ['test', 'train' ]})\n",
    "    \n",
    "    df['model'] = model\n",
    "    return df"
   ]
  },
  {
   "cell_type": "code",
   "execution_count": 13,
   "id": "45ce66e8",
   "metadata": {},
   "outputs": [],
   "source": [
    "results_lr_pp1= metrics(y_test1, y_test_pred_lr_pp1, y_train1, y_train_pred_lr_pp1, 'Logistic Regression pp1')\n",
    "results_dt_pp1= metrics(y_test1, y_test_pred_dt_pp1, y_train1, y_train_pred_dt_pp1, 'Decision Tree pp1')\n",
    "results_rf_pp1= metrics(y_test1, y_test_pred_rf_pp1, y_train1, y_train_pred_rf_pp1, 'Random Forest pp1')\n",
    "results_pp1=pd.concat([results_lr_pp1, results_dt_pp1, results_rf_pp1], axis=0)"
   ]
  },
  {
   "cell_type": "markdown",
   "id": "b3406c84",
   "metadata": {},
   "source": [
    "Getting the metrics for my model"
   ]
  },
  {
   "cell_type": "code",
   "execution_count": 14,
   "id": "af03ac5b",
   "metadata": {},
   "outputs": [
    {
     "data": {
      "text/html": [
       "<div>\n",
       "<style scoped>\n",
       "    .dataframe tbody tr th:only-of-type {\n",
       "        vertical-align: middle;\n",
       "    }\n",
       "\n",
       "    .dataframe tbody tr th {\n",
       "        vertical-align: top;\n",
       "    }\n",
       "\n",
       "    .dataframe thead th {\n",
       "        text-align: right;\n",
       "    }\n",
       "</style>\n",
       "<table border=\"1\" class=\"dataframe\">\n",
       "  <thead>\n",
       "    <tr style=\"text-align: right;\">\n",
       "      <th></th>\n",
       "      <th>accuracy</th>\n",
       "      <th>precision</th>\n",
       "      <th>recall</th>\n",
       "      <th>f1</th>\n",
       "      <th>kapppa</th>\n",
       "      <th>set</th>\n",
       "      <th>model</th>\n",
       "    </tr>\n",
       "  </thead>\n",
       "  <tbody>\n",
       "    <tr>\n",
       "      <th>0</th>\n",
       "      <td>0.912345</td>\n",
       "      <td>0.918438</td>\n",
       "      <td>0.905017</td>\n",
       "      <td>0.911678</td>\n",
       "      <td>0.824689</td>\n",
       "      <td>test</td>\n",
       "      <td>Logistic Regression pp1</td>\n",
       "    </tr>\n",
       "    <tr>\n",
       "      <th>1</th>\n",
       "      <td>0.914522</td>\n",
       "      <td>0.917990</td>\n",
       "      <td>0.910390</td>\n",
       "      <td>0.914174</td>\n",
       "      <td>0.829045</td>\n",
       "      <td>train</td>\n",
       "      <td>Logistic Regression pp1</td>\n",
       "    </tr>\n",
       "    <tr>\n",
       "      <th>0</th>\n",
       "      <td>0.988069</td>\n",
       "      <td>0.986880</td>\n",
       "      <td>0.989284</td>\n",
       "      <td>0.988081</td>\n",
       "      <td>0.976138</td>\n",
       "      <td>test</td>\n",
       "      <td>Decision Tree pp1</td>\n",
       "    </tr>\n",
       "    <tr>\n",
       "      <th>1</th>\n",
       "      <td>1.000000</td>\n",
       "      <td>1.000000</td>\n",
       "      <td>1.000000</td>\n",
       "      <td>1.000000</td>\n",
       "      <td>1.000000</td>\n",
       "      <td>train</td>\n",
       "      <td>Decision Tree pp1</td>\n",
       "    </tr>\n",
       "    <tr>\n",
       "      <th>0</th>\n",
       "      <td>0.991721</td>\n",
       "      <td>0.986038</td>\n",
       "      <td>0.997565</td>\n",
       "      <td>0.991768</td>\n",
       "      <td>0.983443</td>\n",
       "      <td>test</td>\n",
       "      <td>Random Forest pp1</td>\n",
       "    </tr>\n",
       "    <tr>\n",
       "      <th>1</th>\n",
       "      <td>1.000000</td>\n",
       "      <td>1.000000</td>\n",
       "      <td>1.000000</td>\n",
       "      <td>1.000000</td>\n",
       "      <td>1.000000</td>\n",
       "      <td>train</td>\n",
       "      <td>Random Forest pp1</td>\n",
       "    </tr>\n",
       "  </tbody>\n",
       "</table>\n",
       "</div>"
      ],
      "text/plain": [
       "   accuracy  precision    recall        f1    kapppa    set  \\\n",
       "0  0.912345   0.918438  0.905017  0.911678  0.824689   test   \n",
       "1  0.914522   0.917990  0.910390  0.914174  0.829045  train   \n",
       "0  0.988069   0.986880  0.989284  0.988081  0.976138   test   \n",
       "1  1.000000   1.000000  1.000000  1.000000  1.000000  train   \n",
       "0  0.991721   0.986038  0.997565  0.991768  0.983443   test   \n",
       "1  1.000000   1.000000  1.000000  1.000000  1.000000  train   \n",
       "\n",
       "                     model  \n",
       "0  Logistic Regression pp1  \n",
       "1  Logistic Regression pp1  \n",
       "0        Decision Tree pp1  \n",
       "1        Decision Tree pp1  \n",
       "0        Random Forest pp1  \n",
       "1        Random Forest pp1  "
      ]
     },
     "execution_count": 14,
     "metadata": {},
     "output_type": "execute_result"
    }
   ],
   "source": [
    "results_pp1"
   ]
  },
  {
   "cell_type": "markdown",
   "id": "e32be104",
   "metadata": {},
   "source": [
    "For logistic regression the model is working ok but it could be better. The metric that interests me the most out of all the metrics above is the 'recall' since it is the one taking into account the False Negatives which are the predictions I want to decrease as much as possible. I prefer to have False Positives over False Negatives in this project. \n",
    "\n",
    "As for decision tree and random forest they are working very well. The train metrics are higher than the test ones, as expected, but not as much higher to suggest overfitting. "
   ]
  },
  {
   "cell_type": "code",
   "execution_count": 15,
   "id": "e5d29d22",
   "metadata": {},
   "outputs": [
    {
     "data": {
      "image/png": "[encoded data removed]",
      "text/plain": [
       "<Figure size 1500x800 with 2 Axes>"
      ]
     },
     "metadata": {},
     "output_type": "display_data"
    }
   ],
   "source": [
    "#logistic regression confusion matrix\n",
    "plt.figure(figsize=(15, 8))\n",
    "\n",
    "ax=sns.heatmap(cm(y_test1, y_test_pred_lr_pp1)/cm(y_test1, y_test_pred_lr_pp1).sum() * 100, \n",
    "               annot=True)\n",
    "\n",
    "plt.title('Confusion Matrix')\n",
    "plt.ylabel('Truth')\n",
    "plt.xlabel('Prediction')\n",
    "plt.show();\n"
   ]
  },
  {
   "cell_type": "markdown",
   "id": "211451b6",
   "metadata": {},
   "source": [
    "From the confusion matrix above we can see this model has 46% True Negatives (Predicted not fraud when it is actually not fraud),  45% True Positives (Predicted fraud that is actually fraud), 4.7% False Negatives (Predicted no fraud when there was fraud) and 4% False Positives (Predicted fraud when there was no fraud) "
   ]
  },
  {
   "cell_type": "code",
   "execution_count": 16,
   "id": "d46d7261",
   "metadata": {},
   "outputs": [
    {
     "data": {
      "image/png": "[encoded data removed]",
      "text/plain": [
       "<Figure size 1500x800 with 2 Axes>"
      ]
     },
     "metadata": {},
     "output_type": "display_data"
    }
   ],
   "source": [
    "#Decision tree confusion matrix\n",
    "plt.figure(figsize=(15, 8))\n",
    "\n",
    "ax=sns.heatmap(cm(y_test1, y_test_pred_dt_pp1)/cm(y_test1, y_test_pred_dt_pp1).sum() * 100, \n",
    "               annot=True)\n",
    "\n",
    "plt.title('Confusion Matrix')\n",
    "plt.ylabel('Truth')\n",
    "plt.xlabel('Prediction')\n",
    "plt.show();\n"
   ]
  },
  {
   "cell_type": "markdown",
   "id": "7d9b224a",
   "metadata": {},
   "source": [
    "From the confusion matrix above we can see this model has 49% True Negatives (Predicted not fraud when it is actually not fraud),  49% True Positives (Predicted fraud that is actually fraud), 0.54% False Negatives (Predicted no fraud when there was fraud) and 0.63% False Positives (Predicted fraud when there was no fraud) "
   ]
  },
  {
   "cell_type": "code",
   "execution_count": 17,
   "id": "bbf958ed",
   "metadata": {},
   "outputs": [
    {
     "data": {
      "image/png": "[encoded data removed]",
      "text/plain": [
       "<Figure size 1500x800 with 2 Axes>"
      ]
     },
     "metadata": {},
     "output_type": "display_data"
    }
   ],
   "source": [
    "#Random forest confusion matrix\n",
    "plt.figure(figsize=(15, 8))\n",
    "\n",
    "ax=sns.heatmap(cm(y_test1, y_test_pred_rf_pp1)/cm(y_test1, y_test_pred_rf_pp1).sum() * 100, \n",
    "               annot=True)\n",
    "\n",
    "plt.title('Confusion Matrix')\n",
    "plt.ylabel('Truth')\n",
    "plt.xlabel('Prediction')\n",
    "plt.show();\n"
   ]
  },
  {
   "cell_type": "markdown",
   "id": "f2f01e6a",
   "metadata": {},
   "source": [
    "From the confusion matrix above we can see this model has 49% True Negatives (Predicted not fraud when it is actually not fraud),  50% True Positives (Predicted fraud that is actually fraud), 0.073% False Negatives (Predicted no fraud when there was fraud) and 0.73% False Positives (Predicted fraud when there was no fraud) "
   ]
  },
  {
   "cell_type": "code",
   "execution_count": 18,
   "id": "d562075f",
   "metadata": {},
   "outputs": [
    {
     "name": "stdout",
     "output_type": "stream",
     "text": [
      "step: 0.03259475691908119\n",
      "amount: 0.01034818602386165\n",
      "oldbalanceOrg: 0.19302816329843353\n",
      "newbalanceOrig: 0.06574953331710083\n",
      "oldbalanceDest: 0.033568703838974055\n",
      "newbalanceDest: 0.12634526418310196\n",
      "isFlaggedFraud: 0.0\n",
      "type_CASH_IN: 0.045824202580959296\n",
      "type_CASH_OUT: 0.09462705949192428\n",
      "type_DEBIT: 4.869734599461939e-05\n",
      "type_PAYMENT: 0.06057138219300375\n",
      "type_TRANSFER: 0.16368801233666094\n"
     ]
    },
    {
     "data": {
      "image/png": "[encoded data removed]",
      "text/plain": [
       "<Figure size 640x480 with 1 Axes>"
      ]
     },
     "metadata": {},
     "output_type": "display_data"
    }
   ],
   "source": [
    "#calculating the importance of each column for the linear regression model\n",
    "\n",
    "perm_importancepp1 = permutation_importance(lr_pp1, X_test1, y_test1, n_repeats=30, random_state=42)\n",
    "\n",
    "for feature, importance in zip(X_pp1.columns, perm_importancepp1.importances_mean):\n",
    "    print(f\"{feature}: {importance}\")\n",
    "\n",
    "sorted_idx = perm_importancepp1.importances_mean.argsort()[::-1]\n",
    "plt.bar(range(X_pp1.shape[1]), perm_importancepp1.importances_mean[sorted_idx])\n",
    "plt.xticks(range(X_pp1.shape[1]), X_pp1.columns[sorted_idx], rotation=45)\n",
    "plt.show()\n"
   ]
  },
  {
   "cell_type": "code",
   "execution_count": 19,
   "id": "e7a5d583",
   "metadata": {},
   "outputs": [
    {
     "name": "stdout",
     "output_type": "stream",
     "text": [
      "step: 0.002556610664718739\n",
      "amount: 0.15221167113059006\n",
      "oldbalanceOrg: 0.325257690122555\n",
      "newbalanceOrig: 0.16630955279603923\n",
      "oldbalanceDest: 0.04905445986527065\n",
      "newbalanceDest: 0.042066390715039335\n",
      "isFlaggedFraud: 2.4348672997320796e-05\n",
      "type_CASH_IN: 0.0\n",
      "type_CASH_OUT: 0.04289424559694828\n",
      "type_DEBIT: 0.0\n",
      "type_PAYMENT: 0.011768525282038771\n",
      "type_TRANSFER: 0.06865514162811455\n"
     ]
    },
    {
     "data": {
      "image/png": "[encoded data removed]",
      "text/plain": [
       "<Figure size 640x480 with 1 Axes>"
      ]
     },
     "metadata": {},
     "output_type": "display_data"
    }
   ],
   "source": [
    "#calculating the importance of each column for the decision tree model\n",
    "\n",
    "perm_importancepp1 = permutation_importance(dt_pp1, X_test1, y_test1, n_repeats=30, random_state=42)\n",
    "\n",
    "for feature, importance in zip(X_pp1.columns, perm_importancepp1.importances_mean):\n",
    "    print(f\"{feature}: {importance}\")\n",
    "\n",
    "sorted_idx = perm_importancepp1.importances_mean.argsort()[::-1]\n",
    "plt.bar(range(X_pp1.shape[1]), perm_importancepp1.importances_mean[sorted_idx])\n",
    "plt.xticks(range(X_pp1.shape[1]), X_pp1.columns[sorted_idx], rotation=45)\n",
    "plt.show()\n"
   ]
  },
  {
   "cell_type": "code",
   "execution_count": 20,
   "id": "11b6ea68",
   "metadata": {},
   "outputs": [
    {
     "name": "stdout",
     "output_type": "stream",
     "text": [
      "step: 0.0033195357519681503\n",
      "amount: 0.06163460758055348\n",
      "oldbalanceOrg: 0.22160538917295675\n",
      "newbalanceOrig: 0.06820874928983031\n",
      "oldbalanceDest: 0.026215404593782923\n",
      "newbalanceDest: 0.04259394529664796\n",
      "isFlaggedFraud: 0.0\n",
      "type_CASH_IN: 9.739469198927579e-05\n",
      "type_CASH_OUT: 0.03975326678029377\n",
      "type_DEBIT: -8.116224332440265e-06\n",
      "type_PAYMENT: 0.0021994967940913526\n",
      "type_TRANSFER: 0.043462381300219094\n"
     ]
    },
    {
     "data": {
      "image/png": "[encoded data removed]",
      "text/plain": [
       "<Figure size 640x480 with 1 Axes>"
      ]
     },
     "metadata": {},
     "output_type": "display_data"
    }
   ],
   "source": [
    "#calculating the importance of each column for the random forest model\n",
    "\n",
    "perm_importancepp1 = permutation_importance(rf_pp1, X_test1, y_test1, n_repeats=30, random_state=42)\n",
    "\n",
    "for feature, importance in zip(X_pp1.columns, perm_importancepp1.importances_mean):\n",
    "    print(f\"{feature}: {importance}\")\n",
    "\n",
    "sorted_idx = perm_importancepp1.importances_mean.argsort()[::-1]\n",
    "plt.bar(range(X_pp1.shape[1]), perm_importancepp1.importances_mean[sorted_idx])\n",
    "plt.xticks(range(X_pp1.shape[1]), X_pp1.columns[sorted_idx], rotation=45)\n",
    "plt.show()\n"
   ]
  },
  {
   "cell_type": "markdown",
   "id": "9f0a105e",
   "metadata": {},
   "source": [
    "## Preprocessing 2\n",
    "\n",
    "Removing outliers,downsampling non-fraud cases, using labelencoder to convert column 'type' to numerical, standardising using minmax. "
   ]
  },
  {
   "cell_type": "code",
   "execution_count": 21,
   "id": "d4296688",
   "metadata": {},
   "outputs": [],
   "source": [
    "data_pp2=pd.read_csv('../../data/second/data_pp2.csv')"
   ]
  },
  {
   "cell_type": "markdown",
   "id": "3035dbb7",
   "metadata": {},
   "source": [
    "Opening my data"
   ]
  },
  {
   "cell_type": "code",
   "execution_count": 22,
   "id": "5bdf134e",
   "metadata": {},
   "outputs": [
    {
     "data": {
      "text/html": [
       "<div>\n",
       "<style scoped>\n",
       "    .dataframe tbody tr th:only-of-type {\n",
       "        vertical-align: middle;\n",
       "    }\n",
       "\n",
       "    .dataframe tbody tr th {\n",
       "        vertical-align: top;\n",
       "    }\n",
       "\n",
       "    .dataframe thead th {\n",
       "        text-align: right;\n",
       "    }\n",
       "</style>\n",
       "<table border=\"1\" class=\"dataframe\">\n",
       "  <thead>\n",
       "    <tr style=\"text-align: right;\">\n",
       "      <th></th>\n",
       "      <th>step</th>\n",
       "      <th>type</th>\n",
       "      <th>amount</th>\n",
       "      <th>oldbalanceOrg</th>\n",
       "      <th>newbalanceOrig</th>\n",
       "      <th>oldbalanceDest</th>\n",
       "      <th>newbalanceDest</th>\n",
       "      <th>isFraud</th>\n",
       "      <th>isFlaggedFraud</th>\n",
       "    </tr>\n",
       "  </thead>\n",
       "  <tbody>\n",
       "    <tr>\n",
       "      <th>0</th>\n",
       "      <td>252</td>\n",
       "      <td>3</td>\n",
       "      <td>9705.01</td>\n",
       "      <td>97382.00</td>\n",
       "      <td>87676.99</td>\n",
       "      <td>0.00</td>\n",
       "      <td>0.0</td>\n",
       "      <td>0</td>\n",
       "      <td>0</td>\n",
       "    </tr>\n",
       "    <tr>\n",
       "      <th>1</th>\n",
       "      <td>130</td>\n",
       "      <td>3</td>\n",
       "      <td>1418.55</td>\n",
       "      <td>0.00</td>\n",
       "      <td>0.00</td>\n",
       "      <td>0.00</td>\n",
       "      <td>0.0</td>\n",
       "      <td>0</td>\n",
       "      <td>0</td>\n",
       "    </tr>\n",
       "    <tr>\n",
       "      <th>2</th>\n",
       "      <td>19</td>\n",
       "      <td>3</td>\n",
       "      <td>41906.02</td>\n",
       "      <td>24888.89</td>\n",
       "      <td>0.00</td>\n",
       "      <td>0.00</td>\n",
       "      <td>0.0</td>\n",
       "      <td>0</td>\n",
       "      <td>0</td>\n",
       "    </tr>\n",
       "    <tr>\n",
       "      <th>3</th>\n",
       "      <td>358</td>\n",
       "      <td>3</td>\n",
       "      <td>27369.17</td>\n",
       "      <td>22002.00</td>\n",
       "      <td>0.00</td>\n",
       "      <td>0.00</td>\n",
       "      <td>0.0</td>\n",
       "      <td>0</td>\n",
       "      <td>0</td>\n",
       "    </tr>\n",
       "    <tr>\n",
       "      <th>4</th>\n",
       "      <td>228</td>\n",
       "      <td>1</td>\n",
       "      <td>26945.32</td>\n",
       "      <td>29732.00</td>\n",
       "      <td>2786.68</td>\n",
       "      <td>702178.98</td>\n",
       "      <td>729124.3</td>\n",
       "      <td>0</td>\n",
       "      <td>0</td>\n",
       "    </tr>\n",
       "  </tbody>\n",
       "</table>\n",
       "</div>"
      ],
      "text/plain": [
       "   step  type    amount  oldbalanceOrg  newbalanceOrig  oldbalanceDest  \\\n",
       "0   252     3   9705.01       97382.00        87676.99            0.00   \n",
       "1   130     3   1418.55           0.00            0.00            0.00   \n",
       "2    19     3  41906.02       24888.89            0.00            0.00   \n",
       "3   358     3  27369.17       22002.00            0.00            0.00   \n",
       "4   228     1  26945.32       29732.00         2786.68       702178.98   \n",
       "\n",
       "   newbalanceDest  isFraud  isFlaggedFraud  \n",
       "0             0.0        0               0  \n",
       "1             0.0        0               0  \n",
       "2             0.0        0               0  \n",
       "3             0.0        0               0  \n",
       "4        729124.3        0               0  "
      ]
     },
     "execution_count": 22,
     "metadata": {},
     "output_type": "execute_result"
    }
   ],
   "source": [
    "data_pp2.head()"
   ]
  },
  {
   "cell_type": "code",
   "execution_count": 23,
   "id": "a8288817",
   "metadata": {},
   "outputs": [],
   "source": [
    "X_pp2=data_pp2.drop('isFraud', axis=1)\n",
    "y_pp2=data_pp2['isFraud']"
   ]
  },
  {
   "cell_type": "markdown",
   "id": "6a00c533",
   "metadata": {},
   "source": [
    "Defining my target column"
   ]
  },
  {
   "cell_type": "code",
   "execution_count": 24,
   "id": "0e4e99d4",
   "metadata": {},
   "outputs": [],
   "source": [
    "X_train2, X_test2, y_train2, y_test2 = tts(X_pp2, y_pp2, \n",
    "                                       random_state=42,\n",
    "                                       stratify=y_pp2)"
   ]
  },
  {
   "cell_type": "markdown",
   "id": "a12989f7",
   "metadata": {},
   "source": [
    "Dividing into train and test"
   ]
  },
  {
   "cell_type": "code",
   "execution_count": 25,
   "id": "640f236e",
   "metadata": {},
   "outputs": [],
   "source": [
    "scaler = MinMaxScaler()\n",
    " \n",
    "scaler.fit(X_train2[['amount', 'oldbalanceOrg', 'newbalanceOrig', 'oldbalanceDest', 'newbalanceDest']])\n",
    " \n",
    "X_train2[['amount', 'oldbalanceOrg', 'newbalanceOrig', 'oldbalanceDest', 'newbalanceDest']] = scaler.transform(X_train2[['amount', 'oldbalanceOrg', 'newbalanceOrig', 'oldbalanceDest', 'newbalanceDest']])   \n",
    "X_test2[['amount', 'oldbalanceOrg', 'newbalanceOrig', 'oldbalanceDest', 'newbalanceDest']] = scaler.transform(X_test2[['amount', 'oldbalanceOrg', 'newbalanceOrig', 'oldbalanceDest', 'newbalanceDest']])  \n"
   ]
  },
  {
   "cell_type": "markdown",
   "id": "3f7c0986",
   "metadata": {},
   "source": [
    "Standardizing the data using minmaxscaler"
   ]
  },
  {
   "cell_type": "code",
   "execution_count": 26,
   "id": "de454e83",
   "metadata": {},
   "outputs": [
    {
     "data": {
      "text/html": [
       "<div>\n",
       "<style scoped>\n",
       "    .dataframe tbody tr th:only-of-type {\n",
       "        vertical-align: middle;\n",
       "    }\n",
       "\n",
       "    .dataframe tbody tr th {\n",
       "        vertical-align: top;\n",
       "    }\n",
       "\n",
       "    .dataframe thead th {\n",
       "        text-align: right;\n",
       "    }\n",
       "</style>\n",
       "<table border=\"1\" class=\"dataframe\">\n",
       "  <thead>\n",
       "    <tr style=\"text-align: right;\">\n",
       "      <th></th>\n",
       "      <th>step</th>\n",
       "      <th>type</th>\n",
       "      <th>amount</th>\n",
       "      <th>oldbalanceOrg</th>\n",
       "      <th>newbalanceOrig</th>\n",
       "      <th>oldbalanceDest</th>\n",
       "      <th>newbalanceDest</th>\n",
       "      <th>isFlaggedFraud</th>\n",
       "    </tr>\n",
       "  </thead>\n",
       "  <tbody>\n",
       "    <tr>\n",
       "      <th>37585</th>\n",
       "      <td>156</td>\n",
       "      <td>3</td>\n",
       "      <td>0.004310</td>\n",
       "      <td>0.633483</td>\n",
       "      <td>0.465212</td>\n",
       "      <td>0.000000</td>\n",
       "      <td>0.000000</td>\n",
       "      <td>0</td>\n",
       "    </tr>\n",
       "    <tr>\n",
       "      <th>194824</th>\n",
       "      <td>320</td>\n",
       "      <td>1</td>\n",
       "      <td>0.341262</td>\n",
       "      <td>0.638255</td>\n",
       "      <td>0.000000</td>\n",
       "      <td>0.032352</td>\n",
       "      <td>0.089264</td>\n",
       "      <td>0</td>\n",
       "    </tr>\n",
       "    <tr>\n",
       "      <th>67249</th>\n",
       "      <td>191</td>\n",
       "      <td>3</td>\n",
       "      <td>0.019503</td>\n",
       "      <td>0.156037</td>\n",
       "      <td>0.088934</td>\n",
       "      <td>0.000000</td>\n",
       "      <td>0.000000</td>\n",
       "      <td>0</td>\n",
       "    </tr>\n",
       "    <tr>\n",
       "      <th>152998</th>\n",
       "      <td>554</td>\n",
       "      <td>1</td>\n",
       "      <td>0.000000</td>\n",
       "      <td>0.000000</td>\n",
       "      <td>0.000000</td>\n",
       "      <td>0.097689</td>\n",
       "      <td>0.083068</td>\n",
       "      <td>0</td>\n",
       "    </tr>\n",
       "    <tr>\n",
       "      <th>282809</th>\n",
       "      <td>74</td>\n",
       "      <td>4</td>\n",
       "      <td>0.315924</td>\n",
       "      <td>0.590866</td>\n",
       "      <td>0.000000</td>\n",
       "      <td>0.000000</td>\n",
       "      <td>0.000000</td>\n",
       "      <td>0</td>\n",
       "    </tr>\n",
       "    <tr>\n",
       "      <th>...</th>\n",
       "      <td>...</td>\n",
       "      <td>...</td>\n",
       "      <td>...</td>\n",
       "      <td>...</td>\n",
       "      <td>...</td>\n",
       "      <td>...</td>\n",
       "      <td>...</td>\n",
       "      <td>...</td>\n",
       "    </tr>\n",
       "    <tr>\n",
       "      <th>77003</th>\n",
       "      <td>250</td>\n",
       "      <td>0</td>\n",
       "      <td>0.327474</td>\n",
       "      <td>0.151030</td>\n",
       "      <td>0.567918</td>\n",
       "      <td>0.208790</td>\n",
       "      <td>0.118281</td>\n",
       "      <td>0</td>\n",
       "    </tr>\n",
       "    <tr>\n",
       "      <th>54792</th>\n",
       "      <td>237</td>\n",
       "      <td>3</td>\n",
       "      <td>0.012822</td>\n",
       "      <td>0.001320</td>\n",
       "      <td>0.000000</td>\n",
       "      <td>0.000000</td>\n",
       "      <td>0.000000</td>\n",
       "      <td>0</td>\n",
       "    </tr>\n",
       "    <tr>\n",
       "      <th>53063</th>\n",
       "      <td>236</td>\n",
       "      <td>3</td>\n",
       "      <td>0.019832</td>\n",
       "      <td>0.042243</td>\n",
       "      <td>0.003832</td>\n",
       "      <td>0.000000</td>\n",
       "      <td>0.000000</td>\n",
       "      <td>0</td>\n",
       "    </tr>\n",
       "    <tr>\n",
       "      <th>211491</th>\n",
       "      <td>482</td>\n",
       "      <td>1</td>\n",
       "      <td>0.263996</td>\n",
       "      <td>0.493747</td>\n",
       "      <td>0.000000</td>\n",
       "      <td>0.000000</td>\n",
       "      <td>0.047772</td>\n",
       "      <td>0</td>\n",
       "    </tr>\n",
       "    <tr>\n",
       "      <th>198551</th>\n",
       "      <td>179</td>\n",
       "      <td>4</td>\n",
       "      <td>0.379913</td>\n",
       "      <td>0.710544</td>\n",
       "      <td>0.000000</td>\n",
       "      <td>0.000000</td>\n",
       "      <td>0.000000</td>\n",
       "      <td>0</td>\n",
       "    </tr>\n",
       "  </tbody>\n",
       "</table>\n",
       "<p>225000 rows × 8 columns</p>\n",
       "</div>"
      ],
      "text/plain": [
       "        step  type    amount  oldbalanceOrg  newbalanceOrig  oldbalanceDest  \\\n",
       "37585    156     3  0.004310       0.633483        0.465212        0.000000   \n",
       "194824   320     1  0.341262       0.638255        0.000000        0.032352   \n",
       "67249    191     3  0.019503       0.156037        0.088934        0.000000   \n",
       "152998   554     1  0.000000       0.000000        0.000000        0.097689   \n",
       "282809    74     4  0.315924       0.590866        0.000000        0.000000   \n",
       "...      ...   ...       ...            ...             ...             ...   \n",
       "77003    250     0  0.327474       0.151030        0.567918        0.208790   \n",
       "54792    237     3  0.012822       0.001320        0.000000        0.000000   \n",
       "53063    236     3  0.019832       0.042243        0.003832        0.000000   \n",
       "211491   482     1  0.263996       0.493747        0.000000        0.000000   \n",
       "198551   179     4  0.379913       0.710544        0.000000        0.000000   \n",
       "\n",
       "        newbalanceDest  isFlaggedFraud  \n",
       "37585         0.000000               0  \n",
       "194824        0.089264               0  \n",
       "67249         0.000000               0  \n",
       "152998        0.083068               0  \n",
       "282809        0.000000               0  \n",
       "...                ...             ...  \n",
       "77003         0.118281               0  \n",
       "54792         0.000000               0  \n",
       "53063         0.000000               0  \n",
       "211491        0.047772               0  \n",
       "198551        0.000000               0  \n",
       "\n",
       "[225000 rows x 8 columns]"
      ]
     },
     "execution_count": 26,
     "metadata": {},
     "output_type": "execute_result"
    }
   ],
   "source": [
    "X_train2"
   ]
  },
  {
   "cell_type": "markdown",
   "id": "3384b440",
   "metadata": {},
   "source": [
    "checking the data after standardization"
   ]
  },
  {
   "cell_type": "code",
   "execution_count": 27,
   "id": "66bf6b50",
   "metadata": {},
   "outputs": [],
   "source": [
    "lr_pp2=LogisticRegression()\n",
    "dt_pp2=DecisionTreeClassifier()\n",
    "rf_pp2=RandomForestClassifier()"
   ]
  },
  {
   "cell_type": "markdown",
   "id": "5299993e",
   "metadata": {},
   "source": [
    "Initiated the models"
   ]
  },
  {
   "cell_type": "code",
   "execution_count": null,
   "id": "2ab0291c",
   "metadata": {},
   "outputs": [],
   "source": [
    "lr_pp2.fit(X_train2, y_train2)\n",
    "dt_pp2.fit(X_train2, y_train2)\n",
    "rf_pp2.fit(X_train2, y_train2)"
   ]
  },
  {
   "cell_type": "markdown",
   "id": "6c37313e",
   "metadata": {},
   "source": [
    "Fitting the models"
   ]
  },
  {
   "cell_type": "code",
   "execution_count": null,
   "id": "ccc0b1e7",
   "metadata": {},
   "outputs": [],
   "source": [
    "y_test_pred_lr_pp2 = lr_pp2.predict(X_test2)\n",
    "y_test_pred_dt_pp2 = dt_pp2.predict(X_test2)\n",
    "y_test_pred_rf_pp2 = rf_pp2.predict(X_test2)"
   ]
  },
  {
   "cell_type": "code",
   "execution_count": null,
   "id": "2277905d",
   "metadata": {},
   "outputs": [],
   "source": [
    "y_train_pred_lr_pp2 = lr_pp2.predict(X_train2)\n",
    "y_train_pred_dt_pp2 = dt_pp2.predict(X_train2)\n",
    "y_train_pred_rf_pp2 = rf_pp2.predict(X_train2)"
   ]
  },
  {
   "cell_type": "markdown",
   "id": "efcc7e14",
   "metadata": {},
   "source": [
    "Getting the predictions"
   ]
  },
  {
   "cell_type": "code",
   "execution_count": null,
   "id": "dde5c412",
   "metadata": {},
   "outputs": [],
   "source": [
    "results_lr_pp2= metrics(y_test2, y_test_pred_lr_pp2, y_train2, y_train_pred_lr_pp2, 'Logistic Regression pp2')\n",
    "results_dt_pp2= metrics(y_test2, y_test_pred_dt_pp2, y_train2, y_train_pred_dt_pp2, 'Decision Tree pp2')\n",
    "results_rf_pp2= metrics(y_test2, y_test_pred_rf_pp2, y_train2, y_train_pred_rf_pp2, 'Random Forest pp2')"
   ]
  },
  {
   "cell_type": "markdown",
   "id": "d0f89b69",
   "metadata": {},
   "source": [
    "Getting the metrics for the model"
   ]
  },
  {
   "cell_type": "code",
   "execution_count": null,
   "id": "b4d88f5c",
   "metadata": {},
   "outputs": [],
   "source": [
    "results_pp2=pd.concat([results_lr_pp2, results_dt_pp2, results_rf_pp2], axis=0)\n",
    "results_pp2"
   ]
  },
  {
   "cell_type": "markdown",
   "id": "b35b3157",
   "metadata": {},
   "source": [
    "Again, we can see that the logistic regression model is working fairly well, but could be improved. As for the Decision Tree and Random Forest they are working perfectly well. "
   ]
  },
  {
   "cell_type": "code",
   "execution_count": null,
   "id": "35ccc8d4",
   "metadata": {},
   "outputs": [],
   "source": [
    "#linear regression confusion matrix\n",
    "plt.figure(figsize=(15, 8))\n",
    "\n",
    "ax=sns.heatmap(cm(y_test2, y_test_pred_lr_pp2)/cm(y_test2, y_test_pred_lr_pp2).sum() * 100, \n",
    "               annot=True)\n",
    "\n",
    "plt.title('Confusion Matrix')\n",
    "plt.ylabel('Truth')\n",
    "plt.xlabel('Prediction')\n",
    "plt.show();\n",
    "\n"
   ]
  },
  {
   "cell_type": "markdown",
   "id": "866a1609",
   "metadata": {},
   "source": [
    "From the confusion matrix above we can see this model has 47% True Negatives (Predicted not fraud when it is actually not fraud),  46% True Positives (Predicted fraud that is actually fraud), 4.2% False Negatives (Predicted no fraud when there was fraud) and 2.9% False Positives (Predicted fraud when there was no fraud) "
   ]
  },
  {
   "cell_type": "code",
   "execution_count": null,
   "id": "5739cc32",
   "metadata": {},
   "outputs": [],
   "source": [
    "#decision tree confusion matrix\n",
    "plt.figure(figsize=(15, 8))\n",
    "\n",
    "ax=sns.heatmap(cm(y_test2, y_test_pred_dt_pp2)/cm(y_test2, y_test_pred_dt_pp2).sum() * 100, \n",
    "               annot=True)\n",
    "\n",
    "plt.title('Confusion Matrix')\n",
    "plt.ylabel('Truth')\n",
    "plt.xlabel('Prediction')\n",
    "plt.show();\n"
   ]
  },
  {
   "cell_type": "markdown",
   "id": "fe530c53",
   "metadata": {},
   "source": [
    "From the confusion matrix above we can see this model has 50% True Negatives (Predicted not fraud when it is actually not fraud),  50% True Positives (Predicted fraud that is actually fraud), 0% False Negatives (Predicted no fraud when there was fraud) and 0.071% False Positives (Predicted fraud when there was no fraud) "
   ]
  },
  {
   "cell_type": "code",
   "execution_count": null,
   "id": "053c4050",
   "metadata": {},
   "outputs": [],
   "source": [
    "#random forest confusion matrix\n",
    "plt.figure(figsize=(15, 8))\n",
    "\n",
    "ax=sns.heatmap(cm(y_test2, y_test_pred_rf_pp2)/cm(y_test2, y_test_pred_rf_pp2).sum() * 100, \n",
    "               annot=True)\n",
    "\n",
    "plt.title('Confusion Matrix')\n",
    "plt.ylabel('Truth')\n",
    "plt.xlabel('Prediction')\n",
    "plt.show();\n"
   ]
  },
  {
   "cell_type": "markdown",
   "id": "53155cfd",
   "metadata": {},
   "source": [
    "From the confusion matrix above we can see this model has 50% True Negatives (Predicted not fraud when it is actually not fraud),  50% True Positives (Predicted fraud that is actually fraud), 0% False Negatives (Predicted no fraud when there was fraud) and 0.075% False Positives (Predicted fraud when there was no fraud) "
   ]
  },
  {
   "cell_type": "code",
   "execution_count": null,
   "id": "2a6d43c2",
   "metadata": {},
   "outputs": [],
   "source": [
    "#calculating the importance of each column for logistic regression model\n",
    "perm_importancepp2_lr = permutation_importance(lr_pp2, X_test2, y_test2, n_repeats=30, random_state=42)\n",
    "\n",
    "for feature, importance in zip(X_pp2.columns, perm_importancepp2_lr.importances_mean):\n",
    "    print(f\"{feature}: {importance}\")\n",
    "\n",
    "sorted_idx = perm_importancepp2_lr.importances_mean.argsort()[::-1]\n",
    "plt.bar(range(X_pp2.shape[1]), perm_importancepp2_lr.importances_mean[sorted_idx])\n",
    "plt.xticks(range(X_pp2.shape[1]), X_pp2.columns[sorted_idx], rotation=45)\n",
    "plt.show()\n"
   ]
  },
  {
   "cell_type": "code",
   "execution_count": null,
   "id": "8ff709d2",
   "metadata": {},
   "outputs": [],
   "source": [
    "#calculating the importance of each column for the decision tree model\n",
    "perm_importancepp2_dt = permutation_importance(dt_pp2, X_test2, y_test2, n_repeats=30, random_state=42)\n",
    "\n",
    "for feature, importance in zip(X_pp2.columns, perm_importancepp2_dt.importances_mean):\n",
    "    print(f\"{feature}: {importance}\")\n",
    "\n",
    "sorted_idx = perm_importancepp2_lr.importances_mean.argsort()[::-1]\n",
    "plt.bar(range(X_pp2.shape[1]), perm_importancepp2_dt.importances_mean[sorted_idx])\n",
    "plt.xticks(range(X_pp2.shape[1]), X_pp2.columns[sorted_idx], rotation=45)\n",
    "plt.show()\n"
   ]
  },
  {
   "cell_type": "markdown",
   "id": "ec508647",
   "metadata": {},
   "source": [
    "## Combining the results"
   ]
  },
  {
   "cell_type": "code",
   "execution_count": null,
   "id": "8a5e11d6",
   "metadata": {},
   "outputs": [],
   "source": [
    "results=pd.concat([results_pp1, results_pp2, ], axis=0)"
   ]
  },
  {
   "cell_type": "code",
   "execution_count": null,
   "id": "cdc7046d",
   "metadata": {},
   "outputs": [],
   "source": [
    "results"
   ]
  },
  {
   "cell_type": "markdown",
   "id": "79300dc2",
   "metadata": {},
   "source": [
    "## Conclusions:\n",
    "\n",
    "The preprocessing that works the best for the models is pp2 (we can see it the most with the logistic regression model). Out of all models the one with the best metrics is Decision Tree pp2. For all models we see that the train metrics are slightly better than the test data. This is normal. What we want to avoid is for a big difference between the test and train sets. If the train set´s metrics are a significantly higher than the test´s then it means that the model is overfitted (which is not the case here). \n"
   ]
  },
  {
   "cell_type": "code",
   "execution_count": null,
   "id": "8cf64db9",
   "metadata": {},
   "outputs": [],
   "source": [
    "#Saving the models\n",
    "pickle.dump(lr_pp1, open('models/logistic_regression_pp1.pk', 'wb'))  \n",
    "pickle.dump(dt_pp1, open('models/decision_tree_pp1.pk', 'wb'))  \n",
    "pickle.dump(rf_pp1, open('models/random_forest_pp1.pk', 'wb'))  \n",
    "pickle.dump(lr_pp2, open('models/logistic_regression_pp2.pk', 'wb'))  \n",
    "pickle.dump(dt_pp2, open('models/decision_tree_pp2.pk', 'wb'))  \n",
    "pickle.dump(rf_pp2, open('models/random_forest_pp2.pk', 'wb'))  "
   ]
  }
 ],
 "metadata": {
  "kernelspec": {
   "display_name": "Python 3 (ipykernel)",
   "language": "python",
   "name": "python3"
  },
  "language_info": {
   "codemirror_mode": {
    "name": "ipython",
    "version": 3
   },
   "file_extension": ".py",
   "mimetype": "text/x-python",
   "name": "python",
   "nbconvert_exporter": "python",
   "pygments_lexer": "ipython3",
   "version": "3.11.4"
  }
 },
 "nbformat": 4,
 "nbformat_minor": 5
}
