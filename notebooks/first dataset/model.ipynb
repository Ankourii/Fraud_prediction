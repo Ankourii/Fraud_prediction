{
 "cells": [
  {
   "cell_type": "code",
   "execution_count": 1,
   "id": "cc6b7240",
   "metadata": {},
   "outputs": [],
   "source": [
    "# to ignore warnings\n",
    "import warnings\n",
    "warnings.filterwarnings('ignore')\n",
    "\n",
    "#necessary libraries to handle dataframes and numeric data \n",
    "import pandas as pd\n",
    "import numpy as np\n",
    "\n",
    "# for visuals\n",
    "import pylab as plt\n",
    "import seaborn as sns\n",
    "%matplotlib inline\n",
    "\n",
    "# for data splitting into train and test\n",
    "from sklearn.model_selection import train_test_split as tts\n",
    "\n",
    "#the models\n",
    "from sklearn.linear_model import LogisticRegression\n",
    "from sklearn.ensemble import RandomForestClassifier\n",
    "from sklearn.tree import DecisionTreeClassifier\n",
    "\n",
    "#the metrics\n",
    "from sklearn.metrics import confusion_matrix as cm\n",
    "from sklearn.metrics import accuracy_score \n",
    "from sklearn.metrics import precision_score \n",
    "from sklearn.metrics import recall_score \n",
    "from sklearn.metrics import f1_score\n",
    "from sklearn.metrics import cohen_kappa_score\n",
    "\n",
    "# to standardize\n",
    "from sklearn.preprocessing import StandardScaler\n",
    "\n",
    "#for hyperparameter tuning\n",
    "from hyperopt import fmin, hp, tpe, Trials, space_eval, STATUS_OK\n",
    "from sklearn.metrics import make_scorer \n",
    "from sklearn.model_selection import cross_val_score\n",
    "\n",
    "#to save the model\n",
    "import pickle\n",
    "\n",
    "# to get the most important columns\n",
    "import statsmodels.api as sm\n",
    "from sklearn.inspection import permutation_importance"
   ]
  },
  {
   "cell_type": "code",
   "execution_count": 2,
   "id": "d27c3b01",
   "metadata": {},
   "outputs": [],
   "source": [
    "data=pd.read_csv('../../data/data_balanced.csv')"
   ]
  },
  {
   "cell_type": "markdown",
   "id": "f0e413f3",
   "metadata": {},
   "source": [
    "Importing my data"
   ]
  },
  {
   "cell_type": "markdown",
   "id": "27474401",
   "metadata": {},
   "source": [
    "I will preprocess the data in different ways and will finally choose the model that works the best "
   ]
  },
  {
   "cell_type": "markdown",
   "id": "908ad377",
   "metadata": {},
   "source": [
    "## Preprocessing 1: "
   ]
  },
  {
   "cell_type": "code",
   "execution_count": 3,
   "id": "d56a2b50",
   "metadata": {},
   "outputs": [
    {
     "data": {
      "text/html": [
       "<div>\n",
       "<style scoped>\n",
       "    .dataframe tbody tr th:only-of-type {\n",
       "        vertical-align: middle;\n",
       "    }\n",
       "\n",
       "    .dataframe tbody tr th {\n",
       "        vertical-align: top;\n",
       "    }\n",
       "\n",
       "    .dataframe thead th {\n",
       "        text-align: right;\n",
       "    }\n",
       "</style>\n",
       "<table border=\"1\" class=\"dataframe\">\n",
       "  <thead>\n",
       "    <tr style=\"text-align: right;\">\n",
       "      <th></th>\n",
       "      <th>distance_from_home</th>\n",
       "      <th>distance_from_last_transaction</th>\n",
       "      <th>ratio_to_median_purchase_price</th>\n",
       "      <th>repeat_retailer</th>\n",
       "      <th>used_chip</th>\n",
       "      <th>used_pin_number</th>\n",
       "      <th>online_order</th>\n",
       "      <th>fraud</th>\n",
       "    </tr>\n",
       "  </thead>\n",
       "  <tbody>\n",
       "    <tr>\n",
       "      <th>0</th>\n",
       "      <td>2.131956</td>\n",
       "      <td>56.372401</td>\n",
       "      <td>6.358667</td>\n",
       "      <td>1.0</td>\n",
       "      <td>0.0</td>\n",
       "      <td>0.0</td>\n",
       "      <td>1.0</td>\n",
       "      <td>1.0</td>\n",
       "    </tr>\n",
       "    <tr>\n",
       "      <th>1</th>\n",
       "      <td>3.803057</td>\n",
       "      <td>67.241081</td>\n",
       "      <td>1.872950</td>\n",
       "      <td>1.0</td>\n",
       "      <td>0.0</td>\n",
       "      <td>0.0</td>\n",
       "      <td>1.0</td>\n",
       "      <td>1.0</td>\n",
       "    </tr>\n",
       "    <tr>\n",
       "      <th>2</th>\n",
       "      <td>15.694986</td>\n",
       "      <td>175.989182</td>\n",
       "      <td>0.855623</td>\n",
       "      <td>1.0</td>\n",
       "      <td>0.0</td>\n",
       "      <td>0.0</td>\n",
       "      <td>1.0</td>\n",
       "      <td>1.0</td>\n",
       "    </tr>\n",
       "    <tr>\n",
       "      <th>3</th>\n",
       "      <td>26.711462</td>\n",
       "      <td>1.552008</td>\n",
       "      <td>4.603601</td>\n",
       "      <td>1.0</td>\n",
       "      <td>1.0</td>\n",
       "      <td>0.0</td>\n",
       "      <td>1.0</td>\n",
       "      <td>1.0</td>\n",
       "    </tr>\n",
       "    <tr>\n",
       "      <th>4</th>\n",
       "      <td>10.664474</td>\n",
       "      <td>1.565769</td>\n",
       "      <td>4.886521</td>\n",
       "      <td>1.0</td>\n",
       "      <td>0.0</td>\n",
       "      <td>0.0</td>\n",
       "      <td>1.0</td>\n",
       "      <td>1.0</td>\n",
       "    </tr>\n",
       "  </tbody>\n",
       "</table>\n",
       "</div>"
      ],
      "text/plain": [
       "   distance_from_home  distance_from_last_transaction  \\\n",
       "0            2.131956                       56.372401   \n",
       "1            3.803057                       67.241081   \n",
       "2           15.694986                      175.989182   \n",
       "3           26.711462                        1.552008   \n",
       "4           10.664474                        1.565769   \n",
       "\n",
       "   ratio_to_median_purchase_price  repeat_retailer  used_chip  \\\n",
       "0                        6.358667              1.0        0.0   \n",
       "1                        1.872950              1.0        0.0   \n",
       "2                        0.855623              1.0        0.0   \n",
       "3                        4.603601              1.0        1.0   \n",
       "4                        4.886521              1.0        0.0   \n",
       "\n",
       "   used_pin_number  online_order  fraud  \n",
       "0              0.0           1.0    1.0  \n",
       "1              0.0           1.0    1.0  \n",
       "2              0.0           1.0    1.0  \n",
       "3              0.0           1.0    1.0  \n",
       "4              0.0           1.0    1.0  "
      ]
     },
     "execution_count": 3,
     "metadata": {},
     "output_type": "execute_result"
    }
   ],
   "source": [
    "data.head()"
   ]
  },
  {
   "cell_type": "code",
   "execution_count": 4,
   "id": "9e0a3d5c",
   "metadata": {},
   "outputs": [],
   "source": [
    "X=data.drop('fraud', axis=1)\n",
    "y=data['fraud']"
   ]
  },
  {
   "cell_type": "code",
   "execution_count": 5,
   "id": "1ccc5746",
   "metadata": {},
   "outputs": [],
   "source": [
    "X_train, X_test, y_train, y_test =tts(X, y, \n",
    "                                       random_state=42,\n",
    "                                       stratify=y)\n"
   ]
  },
  {
   "cell_type": "code",
   "execution_count": 6,
   "id": "4cac48a6",
   "metadata": {},
   "outputs": [],
   "source": [
    "escalador = StandardScaler()   \n",
    " \n",
    "escalador.fit(X_train[['distance_from_home', 'distance_from_last_transaction', 'ratio_to_median_purchase_price']])\n",
    " \n",
    "X_train[['distance_from_home', 'distance_from_last_transaction', 'ratio_to_median_purchase_price']] = escalador.transform(X_train[['distance_from_home', 'distance_from_last_transaction', 'ratio_to_median_purchase_price']])   \n",
    "X_test[['distance_from_home', 'distance_from_last_transaction', 'ratio_to_median_purchase_price']] = escalador.transform(X_test[['distance_from_home', 'distance_from_last_transaction', 'ratio_to_median_purchase_price']])  \n"
   ]
  },
  {
   "cell_type": "markdown",
   "id": "dfa47b89",
   "metadata": {},
   "source": [
    "Standardising the numeric columns 'distance_from_home', 'distance_from_last_transaction' and 'ration_to_median_purchase_price' since they have different scales . Data needs to be more or less on the same scale so that the model doesn´t give preference to one column over the other due to the scale being higher. Please note I fitted the train dataset and transformed both train and test with that information. You can read more about that in the below article\n",
    "https://sebastianraschka.com/faq/docs/scale-training-test.html"
   ]
  },
  {
   "cell_type": "code",
   "execution_count": 7,
   "id": "f33b5770",
   "metadata": {},
   "outputs": [
    {
     "data": {
      "text/html": [
       "<div>\n",
       "<style scoped>\n",
       "    .dataframe tbody tr th:only-of-type {\n",
       "        vertical-align: middle;\n",
       "    }\n",
       "\n",
       "    .dataframe tbody tr th {\n",
       "        vertical-align: top;\n",
       "    }\n",
       "\n",
       "    .dataframe thead th {\n",
       "        text-align: right;\n",
       "    }\n",
       "</style>\n",
       "<table border=\"1\" class=\"dataframe\">\n",
       "  <thead>\n",
       "    <tr style=\"text-align: right;\">\n",
       "      <th></th>\n",
       "      <th>distance_from_home</th>\n",
       "      <th>distance_from_last_transaction</th>\n",
       "      <th>ratio_to_median_purchase_price</th>\n",
       "      <th>repeat_retailer</th>\n",
       "      <th>used_chip</th>\n",
       "      <th>used_pin_number</th>\n",
       "      <th>online_order</th>\n",
       "    </tr>\n",
       "  </thead>\n",
       "  <tbody>\n",
       "    <tr>\n",
       "      <th>34364</th>\n",
       "      <td>-0.407100</td>\n",
       "      <td>-0.197373</td>\n",
       "      <td>0.337115</td>\n",
       "      <td>1.0</td>\n",
       "      <td>0.0</td>\n",
       "      <td>0.0</td>\n",
       "      <td>1.0</td>\n",
       "    </tr>\n",
       "    <tr>\n",
       "      <th>21079</th>\n",
       "      <td>-0.309508</td>\n",
       "      <td>-0.131652</td>\n",
       "      <td>1.266614</td>\n",
       "      <td>1.0</td>\n",
       "      <td>0.0</td>\n",
       "      <td>0.0</td>\n",
       "      <td>1.0</td>\n",
       "    </tr>\n",
       "    <tr>\n",
       "      <th>100073</th>\n",
       "      <td>-0.353875</td>\n",
       "      <td>-0.106955</td>\n",
       "      <td>-0.472580</td>\n",
       "      <td>1.0</td>\n",
       "      <td>0.0</td>\n",
       "      <td>0.0</td>\n",
       "      <td>0.0</td>\n",
       "    </tr>\n",
       "    <tr>\n",
       "      <th>5769</th>\n",
       "      <td>-0.370031</td>\n",
       "      <td>-0.211139</td>\n",
       "      <td>0.479994</td>\n",
       "      <td>1.0</td>\n",
       "      <td>0.0</td>\n",
       "      <td>0.0</td>\n",
       "      <td>1.0</td>\n",
       "    </tr>\n",
       "    <tr>\n",
       "      <th>57842</th>\n",
       "      <td>-0.424345</td>\n",
       "      <td>-0.139255</td>\n",
       "      <td>0.617343</td>\n",
       "      <td>0.0</td>\n",
       "      <td>0.0</td>\n",
       "      <td>0.0</td>\n",
       "      <td>0.0</td>\n",
       "    </tr>\n",
       "  </tbody>\n",
       "</table>\n",
       "</div>"
      ],
      "text/plain": [
       "        distance_from_home  distance_from_last_transaction  \\\n",
       "34364            -0.407100                       -0.197373   \n",
       "21079            -0.309508                       -0.131652   \n",
       "100073           -0.353875                       -0.106955   \n",
       "5769             -0.370031                       -0.211139   \n",
       "57842            -0.424345                       -0.139255   \n",
       "\n",
       "        ratio_to_median_purchase_price  repeat_retailer  used_chip  \\\n",
       "34364                         0.337115              1.0        0.0   \n",
       "21079                         1.266614              1.0        0.0   \n",
       "100073                       -0.472580              1.0        0.0   \n",
       "5769                          0.479994              1.0        0.0   \n",
       "57842                         0.617343              0.0        0.0   \n",
       "\n",
       "        used_pin_number  online_order  \n",
       "34364               0.0           1.0  \n",
       "21079               0.0           1.0  \n",
       "100073              0.0           0.0  \n",
       "5769                0.0           1.0  \n",
       "57842               0.0           0.0  "
      ]
     },
     "execution_count": 7,
     "metadata": {},
     "output_type": "execute_result"
    }
   ],
   "source": [
    "X_train.head()"
   ]
  },
  {
   "cell_type": "code",
   "execution_count": 8,
   "id": "7d415eeb",
   "metadata": {},
   "outputs": [
    {
     "data": {
      "text/html": [
       "<div>\n",
       "<style scoped>\n",
       "    .dataframe tbody tr th:only-of-type {\n",
       "        vertical-align: middle;\n",
       "    }\n",
       "\n",
       "    .dataframe tbody tr th {\n",
       "        vertical-align: top;\n",
       "    }\n",
       "\n",
       "    .dataframe thead th {\n",
       "        text-align: right;\n",
       "    }\n",
       "</style>\n",
       "<table border=\"1\" class=\"dataframe\">\n",
       "  <thead>\n",
       "    <tr style=\"text-align: right;\">\n",
       "      <th></th>\n",
       "      <th>distance_from_home</th>\n",
       "      <th>distance_from_last_transaction</th>\n",
       "      <th>ratio_to_median_purchase_price</th>\n",
       "      <th>repeat_retailer</th>\n",
       "      <th>used_chip</th>\n",
       "      <th>used_pin_number</th>\n",
       "      <th>online_order</th>\n",
       "    </tr>\n",
       "  </thead>\n",
       "  <tbody>\n",
       "    <tr>\n",
       "      <th>116281</th>\n",
       "      <td>-0.268551</td>\n",
       "      <td>-0.192260</td>\n",
       "      <td>0.124602</td>\n",
       "      <td>1.0</td>\n",
       "      <td>0.0</td>\n",
       "      <td>1.0</td>\n",
       "      <td>1.0</td>\n",
       "    </tr>\n",
       "    <tr>\n",
       "      <th>61152</th>\n",
       "      <td>-0.389862</td>\n",
       "      <td>-0.209752</td>\n",
       "      <td>1.180487</td>\n",
       "      <td>1.0</td>\n",
       "      <td>0.0</td>\n",
       "      <td>0.0</td>\n",
       "      <td>1.0</td>\n",
       "    </tr>\n",
       "    <tr>\n",
       "      <th>105136</th>\n",
       "      <td>-0.099497</td>\n",
       "      <td>-0.190219</td>\n",
       "      <td>-0.198441</td>\n",
       "      <td>1.0</td>\n",
       "      <td>0.0</td>\n",
       "      <td>1.0</td>\n",
       "      <td>1.0</td>\n",
       "    </tr>\n",
       "    <tr>\n",
       "      <th>161774</th>\n",
       "      <td>-0.364760</td>\n",
       "      <td>5.560881</td>\n",
       "      <td>-0.355935</td>\n",
       "      <td>1.0</td>\n",
       "      <td>0.0</td>\n",
       "      <td>1.0</td>\n",
       "      <td>1.0</td>\n",
       "    </tr>\n",
       "    <tr>\n",
       "      <th>154787</th>\n",
       "      <td>-0.428819</td>\n",
       "      <td>-0.033384</td>\n",
       "      <td>-0.630839</td>\n",
       "      <td>0.0</td>\n",
       "      <td>1.0</td>\n",
       "      <td>0.0</td>\n",
       "      <td>0.0</td>\n",
       "    </tr>\n",
       "  </tbody>\n",
       "</table>\n",
       "</div>"
      ],
      "text/plain": [
       "        distance_from_home  distance_from_last_transaction  \\\n",
       "116281           -0.268551                       -0.192260   \n",
       "61152            -0.389862                       -0.209752   \n",
       "105136           -0.099497                       -0.190219   \n",
       "161774           -0.364760                        5.560881   \n",
       "154787           -0.428819                       -0.033384   \n",
       "\n",
       "        ratio_to_median_purchase_price  repeat_retailer  used_chip  \\\n",
       "116281                        0.124602              1.0        0.0   \n",
       "61152                         1.180487              1.0        0.0   \n",
       "105136                       -0.198441              1.0        0.0   \n",
       "161774                       -0.355935              1.0        0.0   \n",
       "154787                       -0.630839              0.0        1.0   \n",
       "\n",
       "        used_pin_number  online_order  \n",
       "116281              1.0           1.0  \n",
       "61152               0.0           1.0  \n",
       "105136              1.0           1.0  \n",
       "161774              1.0           1.0  \n",
       "154787              0.0           0.0  "
      ]
     },
     "execution_count": 8,
     "metadata": {},
     "output_type": "execute_result"
    }
   ],
   "source": [
    "X_test.head()"
   ]
  },
  {
   "cell_type": "markdown",
   "id": "c04bf465",
   "metadata": {},
   "source": [
    "This is how train and test looks like now "
   ]
  },
  {
   "cell_type": "code",
   "execution_count": 9,
   "id": "5c6f8d46",
   "metadata": {},
   "outputs": [],
   "source": [
    "lr=LogisticRegression()\n",
    "rf=RandomForestClassifier()\n",
    "dt=DecisionTreeClassifier()"
   ]
  },
  {
   "cell_type": "markdown",
   "id": "5838d3b1",
   "metadata": {},
   "source": [
    "Initiated the models"
   ]
  },
  {
   "cell_type": "code",
   "execution_count": 10,
   "id": "44588c97",
   "metadata": {},
   "outputs": [
    {
     "data": {
      "text/html": [
       "<style>#sk-container-id-1 {color: black;}#sk-container-id-1 pre{padding: 0;}#sk-container-id-1 div.sk-toggleable {background-color: white;}#sk-container-id-1 label.sk-toggleable__label {cursor: pointer;display: block;width: 100%;margin-bottom: 0;padding: 0.3em;box-sizing: border-box;text-align: center;}#sk-container-id-1 label.sk-toggleable__label-arrow:before {content: \"▸\";float: left;margin-right: 0.25em;color: #696969;}#sk-container-id-1 label.sk-toggleable__label-arrow:hover:before {color: black;}#sk-container-id-1 div.sk-estimator:hover label.sk-toggleable__label-arrow:before {color: black;}#sk-container-id-1 div.sk-toggleable__content {max-height: 0;max-width: 0;overflow: hidden;text-align: left;background-color: #f0f8ff;}#sk-container-id-1 div.sk-toggleable__content pre {margin: 0.2em;color: black;border-radius: 0.25em;background-color: #f0f8ff;}#sk-container-id-1 input.sk-toggleable__control:checked~div.sk-toggleable__content {max-height: 200px;max-width: 100%;overflow: auto;}#sk-container-id-1 input.sk-toggleable__control:checked~label.sk-toggleable__label-arrow:before {content: \"▾\";}#sk-container-id-1 div.sk-estimator input.sk-toggleable__control:checked~label.sk-toggleable__label {background-color: #d4ebff;}#sk-container-id-1 div.sk-label input.sk-toggleable__control:checked~label.sk-toggleable__label {background-color: #d4ebff;}#sk-container-id-1 input.sk-hidden--visually {border: 0;clip: rect(1px 1px 1px 1px);clip: rect(1px, 1px, 1px, 1px);height: 1px;margin: -1px;overflow: hidden;padding: 0;position: absolute;width: 1px;}#sk-container-id-1 div.sk-estimator {font-family: monospace;background-color: #f0f8ff;border: 1px dotted black;border-radius: 0.25em;box-sizing: border-box;margin-bottom: 0.5em;}#sk-container-id-1 div.sk-estimator:hover {background-color: #d4ebff;}#sk-container-id-1 div.sk-parallel-item::after {content: \"\";width: 100%;border-bottom: 1px solid gray;flex-grow: 1;}#sk-container-id-1 div.sk-label:hover label.sk-toggleable__label {background-color: #d4ebff;}#sk-container-id-1 div.sk-serial::before {content: \"\";position: absolute;border-left: 1px solid gray;box-sizing: border-box;top: 0;bottom: 0;left: 50%;z-index: 0;}#sk-container-id-1 div.sk-serial {display: flex;flex-direction: column;align-items: center;background-color: white;padding-right: 0.2em;padding-left: 0.2em;position: relative;}#sk-container-id-1 div.sk-item {position: relative;z-index: 1;}#sk-container-id-1 div.sk-parallel {display: flex;align-items: stretch;justify-content: center;background-color: white;position: relative;}#sk-container-id-1 div.sk-item::before, #sk-container-id-1 div.sk-parallel-item::before {content: \"\";position: absolute;border-left: 1px solid gray;box-sizing: border-box;top: 0;bottom: 0;left: 50%;z-index: -1;}#sk-container-id-1 div.sk-parallel-item {display: flex;flex-direction: column;z-index: 1;position: relative;background-color: white;}#sk-container-id-1 div.sk-parallel-item:first-child::after {align-self: flex-end;width: 50%;}#sk-container-id-1 div.sk-parallel-item:last-child::after {align-self: flex-start;width: 50%;}#sk-container-id-1 div.sk-parallel-item:only-child::after {width: 0;}#sk-container-id-1 div.sk-dashed-wrapped {border: 1px dashed gray;margin: 0 0.4em 0.5em 0.4em;box-sizing: border-box;padding-bottom: 0.4em;background-color: white;}#sk-container-id-1 div.sk-label label {font-family: monospace;font-weight: bold;display: inline-block;line-height: 1.2em;}#sk-container-id-1 div.sk-label-container {text-align: center;}#sk-container-id-1 div.sk-container {/* jupyter's `normalize.less` sets `[hidden] { display: none; }` but bootstrap.min.css set `[hidden] { display: none !important; }` so we also need the `!important` here to be able to override the default hidden behavior on the sphinx rendered scikit-learn.org. See: https://github.com/scikit-learn/scikit-learn/issues/21755 */display: inline-block !important;position: relative;}#sk-container-id-1 div.sk-text-repr-fallback {display: none;}</style><div id=\"sk-container-id-1\" class=\"sk-top-container\"><div class=\"sk-text-repr-fallback\"><pre>DecisionTreeClassifier()</pre><b>In a Jupyter environment, please rerun this cell to show the HTML representation or trust the notebook. <br />On GitHub, the HTML representation is unable to render, please try loading this page with nbviewer.org.</b></div><div class=\"sk-container\" hidden><div class=\"sk-item\"><div class=\"sk-estimator sk-toggleable\"><input class=\"sk-toggleable__control sk-hidden--visually\" id=\"sk-estimator-id-1\" type=\"checkbox\" checked><label for=\"sk-estimator-id-1\" class=\"sk-toggleable__label sk-toggleable__label-arrow\">DecisionTreeClassifier</label><div class=\"sk-toggleable__content\"><pre>DecisionTreeClassifier()</pre></div></div></div></div></div>"
      ],
      "text/plain": [
       "DecisionTreeClassifier()"
      ]
     },
     "execution_count": 10,
     "metadata": {},
     "output_type": "execute_result"
    }
   ],
   "source": [
    "lr.fit(X_train, y_train)\n",
    "rf.fit(X_train, y_train)\n",
    "dt.fit(X_train, y_train)"
   ]
  },
  {
   "cell_type": "markdown",
   "id": "cf74b262",
   "metadata": {},
   "source": [
    "Trained the models"
   ]
  },
  {
   "cell_type": "code",
   "execution_count": 11,
   "id": "9a0253fe",
   "metadata": {},
   "outputs": [],
   "source": [
    "y_test_pred_lr = lr.predict(X_test)\n",
    "y_test_pred_rf = rf.predict(X_test)\n",
    "y_test_pred_dt = dt.predict(X_test)"
   ]
  },
  {
   "cell_type": "code",
   "execution_count": 12,
   "id": "c09de45c",
   "metadata": {},
   "outputs": [],
   "source": [
    "y_train_pred_lr = lr.predict(X_train)\n",
    "y_train_pred_rf = rf.predict(X_train)\n",
    "y_train_pred_dt = dt.predict(X_train)"
   ]
  },
  {
   "cell_type": "markdown",
   "id": "77f9633c",
   "metadata": {},
   "source": [
    "Making predictions for both test and train data "
   ]
  },
  {
   "cell_type": "code",
   "execution_count": 13,
   "id": "e3e17312",
   "metadata": {},
   "outputs": [],
   "source": [
    "#Getting the metrics for each model for train and test \n",
    "\n",
    "def metrics(y_test, y_test_pred_model, y_train, y_train_pred_model, model):\n",
    "    \n",
    "    accuracy_test = accuracy_score(y_test, y_test_pred_model)\n",
    "    precision_test = precision_score(y_test, y_test_pred_model)\n",
    "    recall_test = recall_score(y_test, y_test_pred_model)\n",
    "    f1_test = f1_score(y_test, y_test_pred_model)\n",
    "    kappa_test = cohen_kappa_score(y_test, y_test_pred_model)\n",
    "\n",
    "    accuracy_train = accuracy_score(y_train, y_train_pred_model)\n",
    "    precision_train = precision_score(y_train, y_train_pred_model)\n",
    "    recall_train = recall_score(y_train, y_train_pred_model)\n",
    "    f1_train = f1_score(y_train, y_train_pred_model)\n",
    "    kappa_train = cohen_kappa_score(y_train, y_train_pred_model)\n",
    "\n",
    "    \n",
    "    df = pd.DataFrame({'accuracy': [accuracy_test, accuracy_train], \n",
    "                       'precision': [precision_test, precision_train],\n",
    "                       'recall': [recall_test, recall_train], \n",
    "                       'f1': [f1_test, f1_train],\n",
    "                       'kapppa': [kappa_test, kappa_train],\n",
    "                       'set': ['test', 'train' ]})\n",
    "    \n",
    "    df['model'] = model\n",
    "    return df\n"
   ]
  },
  {
   "cell_type": "code",
   "execution_count": 14,
   "id": "dfe24fdd",
   "metadata": {},
   "outputs": [],
   "source": [
    "results_logistic = metrics(y_test, y_test_pred_lr, y_train, y_train_pred_lr, 'Logistic Regression')\n",
    "# getting the metrics for logistic regression"
   ]
  },
  {
   "cell_type": "code",
   "execution_count": 15,
   "id": "28e33acd",
   "metadata": {},
   "outputs": [],
   "source": [
    "results_randomforest = metrics(y_test, y_test_pred_rf, y_train, y_train_pred_rf, 'Random Forest')\n",
    "# getting the metrics for random forest"
   ]
  },
  {
   "cell_type": "code",
   "execution_count": 16,
   "id": "b681d04e",
   "metadata": {},
   "outputs": [],
   "source": [
    "results_decisiontree = metrics(y_test, y_test_pred_dt, y_train, y_train_pred_dt, 'Decision Tree')\n",
    "# getting the metrics for decision tree"
   ]
  },
  {
   "cell_type": "code",
   "execution_count": 17,
   "id": "187dea57",
   "metadata": {},
   "outputs": [],
   "source": [
    "all_results=pd.concat([results_logistic, results_randomforest, results_decisiontree], axis=0)\n",
    "#adding all the metrics in one dataframe "
   ]
  },
  {
   "cell_type": "code",
   "execution_count": 18,
   "id": "d407f5ca",
   "metadata": {},
   "outputs": [
    {
     "data": {
      "text/html": [
       "<div>\n",
       "<style scoped>\n",
       "    .dataframe tbody tr th:only-of-type {\n",
       "        vertical-align: middle;\n",
       "    }\n",
       "\n",
       "    .dataframe tbody tr th {\n",
       "        vertical-align: top;\n",
       "    }\n",
       "\n",
       "    .dataframe thead th {\n",
       "        text-align: right;\n",
       "    }\n",
       "</style>\n",
       "<table border=\"1\" class=\"dataframe\">\n",
       "  <thead>\n",
       "    <tr style=\"text-align: right;\">\n",
       "      <th></th>\n",
       "      <th>accuracy</th>\n",
       "      <th>precision</th>\n",
       "      <th>recall</th>\n",
       "      <th>f1</th>\n",
       "      <th>kapppa</th>\n",
       "      <th>set</th>\n",
       "      <th>model</th>\n",
       "    </tr>\n",
       "  </thead>\n",
       "  <tbody>\n",
       "    <tr>\n",
       "      <th>0</th>\n",
       "      <td>0.941788</td>\n",
       "      <td>0.935176</td>\n",
       "      <td>0.949384</td>\n",
       "      <td>0.942226</td>\n",
       "      <td>0.883575</td>\n",
       "      <td>test</td>\n",
       "      <td>Logistic Regression</td>\n",
       "    </tr>\n",
       "    <tr>\n",
       "      <th>1</th>\n",
       "      <td>0.940429</td>\n",
       "      <td>0.932849</td>\n",
       "      <td>0.949185</td>\n",
       "      <td>0.940946</td>\n",
       "      <td>0.880858</td>\n",
       "      <td>train</td>\n",
       "      <td>Logistic Regression</td>\n",
       "    </tr>\n",
       "    <tr>\n",
       "      <th>0</th>\n",
       "      <td>0.999931</td>\n",
       "      <td>0.999908</td>\n",
       "      <td>0.999954</td>\n",
       "      <td>0.999931</td>\n",
       "      <td>0.999863</td>\n",
       "      <td>test</td>\n",
       "      <td>Random Forest</td>\n",
       "    </tr>\n",
       "    <tr>\n",
       "      <th>1</th>\n",
       "      <td>1.000000</td>\n",
       "      <td>1.000000</td>\n",
       "      <td>1.000000</td>\n",
       "      <td>1.000000</td>\n",
       "      <td>1.000000</td>\n",
       "      <td>train</td>\n",
       "      <td>Random Forest</td>\n",
       "    </tr>\n",
       "    <tr>\n",
       "      <th>0</th>\n",
       "      <td>0.999954</td>\n",
       "      <td>0.999954</td>\n",
       "      <td>0.999954</td>\n",
       "      <td>0.999954</td>\n",
       "      <td>0.999908</td>\n",
       "      <td>test</td>\n",
       "      <td>Decision Tree</td>\n",
       "    </tr>\n",
       "    <tr>\n",
       "      <th>1</th>\n",
       "      <td>1.000000</td>\n",
       "      <td>1.000000</td>\n",
       "      <td>1.000000</td>\n",
       "      <td>1.000000</td>\n",
       "      <td>1.000000</td>\n",
       "      <td>train</td>\n",
       "      <td>Decision Tree</td>\n",
       "    </tr>\n",
       "  </tbody>\n",
       "</table>\n",
       "</div>"
      ],
      "text/plain": [
       "   accuracy  precision    recall        f1    kapppa    set  \\\n",
       "0  0.941788   0.935176  0.949384  0.942226  0.883575   test   \n",
       "1  0.940429   0.932849  0.949185  0.940946  0.880858  train   \n",
       "0  0.999931   0.999908  0.999954  0.999931  0.999863   test   \n",
       "1  1.000000   1.000000  1.000000  1.000000  1.000000  train   \n",
       "0  0.999954   0.999954  0.999954  0.999954  0.999908   test   \n",
       "1  1.000000   1.000000  1.000000  1.000000  1.000000  train   \n",
       "\n",
       "                 model  \n",
       "0  Logistic Regression  \n",
       "1  Logistic Regression  \n",
       "0        Random Forest  \n",
       "1        Random Forest  \n",
       "0        Decision Tree  \n",
       "1        Decision Tree  "
      ]
     },
     "execution_count": 18,
     "metadata": {},
     "output_type": "execute_result"
    }
   ],
   "source": [
    "all_results   "
   ]
  },
  {
   "cell_type": "markdown",
   "id": "6fc914ce",
   "metadata": {},
   "source": [
    "As per the metrics above, it looks like all models are working fairly well. Logistic Regression model is working slightly worse than the rest.\n",
    "\n",
    "Random Forest and Decision Tree models seem to be working very well for both test and train samples. The train metrics seem to be a bit better than the test metrics. This difference is not as big however so there is no fear of the models being overfitted. \n",
    "\n",
    "All metrics are important but in the context of this project the one that interests me the most is the recall. I want it to be as high as possible since it is the metric that takes into account the False positives"
   ]
  },
  {
   "cell_type": "code",
   "execution_count": 19,
   "id": "9273c898",
   "metadata": {},
   "outputs": [
    {
     "data": {
      "image/png": "[encoded data removed]",
      "text/plain": [
       "<Figure size 1500x800 with 2 Axes>"
      ]
     },
     "metadata": {},
     "output_type": "display_data"
    }
   ],
   "source": [
    "#confusion matrix for Logistic Regression\n",
    "plt.figure(figsize=(15, 8))\n",
    "\n",
    "conf_matrix = cm(y_test, y_test_pred_lr)\n",
    "\n",
    "# Added 5 decimal places so I can compare to the tuned model later\n",
    "percentage_matrix = conf_matrix / conf_matrix.sum() * 100\n",
    "percentage_matrix_formatted = [\"{:.5f}\".format(value) for value in percentage_matrix.flatten()]\n",
    "\n",
    "percentage_matrix_formatted = np.array(percentage_matrix_formatted).reshape(percentage_matrix.shape)\n",
    "\n",
    "ax = sns.heatmap(percentage_matrix, annot=percentage_matrix_formatted, fmt='')\n",
    "\n",
    "plt.title('Confusion Matrix')\n",
    "plt.ylabel('Truth')\n",
    "plt.xlabel('Prediction')\n",
    "plt.show()\n"
   ]
  },
  {
   "cell_type": "markdown",
   "id": "6474966a",
   "metadata": {},
   "source": [
    "From the confusion matrix above we can see that logistic regression model has 47% True Negatives (Predicted not fraud when it is actually not fraud),  47% True Positive (Predicted fraud that is actually fraud), 2.5% False Negatives (Predicted no fraud when there was fraud) and 3.3% False Positives (Predicted fraud when there was no fraud) "
   ]
  },
  {
   "cell_type": "code",
   "execution_count": 20,
   "id": "6a3fec1f",
   "metadata": {},
   "outputs": [
    {
     "data": {
      "image/png": "[encoded data removed]",
      "text/plain": [
       "<Figure size 1500x800 with 2 Axes>"
      ]
     },
     "metadata": {},
     "output_type": "display_data"
    }
   ],
   "source": [
    "#confusion matrix for random forest\n",
    "plt.figure(figsize=(15, 8))\n",
    "\n",
    "ax=sns.heatmap(cm(y_test, y_test_pred_rf)/cm(y_test, y_test_pred_rf).sum() * 100, \n",
    "               annot=True)\n",
    "\n",
    "plt.title('Confusion Matrix')\n",
    "plt.ylabel('Truth')\n",
    "plt.xlabel('Prediction')\n",
    "plt.show();\n"
   ]
  },
  {
   "cell_type": "markdown",
   "id": "52bece71",
   "metadata": {},
   "source": [
    "From the confusion matrix above we can see that the random forest model has 50% True Negatives (Predicted not fraud when it is actually not fraud),  50% True Positive (Predicted fraud that is actually fraud), 0.0023% False Negatives (Predicted no fraud when there was fraud) and 0% False Positives (Predicted fraud when there was no fraud) "
   ]
  },
  {
   "cell_type": "code",
   "execution_count": 21,
   "id": "e150af15",
   "metadata": {},
   "outputs": [
    {
     "data": {
      "image/png": "[encoded data removed]",
      "text/plain": [
       "<Figure size 1500x800 with 2 Axes>"
      ]
     },
     "metadata": {},
     "output_type": "display_data"
    }
   ],
   "source": [
    "#confusion matrix for decision tree\n",
    "plt.figure(figsize=(15, 8))\n",
    "\n",
    "ax=sns.heatmap(cm(y_test, y_test_pred_dt)/cm(y_test, y_test_pred_dt).sum() * 100, \n",
    "               annot=True)\n",
    "\n",
    "plt.title('Confusion Matrix')\n",
    "plt.ylabel('Truth')\n",
    "plt.xlabel('Prediction')\n",
    "plt.show();\n"
   ]
  },
  {
   "cell_type": "markdown",
   "id": "59e38b12",
   "metadata": {},
   "source": [
    "From the confusion matrix above we can see that logistic regression model has 50% True Negatives (Predicted not fraud when it is actually not fraud),  50% True Positive (Predicted fraud that is actually fraud), 0.0023% False Negatives (Predicted not fraud when there was fraud) and 0.0023% False Positives (Predicted fraud when there was no fraud) "
   ]
  },
  {
   "cell_type": "markdown",
   "id": "7fd489e8",
   "metadata": {},
   "source": [
    "Looking at the confusion matrix figures, the models that work the best again are random forest and decision tree.\n",
    "It is preferable in this case to have more False Positives (top-right) than False Negatives (bottom-left) . We prefer to classify as fraud some non-fraud transactions than let fraud cases go by without any triggers. Both random forest and decision tree have 0.0023 % False Negatives so in this case I would prefer decision tree which has 0.0023% False Negatives while random forest has 0. "
   ]
  },
  {
   "cell_type": "markdown",
   "id": "0c494684",
   "metadata": {},
   "source": [
    "## Hyper Parameter Tuning\n",
    "Iterating with different hyperparameters for the logistic regression model , to see if I can improve the recall score. I will use hyperopt for that. "
   ]
  },
  {
   "cell_type": "code",
   "execution_count": 22,
   "id": "25fac143",
   "metadata": {},
   "outputs": [
    {
     "name": "stdout",
     "output_type": "stream",
     "text": [
      "100%|█████████████████████████████████████████████| 100/100 [05:00<00:00,  3.01s/trial, best loss: -0.9505430886112889]\n",
      "Best hyperparameters: {'C': 0.009060775502166036, 'class_weight': 0, 'penalty': 0, 'random_state': 0, 'solver': 0}\n"
     ]
    }
   ],
   "source": [
    "#I want to improve the recall_score in the logistic regression model\n",
    "recall_scorer = make_scorer(recall_score, greater_is_better=True)\n",
    "\n",
    "space = {\n",
    "    'penalty': hp.choice('penalty', ['l1', 'l2']),\n",
    "    'C': hp.loguniform('C', -5, 5),\n",
    "    'class_weight': hp.choice('class_weight', [None, 'balanced']),\n",
    "    'random_state': hp.choice('random_state', [None, 42]),\n",
    "    'solver': hp.choice('solver', ['liblinear'])\n",
    "}\n",
    "\n",
    "def objective(space):\n",
    "    model = LogisticRegression(\n",
    "        penalty=space['penalty'],\n",
    "        C=space['C'],\n",
    "        class_weight=space['class_weight'],\n",
    "        random_state=space['random_state'],\n",
    "        solver=space['solver'],\n",
    "    )\n",
    "    \n",
    "    cv_recall = cross_val_score(model, X_train, y_train, cv=5, scoring=recall_scorer).mean()\n",
    "    \n",
    "    return {'loss': -cv_recall, 'status': STATUS_OK}\n",
    "\n",
    "trials = Trials()\n",
    "best = fmin(fn=objective,  \n",
    "            space=space,    \n",
    "            algo=tpe.suggest,\n",
    "            max_evals=100,\n",
    "            trials=trials)\n",
    "\n",
    "print(\"Best hyperparameters:\", best)\n"
   ]
  },
  {
   "cell_type": "code",
   "execution_count": 23,
   "id": "731da86e",
   "metadata": {},
   "outputs": [],
   "source": [
    "#Creating a  model for logistic regression with the best parameters found by hyperopt in the above cell. \n",
    "class_weight_map = {0: None, 1: 'balanced'}\n",
    "best_class_weight = class_weight_map[best['class_weight']]\n",
    "penalty_map = {0: 'l1', 1: 'l2'}\n",
    "best_penalty = penalty_map[best['penalty']]\n",
    "solver_map = {0: 'liblinear'}\n",
    "best_solver = solver_map[best['solver']]\n",
    "\n",
    "model = LogisticRegression(\n",
    "    C=best['C'],\n",
    "    class_weight=best_class_weight,\n",
    "    penalty=best_penalty,\n",
    "    random_state=best['random_state'],\n",
    "    solver=best_solver,\n",
    ")\n"
   ]
  },
  {
   "cell_type": "code",
   "execution_count": 24,
   "id": "0cd930ea",
   "metadata": {},
   "outputs": [
    {
     "data": {
      "text/html": [
       "<style>#sk-container-id-2 {color: black;}#sk-container-id-2 pre{padding: 0;}#sk-container-id-2 div.sk-toggleable {background-color: white;}#sk-container-id-2 label.sk-toggleable__label {cursor: pointer;display: block;width: 100%;margin-bottom: 0;padding: 0.3em;box-sizing: border-box;text-align: center;}#sk-container-id-2 label.sk-toggleable__label-arrow:before {content: \"▸\";float: left;margin-right: 0.25em;color: #696969;}#sk-container-id-2 label.sk-toggleable__label-arrow:hover:before {color: black;}#sk-container-id-2 div.sk-estimator:hover label.sk-toggleable__label-arrow:before {color: black;}#sk-container-id-2 div.sk-toggleable__content {max-height: 0;max-width: 0;overflow: hidden;text-align: left;background-color: #f0f8ff;}#sk-container-id-2 div.sk-toggleable__content pre {margin: 0.2em;color: black;border-radius: 0.25em;background-color: #f0f8ff;}#sk-container-id-2 input.sk-toggleable__control:checked~div.sk-toggleable__content {max-height: 200px;max-width: 100%;overflow: auto;}#sk-container-id-2 input.sk-toggleable__control:checked~label.sk-toggleable__label-arrow:before {content: \"▾\";}#sk-container-id-2 div.sk-estimator input.sk-toggleable__control:checked~label.sk-toggleable__label {background-color: #d4ebff;}#sk-container-id-2 div.sk-label input.sk-toggleable__control:checked~label.sk-toggleable__label {background-color: #d4ebff;}#sk-container-id-2 input.sk-hidden--visually {border: 0;clip: rect(1px 1px 1px 1px);clip: rect(1px, 1px, 1px, 1px);height: 1px;margin: -1px;overflow: hidden;padding: 0;position: absolute;width: 1px;}#sk-container-id-2 div.sk-estimator {font-family: monospace;background-color: #f0f8ff;border: 1px dotted black;border-radius: 0.25em;box-sizing: border-box;margin-bottom: 0.5em;}#sk-container-id-2 div.sk-estimator:hover {background-color: #d4ebff;}#sk-container-id-2 div.sk-parallel-item::after {content: \"\";width: 100%;border-bottom: 1px solid gray;flex-grow: 1;}#sk-container-id-2 div.sk-label:hover label.sk-toggleable__label {background-color: #d4ebff;}#sk-container-id-2 div.sk-serial::before {content: \"\";position: absolute;border-left: 1px solid gray;box-sizing: border-box;top: 0;bottom: 0;left: 50%;z-index: 0;}#sk-container-id-2 div.sk-serial {display: flex;flex-direction: column;align-items: center;background-color: white;padding-right: 0.2em;padding-left: 0.2em;position: relative;}#sk-container-id-2 div.sk-item {position: relative;z-index: 1;}#sk-container-id-2 div.sk-parallel {display: flex;align-items: stretch;justify-content: center;background-color: white;position: relative;}#sk-container-id-2 div.sk-item::before, #sk-container-id-2 div.sk-parallel-item::before {content: \"\";position: absolute;border-left: 1px solid gray;box-sizing: border-box;top: 0;bottom: 0;left: 50%;z-index: -1;}#sk-container-id-2 div.sk-parallel-item {display: flex;flex-direction: column;z-index: 1;position: relative;background-color: white;}#sk-container-id-2 div.sk-parallel-item:first-child::after {align-self: flex-end;width: 50%;}#sk-container-id-2 div.sk-parallel-item:last-child::after {align-self: flex-start;width: 50%;}#sk-container-id-2 div.sk-parallel-item:only-child::after {width: 0;}#sk-container-id-2 div.sk-dashed-wrapped {border: 1px dashed gray;margin: 0 0.4em 0.5em 0.4em;box-sizing: border-box;padding-bottom: 0.4em;background-color: white;}#sk-container-id-2 div.sk-label label {font-family: monospace;font-weight: bold;display: inline-block;line-height: 1.2em;}#sk-container-id-2 div.sk-label-container {text-align: center;}#sk-container-id-2 div.sk-container {/* jupyter's `normalize.less` sets `[hidden] { display: none; }` but bootstrap.min.css set `[hidden] { display: none !important; }` so we also need the `!important` here to be able to override the default hidden behavior on the sphinx rendered scikit-learn.org. See: https://github.com/scikit-learn/scikit-learn/issues/21755 */display: inline-block !important;position: relative;}#sk-container-id-2 div.sk-text-repr-fallback {display: none;}</style><div id=\"sk-container-id-2\" class=\"sk-top-container\"><div class=\"sk-text-repr-fallback\"><pre>LogisticRegression(C=0.009060775502166036, penalty=&#x27;l1&#x27;, random_state=0,\n",
       "                   solver=&#x27;liblinear&#x27;)</pre><b>In a Jupyter environment, please rerun this cell to show the HTML representation or trust the notebook. <br />On GitHub, the HTML representation is unable to render, please try loading this page with nbviewer.org.</b></div><div class=\"sk-container\" hidden><div class=\"sk-item\"><div class=\"sk-estimator sk-toggleable\"><input class=\"sk-toggleable__control sk-hidden--visually\" id=\"sk-estimator-id-2\" type=\"checkbox\" checked><label for=\"sk-estimator-id-2\" class=\"sk-toggleable__label sk-toggleable__label-arrow\">LogisticRegression</label><div class=\"sk-toggleable__content\"><pre>LogisticRegression(C=0.009060775502166036, penalty=&#x27;l1&#x27;, random_state=0,\n",
       "                   solver=&#x27;liblinear&#x27;)</pre></div></div></div></div></div>"
      ],
      "text/plain": [
       "LogisticRegression(C=0.009060775502166036, penalty='l1', random_state=0,\n",
       "                   solver='liblinear')"
      ]
     },
     "execution_count": 24,
     "metadata": {},
     "output_type": "execute_result"
    }
   ],
   "source": [
    "model.fit(X_train, y_train)   #training the model"
   ]
  },
  {
   "cell_type": "code",
   "execution_count": 25,
   "id": "edab1ab3",
   "metadata": {},
   "outputs": [],
   "source": [
    "#getting the predictions\n",
    "y_pred_model_test = model.predict(X_test)\n",
    "y_pred_model_train = model.predict(X_train)  "
   ]
  },
  {
   "cell_type": "code",
   "execution_count": 26,
   "id": "662d9ef9",
   "metadata": {},
   "outputs": [
    {
     "data": {
      "text/html": [
       "<div>\n",
       "<style scoped>\n",
       "    .dataframe tbody tr th:only-of-type {\n",
       "        vertical-align: middle;\n",
       "    }\n",
       "\n",
       "    .dataframe tbody tr th {\n",
       "        vertical-align: top;\n",
       "    }\n",
       "\n",
       "    .dataframe thead th {\n",
       "        text-align: right;\n",
       "    }\n",
       "</style>\n",
       "<table border=\"1\" class=\"dataframe\">\n",
       "  <thead>\n",
       "    <tr style=\"text-align: right;\">\n",
       "      <th></th>\n",
       "      <th>accuracy</th>\n",
       "      <th>precision</th>\n",
       "      <th>recall</th>\n",
       "      <th>f1</th>\n",
       "      <th>kapppa</th>\n",
       "      <th>set</th>\n",
       "      <th>model</th>\n",
       "    </tr>\n",
       "  </thead>\n",
       "  <tbody>\n",
       "    <tr>\n",
       "      <th>0</th>\n",
       "      <td>0.941719</td>\n",
       "      <td>0.933993</td>\n",
       "      <td>0.950620</td>\n",
       "      <td>0.942233</td>\n",
       "      <td>0.883438</td>\n",
       "      <td>test</td>\n",
       "      <td>Logistic Regression after tuning</td>\n",
       "    </tr>\n",
       "    <tr>\n",
       "      <th>1</th>\n",
       "      <td>0.940429</td>\n",
       "      <td>0.931903</td>\n",
       "      <td>0.950299</td>\n",
       "      <td>0.941011</td>\n",
       "      <td>0.880858</td>\n",
       "      <td>train</td>\n",
       "      <td>Logistic Regression after tuning</td>\n",
       "    </tr>\n",
       "  </tbody>\n",
       "</table>\n",
       "</div>"
      ],
      "text/plain": [
       "   accuracy  precision    recall        f1    kapppa    set  \\\n",
       "0  0.941719   0.933993  0.950620  0.942233  0.883438   test   \n",
       "1  0.940429   0.931903  0.950299  0.941011  0.880858  train   \n",
       "\n",
       "                              model  \n",
       "0  Logistic Regression after tuning  \n",
       "1  Logistic Regression after tuning  "
      ]
     },
     "execution_count": 26,
     "metadata": {},
     "output_type": "execute_result"
    }
   ],
   "source": [
    "#calling the function metrics made above to get all the metrics for this newly created model \n",
    "results_model = metrics(y_test, y_pred_model_test, y_train, y_pred_model_train, 'Logistic Regression after tuning')\n",
    "results_model"
   ]
  },
  {
   "cell_type": "code",
   "execution_count": 27,
   "id": "13af26ee",
   "metadata": {},
   "outputs": [],
   "source": [
    "# Concatenating the initial logistic regression model and the tuned logistic regression model so we can compare them \n",
    "logistic_comparison=pd.concat([results_logistic, results_model], axis=0)"
   ]
  },
  {
   "cell_type": "code",
   "execution_count": 28,
   "id": "080c7259",
   "metadata": {},
   "outputs": [
    {
     "data": {
      "text/html": [
       "<div>\n",
       "<style scoped>\n",
       "    .dataframe tbody tr th:only-of-type {\n",
       "        vertical-align: middle;\n",
       "    }\n",
       "\n",
       "    .dataframe tbody tr th {\n",
       "        vertical-align: top;\n",
       "    }\n",
       "\n",
       "    .dataframe thead th {\n",
       "        text-align: right;\n",
       "    }\n",
       "</style>\n",
       "<table border=\"1\" class=\"dataframe\">\n",
       "  <thead>\n",
       "    <tr style=\"text-align: right;\">\n",
       "      <th></th>\n",
       "      <th>accuracy</th>\n",
       "      <th>precision</th>\n",
       "      <th>recall</th>\n",
       "      <th>f1</th>\n",
       "      <th>kapppa</th>\n",
       "      <th>set</th>\n",
       "      <th>model</th>\n",
       "    </tr>\n",
       "  </thead>\n",
       "  <tbody>\n",
       "    <tr>\n",
       "      <th>0</th>\n",
       "      <td>0.941788</td>\n",
       "      <td>0.935176</td>\n",
       "      <td>0.949384</td>\n",
       "      <td>0.942226</td>\n",
       "      <td>0.883575</td>\n",
       "      <td>test</td>\n",
       "      <td>Logistic Regression</td>\n",
       "    </tr>\n",
       "    <tr>\n",
       "      <th>1</th>\n",
       "      <td>0.940429</td>\n",
       "      <td>0.932849</td>\n",
       "      <td>0.949185</td>\n",
       "      <td>0.940946</td>\n",
       "      <td>0.880858</td>\n",
       "      <td>train</td>\n",
       "      <td>Logistic Regression</td>\n",
       "    </tr>\n",
       "    <tr>\n",
       "      <th>0</th>\n",
       "      <td>0.941719</td>\n",
       "      <td>0.933993</td>\n",
       "      <td>0.950620</td>\n",
       "      <td>0.942233</td>\n",
       "      <td>0.883438</td>\n",
       "      <td>test</td>\n",
       "      <td>Logistic Regression after tuning</td>\n",
       "    </tr>\n",
       "    <tr>\n",
       "      <th>1</th>\n",
       "      <td>0.940429</td>\n",
       "      <td>0.931903</td>\n",
       "      <td>0.950299</td>\n",
       "      <td>0.941011</td>\n",
       "      <td>0.880858</td>\n",
       "      <td>train</td>\n",
       "      <td>Logistic Regression after tuning</td>\n",
       "    </tr>\n",
       "  </tbody>\n",
       "</table>\n",
       "</div>"
      ],
      "text/plain": [
       "   accuracy  precision    recall        f1    kapppa    set  \\\n",
       "0  0.941788   0.935176  0.949384  0.942226  0.883575   test   \n",
       "1  0.940429   0.932849  0.949185  0.940946  0.880858  train   \n",
       "0  0.941719   0.933993  0.950620  0.942233  0.883438   test   \n",
       "1  0.940429   0.931903  0.950299  0.941011  0.880858  train   \n",
       "\n",
       "                              model  \n",
       "0               Logistic Regression  \n",
       "1               Logistic Regression  \n",
       "0  Logistic Regression after tuning  \n",
       "1  Logistic Regression after tuning  "
      ]
     },
     "execution_count": 28,
     "metadata": {},
     "output_type": "execute_result"
    }
   ],
   "source": [
    "logistic_comparison"
   ]
  },
  {
   "cell_type": "markdown",
   "id": "a6fd4955",
   "metadata": {},
   "source": [
    "As we can see from the data above, there is some improvement in the recall score."
   ]
  },
  {
   "cell_type": "code",
   "execution_count": 29,
   "id": "12009550",
   "metadata": {},
   "outputs": [],
   "source": [
    "results_final=pd.concat([results_logistic, results_model, results_randomforest, results_decisiontree], axis=0)\n"
   ]
  },
  {
   "cell_type": "code",
   "execution_count": 30,
   "id": "2a5b3c3a",
   "metadata": {},
   "outputs": [
    {
     "data": {
      "text/html": [
       "<div>\n",
       "<style scoped>\n",
       "    .dataframe tbody tr th:only-of-type {\n",
       "        vertical-align: middle;\n",
       "    }\n",
       "\n",
       "    .dataframe tbody tr th {\n",
       "        vertical-align: top;\n",
       "    }\n",
       "\n",
       "    .dataframe thead th {\n",
       "        text-align: right;\n",
       "    }\n",
       "</style>\n",
       "<table border=\"1\" class=\"dataframe\">\n",
       "  <thead>\n",
       "    <tr style=\"text-align: right;\">\n",
       "      <th></th>\n",
       "      <th>accuracy</th>\n",
       "      <th>precision</th>\n",
       "      <th>recall</th>\n",
       "      <th>f1</th>\n",
       "      <th>kapppa</th>\n",
       "      <th>set</th>\n",
       "      <th>model</th>\n",
       "    </tr>\n",
       "  </thead>\n",
       "  <tbody>\n",
       "    <tr>\n",
       "      <th>0</th>\n",
       "      <td>0.941788</td>\n",
       "      <td>0.935176</td>\n",
       "      <td>0.949384</td>\n",
       "      <td>0.942226</td>\n",
       "      <td>0.883575</td>\n",
       "      <td>test</td>\n",
       "      <td>Logistic Regression</td>\n",
       "    </tr>\n",
       "    <tr>\n",
       "      <th>1</th>\n",
       "      <td>0.940429</td>\n",
       "      <td>0.932849</td>\n",
       "      <td>0.949185</td>\n",
       "      <td>0.940946</td>\n",
       "      <td>0.880858</td>\n",
       "      <td>train</td>\n",
       "      <td>Logistic Regression</td>\n",
       "    </tr>\n",
       "    <tr>\n",
       "      <th>0</th>\n",
       "      <td>0.941719</td>\n",
       "      <td>0.933993</td>\n",
       "      <td>0.950620</td>\n",
       "      <td>0.942233</td>\n",
       "      <td>0.883438</td>\n",
       "      <td>test</td>\n",
       "      <td>Logistic Regression after tuning</td>\n",
       "    </tr>\n",
       "    <tr>\n",
       "      <th>1</th>\n",
       "      <td>0.940429</td>\n",
       "      <td>0.931903</td>\n",
       "      <td>0.950299</td>\n",
       "      <td>0.941011</td>\n",
       "      <td>0.880858</td>\n",
       "      <td>train</td>\n",
       "      <td>Logistic Regression after tuning</td>\n",
       "    </tr>\n",
       "    <tr>\n",
       "      <th>0</th>\n",
       "      <td>0.999931</td>\n",
       "      <td>0.999908</td>\n",
       "      <td>0.999954</td>\n",
       "      <td>0.999931</td>\n",
       "      <td>0.999863</td>\n",
       "      <td>test</td>\n",
       "      <td>Random Forest</td>\n",
       "    </tr>\n",
       "    <tr>\n",
       "      <th>1</th>\n",
       "      <td>1.000000</td>\n",
       "      <td>1.000000</td>\n",
       "      <td>1.000000</td>\n",
       "      <td>1.000000</td>\n",
       "      <td>1.000000</td>\n",
       "      <td>train</td>\n",
       "      <td>Random Forest</td>\n",
       "    </tr>\n",
       "    <tr>\n",
       "      <th>0</th>\n",
       "      <td>0.999954</td>\n",
       "      <td>0.999954</td>\n",
       "      <td>0.999954</td>\n",
       "      <td>0.999954</td>\n",
       "      <td>0.999908</td>\n",
       "      <td>test</td>\n",
       "      <td>Decision Tree</td>\n",
       "    </tr>\n",
       "    <tr>\n",
       "      <th>1</th>\n",
       "      <td>1.000000</td>\n",
       "      <td>1.000000</td>\n",
       "      <td>1.000000</td>\n",
       "      <td>1.000000</td>\n",
       "      <td>1.000000</td>\n",
       "      <td>train</td>\n",
       "      <td>Decision Tree</td>\n",
       "    </tr>\n",
       "  </tbody>\n",
       "</table>\n",
       "</div>"
      ],
      "text/plain": [
       "   accuracy  precision    recall        f1    kapppa    set  \\\n",
       "0  0.941788   0.935176  0.949384  0.942226  0.883575   test   \n",
       "1  0.940429   0.932849  0.949185  0.940946  0.880858  train   \n",
       "0  0.941719   0.933993  0.950620  0.942233  0.883438   test   \n",
       "1  0.940429   0.931903  0.950299  0.941011  0.880858  train   \n",
       "0  0.999931   0.999908  0.999954  0.999931  0.999863   test   \n",
       "1  1.000000   1.000000  1.000000  1.000000  1.000000  train   \n",
       "0  0.999954   0.999954  0.999954  0.999954  0.999908   test   \n",
       "1  1.000000   1.000000  1.000000  1.000000  1.000000  train   \n",
       "\n",
       "                              model  \n",
       "0               Logistic Regression  \n",
       "1               Logistic Regression  \n",
       "0  Logistic Regression after tuning  \n",
       "1  Logistic Regression after tuning  \n",
       "0                     Random Forest  \n",
       "1                     Random Forest  \n",
       "0                     Decision Tree  \n",
       "1                     Decision Tree  "
      ]
     },
     "execution_count": 30,
     "metadata": {},
     "output_type": "execute_result"
    }
   ],
   "source": [
    "results_final"
   ]
  },
  {
   "cell_type": "code",
   "execution_count": 31,
   "id": "59c1a0da",
   "metadata": {},
   "outputs": [],
   "source": [
    "results_final.to_csv('../../data/model_metrics.csv')"
   ]
  },
  {
   "cell_type": "markdown",
   "id": "8ce08014",
   "metadata": {},
   "source": [
    "Saving to csv file"
   ]
  },
  {
   "cell_type": "code",
   "execution_count": 32,
   "id": "d2874fb9",
   "metadata": {},
   "outputs": [
    {
     "data": {
      "image/png": "[encoded data removed]",
      "text/plain": [
       "<Figure size 1500x800 with 2 Axes>"
      ]
     },
     "metadata": {},
     "output_type": "display_data"
    }
   ],
   "source": [
    "#confusion matrix for Tuned logistic regression. \n",
    "plt.figure(figsize=(15, 8))\n",
    "\n",
    "conf_matrix = cm(y_test, y_pred_model_test)\n",
    "\n",
    "percentage_matrix = conf_matrix / conf_matrix.sum() * 100\n",
    "\n",
    "#I added 5 decimal places so we can see the difference from the default logistic regression model\n",
    "percentage_matrix_formatted = [\"{:.5f}\".format(value) for value in percentage_matrix.flatten()]\n",
    "\n",
    "percentage_matrix_formatted = np.array(percentage_matrix_formatted).reshape(percentage_matrix.shape)\n",
    "\n",
    "ax = sns.heatmap(percentage_matrix, annot=percentage_matrix_formatted, fmt='')\n",
    "\n",
    "plt.title('Confusion Matrix')\n",
    "plt.ylabel('Truth')\n",
    "plt.xlabel('Prediction')\n",
    "plt.show()\n"
   ]
  },
  {
   "cell_type": "markdown",
   "id": "9f19bf7d",
   "metadata": {},
   "source": [
    "The confusion matrix has changed a bit. The False Positives (which are the ones I prefer for this project) have increased and the False Negatives (the ones I wanted to decrease) have decreased. There is some improvement therefore but it is small. "
   ]
  },
  {
   "cell_type": "code",
   "execution_count": 35,
   "id": "12f57038",
   "metadata": {},
   "outputs": [],
   "source": [
    "conf_matrix = cm(y_test, y_pred_model_test)\n",
    "\n",
    "# Convert confusion matrix to DataFrame\n",
    "conf_matrix_df = pd.DataFrame(conf_matrix, columns=['Predicted no fraud', 'Predicted fraud'], index=['Actual no fraud', 'Actual fraud'])\n",
    "\n",
    "#Saving the confusion matrix to a csv file\n",
    "conf_matrix_df.to_csv('../../data/conf_matrix.csv')"
   ]
  },
  {
   "cell_type": "code",
   "execution_count": 36,
   "id": "59ed83a0",
   "metadata": {},
   "outputs": [],
   "source": [
    "pickle.dump(lr, open('models/logistic_regression_default.pk', 'wb'))  \n",
    "pickle.dump(model, open('models/logistic_regression_tuned.pk', 'wb'))   \n",
    "pickle.dump(rf, open('models/random_forest.pk', 'wb'))  \n",
    "pickle.dump(dt, open('models/decision_tree.pk', 'wb'))  "
   ]
  },
  {
   "cell_type": "markdown",
   "id": "35534212",
   "metadata": {},
   "source": [
    "Saving the models"
   ]
  },
  {
   "cell_type": "markdown",
   "id": "7b3e1016",
   "metadata": {},
   "source": [
    "## Getting the information needed for a power bi dashboard"
   ]
  },
  {
   "cell_type": "code",
   "execution_count": 37,
   "id": "9e2fe6ec",
   "metadata": {},
   "outputs": [
    {
     "name": "stdout",
     "output_type": "stream",
     "text": [
      "Optimization terminated successfully.\n",
      "         Current function value: 0.214586\n",
      "         Iterations 10\n",
      "                           Logit Regression Results                           \n",
      "==============================================================================\n",
      "Dep. Variable:                  fraud   No. Observations:               174806\n",
      "Model:                          Logit   Df Residuals:                   174798\n",
      "Method:                           MLE   Df Model:                            7\n",
      "Date:                Fri, 01 Dec 2023   Pseudo R-squ.:                  0.6904\n",
      "Time:                        09:41:55   Log-Likelihood:                -37511.\n",
      "converged:                       True   LL-Null:                   -1.2117e+05\n",
      "Covariance Type:            nonrobust   LLR p-value:                     0.000\n",
      "==================================================================================================\n",
      "                                     coef    std err          z      P>|z|      [0.025      0.975]\n",
      "--------------------------------------------------------------------------------------------------\n",
      "const                             -7.6161      0.053   -142.656      0.000      -7.721      -7.511\n",
      "distance_from_home                 0.0287      0.000    130.341      0.000       0.028       0.029\n",
      "distance_from_last_transaction     0.0496      0.001     86.944      0.000       0.049       0.051\n",
      "ratio_to_median_purchase_price     1.1931      0.007    181.704      0.000       1.180       1.206\n",
      "repeat_retailer                   -1.4501      0.031    -46.393      0.000      -1.511      -1.389\n",
      "used_chip                         -1.1724      0.022    -52.466      0.000      -1.216      -1.129\n",
      "used_pin_number                  -10.0742      0.160    -62.854      0.000     -10.388      -9.760\n",
      "online_order                       5.0546      0.043    118.376      0.000       4.971       5.138\n",
      "==================================================================================================\n",
      "\n",
      "Possibly complete quasi-separation: A fraction 0.13 of observations can be\n",
      "perfectly predicted. This might indicate that there is complete\n",
      "quasi-separation. In this case some parameters will not be identified.\n"
     ]
    }
   ],
   "source": [
    "#to see the importance of the columns \n",
    "x = sm.add_constant(data[[\n",
    "    'distance_from_home',\n",
    "    'distance_from_last_transaction',\n",
    "    'ratio_to_median_purchase_price',\n",
    "    'repeat_retailer',\n",
    "    'used_chip',\n",
    "    'used_pin_number',\n",
    "    'online_order'\n",
    "]])\n",
    "\n",
    "y = data['fraud']\n",
    "\n",
    "modelo = sm.Logit(y, x) \n",
    "result = modelo.fit()\n",
    "\n",
    "print(result.summary())"
   ]
  },
  {
   "cell_type": "code",
   "execution_count": 38,
   "id": "3b3c0fd5",
   "metadata": {},
   "outputs": [
    {
     "name": "stdout",
     "output_type": "stream",
     "text": [
      "distance_from_home: 0.10312342684545332\n",
      "distance_from_last_transaction: 0.03376199411163488\n",
      "ratio_to_median_purchase_price: 0.30766173935594104\n",
      "repeat_retailer: 0.004378136774823452\n",
      "used_chip: 0.010117004561194794\n",
      "used_pin_number: 0.02537183652922068\n",
      "online_order: 0.07151160129971172\n"
     ]
    },
    {
     "data": {
      "image/png": "[encoded data removed]",
      "text/plain": [
       "<Figure size 640x480 with 1 Axes>"
      ]
     },
     "metadata": {},
     "output_type": "display_data"
    }
   ],
   "source": [
    "# Calculate permutation feature importance\n",
    "perm_importance = permutation_importance(model, X_test, y_test, n_repeats=30, random_state=42)\n",
    "\n",
    "for feature, importance in zip(X.columns, perm_importance.importances_mean):\n",
    "    print(f\"{feature}: {importance}\")\n",
    "\n",
    "sorted_idx = perm_importance.importances_mean.argsort()[::-1]\n",
    "plt.bar(range(X.shape[1]), perm_importance.importances_mean[sorted_idx])\n",
    "plt.xticks(range(X.shape[1]), X.columns[sorted_idx], rotation=45)\n",
    "plt.show()\n"
   ]
  },
  {
   "cell_type": "code",
   "execution_count": 39,
   "id": "0954123f",
   "metadata": {},
   "outputs": [
    {
     "data": {
      "text/html": [
       "<div>\n",
       "<style scoped>\n",
       "    .dataframe tbody tr th:only-of-type {\n",
       "        vertical-align: middle;\n",
       "    }\n",
       "\n",
       "    .dataframe tbody tr th {\n",
       "        vertical-align: top;\n",
       "    }\n",
       "\n",
       "    .dataframe thead th {\n",
       "        text-align: right;\n",
       "    }\n",
       "</style>\n",
       "<table border=\"1\" class=\"dataframe\">\n",
       "  <thead>\n",
       "    <tr style=\"text-align: right;\">\n",
       "      <th></th>\n",
       "      <th>Feature</th>\n",
       "      <th>Importance</th>\n",
       "    </tr>\n",
       "  </thead>\n",
       "  <tbody>\n",
       "    <tr>\n",
       "      <th>0</th>\n",
       "      <td>distance_from_home</td>\n",
       "      <td>0.103123</td>\n",
       "    </tr>\n",
       "    <tr>\n",
       "      <th>1</th>\n",
       "      <td>distance_from_last_transaction</td>\n",
       "      <td>0.033762</td>\n",
       "    </tr>\n",
       "    <tr>\n",
       "      <th>2</th>\n",
       "      <td>ratio_to_median_purchase_price</td>\n",
       "      <td>0.307662</td>\n",
       "    </tr>\n",
       "    <tr>\n",
       "      <th>3</th>\n",
       "      <td>repeat_retailer</td>\n",
       "      <td>0.004378</td>\n",
       "    </tr>\n",
       "    <tr>\n",
       "      <th>4</th>\n",
       "      <td>used_chip</td>\n",
       "      <td>0.010117</td>\n",
       "    </tr>\n",
       "    <tr>\n",
       "      <th>5</th>\n",
       "      <td>used_pin_number</td>\n",
       "      <td>0.025372</td>\n",
       "    </tr>\n",
       "    <tr>\n",
       "      <th>6</th>\n",
       "      <td>online_order</td>\n",
       "      <td>0.071512</td>\n",
       "    </tr>\n",
       "  </tbody>\n",
       "</table>\n",
       "</div>"
      ],
      "text/plain": [
       "                          Feature  Importance\n",
       "0              distance_from_home    0.103123\n",
       "1  distance_from_last_transaction    0.033762\n",
       "2  ratio_to_median_purchase_price    0.307662\n",
       "3                 repeat_retailer    0.004378\n",
       "4                       used_chip    0.010117\n",
       "5                 used_pin_number    0.025372\n",
       "6                    online_order    0.071512"
      ]
     },
     "execution_count": 39,
     "metadata": {},
     "output_type": "execute_result"
    }
   ],
   "source": [
    "feature_importance = pd.DataFrame({\n",
    "    'Feature': X.columns,\n",
    "    'Importance': perm_importance.importances_mean})\n",
    "feature_importance"
   ]
  },
  {
   "cell_type": "code",
   "execution_count": 40,
   "id": "0fd05de1",
   "metadata": {},
   "outputs": [],
   "source": [
    "feature_importance.to_csv('../../data/feature_importance.csv')"
   ]
  },
  {
   "cell_type": "markdown",
   "id": "546f1483",
   "metadata": {},
   "source": [
    "Saving to csv file"
   ]
  },
  {
   "cell_type": "markdown",
   "id": "7ee5a899",
   "metadata": {},
   "source": [
    "## Preprocessing 2:"
   ]
  }
 ],
 "metadata": {
  "kernelspec": {
   "display_name": "Python 3 (ipykernel)",
   "language": "python",
   "name": "python3"
  },
  "language_info": {
   "codemirror_mode": {
    "name": "ipython",
    "version": 3
   },
   "file_extension": ".py",
   "mimetype": "text/x-python",
   "name": "python",
   "nbconvert_exporter": "python",
   "pygments_lexer": "ipython3",
   "version": "3.11.4"
  }
 },
 "nbformat": 4,
 "nbformat_minor": 5
}
