{
 "cells": [
  {
   "cell_type": "code",
   "execution_count": 1,
   "id": "cc6b7240",
   "metadata": {},
   "outputs": [],
   "source": [
    "# to ignore warnings\n",
    "import warnings\n",
    "warnings.filterwarnings('ignore')\n",
    "\n",
    "#necessary libraries to handle dataframes and numeric data \n",
    "import pandas as pd\n",
    "import numpy as np\n",
    "\n",
    "# for visuals\n",
    "import pylab as plt\n",
    "import seaborn as sns\n",
    "%matplotlib inline\n",
    "\n",
    "# for data splitting into train and test\n",
    "from sklearn.model_selection import train_test_split as tts\n",
    "\n",
    "#the model\n",
    "from sklearn.linear_model import LogisticRegression\n",
    "\n",
    "#the metrics\n",
    "from sklearn.metrics import confusion_matrix as cm\n",
    "from sklearn.metrics import accuracy_score \n",
    "from sklearn.metrics import precision_score \n",
    "from sklearn.metrics import recall_score \n",
    "from sklearn.metrics import f1_score\n",
    "from sklearn.metrics import cohen_kappa_score\n",
    "\n",
    "# to standardize\n",
    "from sklearn.preprocessing import StandardScaler\n",
    "from sklearn.preprocessing import MinMaxScaler\n",
    "from sklearn.preprocessing import RobustScaler\n",
    "\n",
    "#for hyperparameter tuning\n",
    "from hyperopt import fmin, hp, tpe, Trials, space_eval, STATUS_OK\n",
    "from sklearn.metrics import make_scorer \n",
    "from sklearn.model_selection import cross_val_score\n",
    "\n",
    "#to save the model\n",
    "import pickle\n",
    "\n",
    "# to get the most important columns\n",
    "import statsmodels.api as sm\n",
    "from sklearn.inspection import permutation_importance"
   ]
  },
  {
   "cell_type": "markdown",
   "id": "15fefc00",
   "metadata": {},
   "source": [
    "## Preprocessing 1: \n",
    "\n",
    "Downsampling, standardScaler to standardize the data, with repeat retailer column, without removing outliers. "
   ]
  },
  {
   "cell_type": "code",
   "execution_count": 2,
   "id": "d27c3b01",
   "metadata": {},
   "outputs": [],
   "source": [
    "data=pd.read_csv('../../data/data_pp1.csv')"
   ]
  },
  {
   "cell_type": "code",
   "execution_count": 3,
   "id": "d56a2b50",
   "metadata": {},
   "outputs": [
    {
     "data": {
      "text/html": [
       "<div>\n",
       "<style scoped>\n",
       "    .dataframe tbody tr th:only-of-type {\n",
       "        vertical-align: middle;\n",
       "    }\n",
       "\n",
       "    .dataframe tbody tr th {\n",
       "        vertical-align: top;\n",
       "    }\n",
       "\n",
       "    .dataframe thead th {\n",
       "        text-align: right;\n",
       "    }\n",
       "</style>\n",
       "<table border=\"1\" class=\"dataframe\">\n",
       "  <thead>\n",
       "    <tr style=\"text-align: right;\">\n",
       "      <th></th>\n",
       "      <th>distance_from_home</th>\n",
       "      <th>distance_from_last_transaction</th>\n",
       "      <th>ratio_to_median_purchase_price</th>\n",
       "      <th>repeat_retailer</th>\n",
       "      <th>used_chip</th>\n",
       "      <th>used_pin_number</th>\n",
       "      <th>online_order</th>\n",
       "      <th>fraud</th>\n",
       "    </tr>\n",
       "  </thead>\n",
       "  <tbody>\n",
       "    <tr>\n",
       "      <th>0</th>\n",
       "      <td>2.131956</td>\n",
       "      <td>56.372401</td>\n",
       "      <td>6.358667</td>\n",
       "      <td>1.0</td>\n",
       "      <td>0.0</td>\n",
       "      <td>0.0</td>\n",
       "      <td>1.0</td>\n",
       "      <td>1.0</td>\n",
       "    </tr>\n",
       "    <tr>\n",
       "      <th>1</th>\n",
       "      <td>3.803057</td>\n",
       "      <td>67.241081</td>\n",
       "      <td>1.872950</td>\n",
       "      <td>1.0</td>\n",
       "      <td>0.0</td>\n",
       "      <td>0.0</td>\n",
       "      <td>1.0</td>\n",
       "      <td>1.0</td>\n",
       "    </tr>\n",
       "    <tr>\n",
       "      <th>2</th>\n",
       "      <td>15.694986</td>\n",
       "      <td>175.989182</td>\n",
       "      <td>0.855623</td>\n",
       "      <td>1.0</td>\n",
       "      <td>0.0</td>\n",
       "      <td>0.0</td>\n",
       "      <td>1.0</td>\n",
       "      <td>1.0</td>\n",
       "    </tr>\n",
       "    <tr>\n",
       "      <th>3</th>\n",
       "      <td>26.711462</td>\n",
       "      <td>1.552008</td>\n",
       "      <td>4.603601</td>\n",
       "      <td>1.0</td>\n",
       "      <td>1.0</td>\n",
       "      <td>0.0</td>\n",
       "      <td>1.0</td>\n",
       "      <td>1.0</td>\n",
       "    </tr>\n",
       "    <tr>\n",
       "      <th>4</th>\n",
       "      <td>10.664474</td>\n",
       "      <td>1.565769</td>\n",
       "      <td>4.886521</td>\n",
       "      <td>1.0</td>\n",
       "      <td>0.0</td>\n",
       "      <td>0.0</td>\n",
       "      <td>1.0</td>\n",
       "      <td>1.0</td>\n",
       "    </tr>\n",
       "  </tbody>\n",
       "</table>\n",
       "</div>"
      ],
      "text/plain": [
       "   distance_from_home  distance_from_last_transaction  \\\n",
       "0            2.131956                       56.372401   \n",
       "1            3.803057                       67.241081   \n",
       "2           15.694986                      175.989182   \n",
       "3           26.711462                        1.552008   \n",
       "4           10.664474                        1.565769   \n",
       "\n",
       "   ratio_to_median_purchase_price  repeat_retailer  used_chip  \\\n",
       "0                        6.358667              1.0        0.0   \n",
       "1                        1.872950              1.0        0.0   \n",
       "2                        0.855623              1.0        0.0   \n",
       "3                        4.603601              1.0        1.0   \n",
       "4                        4.886521              1.0        0.0   \n",
       "\n",
       "   used_pin_number  online_order  fraud  \n",
       "0              0.0           1.0    1.0  \n",
       "1              0.0           1.0    1.0  \n",
       "2              0.0           1.0    1.0  \n",
       "3              0.0           1.0    1.0  \n",
       "4              0.0           1.0    1.0  "
      ]
     },
     "execution_count": 3,
     "metadata": {},
     "output_type": "execute_result"
    }
   ],
   "source": [
    "data.head()"
   ]
  },
  {
   "cell_type": "code",
   "execution_count": 4,
   "id": "9e0a3d5c",
   "metadata": {},
   "outputs": [],
   "source": [
    "X=data.drop('fraud', axis=1)\n",
    "y=data['fraud']"
   ]
  },
  {
   "cell_type": "markdown",
   "id": "59e9480f",
   "metadata": {},
   "source": [
    "Dividing into X (df without my target column) and y(my target column)"
   ]
  },
  {
   "cell_type": "code",
   "execution_count": 5,
   "id": "1ccc5746",
   "metadata": {},
   "outputs": [],
   "source": [
    "X_train, X_test, y_train, y_test =tts(X, y, \n",
    "                                       random_state=42,\n",
    "                                       stratify=y)\n"
   ]
  },
  {
   "cell_type": "markdown",
   "id": "d61f7554",
   "metadata": {},
   "source": [
    "Splitting my data into train and test"
   ]
  },
  {
   "cell_type": "code",
   "execution_count": 6,
   "id": "4cac48a6",
   "metadata": {},
   "outputs": [],
   "source": [
    "escalador = StandardScaler()   \n",
    " \n",
    "escalador.fit(X_train[['distance_from_home', 'distance_from_last_transaction', 'ratio_to_median_purchase_price']])\n",
    " \n",
    "X_train[['distance_from_home', 'distance_from_last_transaction', 'ratio_to_median_purchase_price']] = escalador.transform(X_train[['distance_from_home', 'distance_from_last_transaction', 'ratio_to_median_purchase_price']])   \n",
    "X_test[['distance_from_home', 'distance_from_last_transaction', 'ratio_to_median_purchase_price']] = escalador.transform(X_test[['distance_from_home', 'distance_from_last_transaction', 'ratio_to_median_purchase_price']])  \n"
   ]
  },
  {
   "cell_type": "markdown",
   "id": "b91ca900",
   "metadata": {},
   "source": [
    "Standardizing my data using standardscaler"
   ]
  },
  {
   "cell_type": "markdown",
   "id": "dfa47b89",
   "metadata": {},
   "source": [
    "Standardizing the numeric columns 'distance_from_home', 'distance_from_last_transaction' and 'ration_to_median_purchase_price' since they have different scales . Data needs to be more or less on the same scale so that the model doesn´t give preference to one column over the other due to the scale being higher. Please note I fitted the train dataset and transformed both train and test with that information. You can read more about that in the below article\n",
    "https://sebastianraschka.com/faq/docs/scale-training-test.html"
   ]
  },
  {
   "cell_type": "code",
   "execution_count": 7,
   "id": "f33b5770",
   "metadata": {},
   "outputs": [
    {
     "data": {
      "text/html": [
       "<div>\n",
       "<style scoped>\n",
       "    .dataframe tbody tr th:only-of-type {\n",
       "        vertical-align: middle;\n",
       "    }\n",
       "\n",
       "    .dataframe tbody tr th {\n",
       "        vertical-align: top;\n",
       "    }\n",
       "\n",
       "    .dataframe thead th {\n",
       "        text-align: right;\n",
       "    }\n",
       "</style>\n",
       "<table border=\"1\" class=\"dataframe\">\n",
       "  <thead>\n",
       "    <tr style=\"text-align: right;\">\n",
       "      <th></th>\n",
       "      <th>distance_from_home</th>\n",
       "      <th>distance_from_last_transaction</th>\n",
       "      <th>ratio_to_median_purchase_price</th>\n",
       "      <th>repeat_retailer</th>\n",
       "      <th>used_chip</th>\n",
       "      <th>used_pin_number</th>\n",
       "      <th>online_order</th>\n",
       "    </tr>\n",
       "  </thead>\n",
       "  <tbody>\n",
       "    <tr>\n",
       "      <th>34364</th>\n",
       "      <td>-0.407100</td>\n",
       "      <td>-0.197373</td>\n",
       "      <td>0.337115</td>\n",
       "      <td>1.0</td>\n",
       "      <td>0.0</td>\n",
       "      <td>0.0</td>\n",
       "      <td>1.0</td>\n",
       "    </tr>\n",
       "    <tr>\n",
       "      <th>21079</th>\n",
       "      <td>-0.309508</td>\n",
       "      <td>-0.131652</td>\n",
       "      <td>1.266614</td>\n",
       "      <td>1.0</td>\n",
       "      <td>0.0</td>\n",
       "      <td>0.0</td>\n",
       "      <td>1.0</td>\n",
       "    </tr>\n",
       "    <tr>\n",
       "      <th>100073</th>\n",
       "      <td>-0.353875</td>\n",
       "      <td>-0.106955</td>\n",
       "      <td>-0.472580</td>\n",
       "      <td>1.0</td>\n",
       "      <td>0.0</td>\n",
       "      <td>0.0</td>\n",
       "      <td>0.0</td>\n",
       "    </tr>\n",
       "    <tr>\n",
       "      <th>5769</th>\n",
       "      <td>-0.370031</td>\n",
       "      <td>-0.211139</td>\n",
       "      <td>0.479994</td>\n",
       "      <td>1.0</td>\n",
       "      <td>0.0</td>\n",
       "      <td>0.0</td>\n",
       "      <td>1.0</td>\n",
       "    </tr>\n",
       "    <tr>\n",
       "      <th>57842</th>\n",
       "      <td>-0.424345</td>\n",
       "      <td>-0.139255</td>\n",
       "      <td>0.617343</td>\n",
       "      <td>0.0</td>\n",
       "      <td>0.0</td>\n",
       "      <td>0.0</td>\n",
       "      <td>0.0</td>\n",
       "    </tr>\n",
       "  </tbody>\n",
       "</table>\n",
       "</div>"
      ],
      "text/plain": [
       "        distance_from_home  distance_from_last_transaction  \\\n",
       "34364            -0.407100                       -0.197373   \n",
       "21079            -0.309508                       -0.131652   \n",
       "100073           -0.353875                       -0.106955   \n",
       "5769             -0.370031                       -0.211139   \n",
       "57842            -0.424345                       -0.139255   \n",
       "\n",
       "        ratio_to_median_purchase_price  repeat_retailer  used_chip  \\\n",
       "34364                         0.337115              1.0        0.0   \n",
       "21079                         1.266614              1.0        0.0   \n",
       "100073                       -0.472580              1.0        0.0   \n",
       "5769                          0.479994              1.0        0.0   \n",
       "57842                         0.617343              0.0        0.0   \n",
       "\n",
       "        used_pin_number  online_order  \n",
       "34364               0.0           1.0  \n",
       "21079               0.0           1.0  \n",
       "100073              0.0           0.0  \n",
       "5769                0.0           1.0  \n",
       "57842               0.0           0.0  "
      ]
     },
     "execution_count": 7,
     "metadata": {},
     "output_type": "execute_result"
    }
   ],
   "source": [
    "X_train.head()"
   ]
  },
  {
   "cell_type": "code",
   "execution_count": 8,
   "id": "7d415eeb",
   "metadata": {},
   "outputs": [
    {
     "data": {
      "text/html": [
       "<div>\n",
       "<style scoped>\n",
       "    .dataframe tbody tr th:only-of-type {\n",
       "        vertical-align: middle;\n",
       "    }\n",
       "\n",
       "    .dataframe tbody tr th {\n",
       "        vertical-align: top;\n",
       "    }\n",
       "\n",
       "    .dataframe thead th {\n",
       "        text-align: right;\n",
       "    }\n",
       "</style>\n",
       "<table border=\"1\" class=\"dataframe\">\n",
       "  <thead>\n",
       "    <tr style=\"text-align: right;\">\n",
       "      <th></th>\n",
       "      <th>distance_from_home</th>\n",
       "      <th>distance_from_last_transaction</th>\n",
       "      <th>ratio_to_median_purchase_price</th>\n",
       "      <th>repeat_retailer</th>\n",
       "      <th>used_chip</th>\n",
       "      <th>used_pin_number</th>\n",
       "      <th>online_order</th>\n",
       "    </tr>\n",
       "  </thead>\n",
       "  <tbody>\n",
       "    <tr>\n",
       "      <th>116281</th>\n",
       "      <td>-0.268551</td>\n",
       "      <td>-0.192260</td>\n",
       "      <td>0.124602</td>\n",
       "      <td>1.0</td>\n",
       "      <td>0.0</td>\n",
       "      <td>1.0</td>\n",
       "      <td>1.0</td>\n",
       "    </tr>\n",
       "    <tr>\n",
       "      <th>61152</th>\n",
       "      <td>-0.389862</td>\n",
       "      <td>-0.209752</td>\n",
       "      <td>1.180487</td>\n",
       "      <td>1.0</td>\n",
       "      <td>0.0</td>\n",
       "      <td>0.0</td>\n",
       "      <td>1.0</td>\n",
       "    </tr>\n",
       "    <tr>\n",
       "      <th>105136</th>\n",
       "      <td>-0.099497</td>\n",
       "      <td>-0.190219</td>\n",
       "      <td>-0.198441</td>\n",
       "      <td>1.0</td>\n",
       "      <td>0.0</td>\n",
       "      <td>1.0</td>\n",
       "      <td>1.0</td>\n",
       "    </tr>\n",
       "    <tr>\n",
       "      <th>161774</th>\n",
       "      <td>-0.364760</td>\n",
       "      <td>5.560881</td>\n",
       "      <td>-0.355935</td>\n",
       "      <td>1.0</td>\n",
       "      <td>0.0</td>\n",
       "      <td>1.0</td>\n",
       "      <td>1.0</td>\n",
       "    </tr>\n",
       "    <tr>\n",
       "      <th>154787</th>\n",
       "      <td>-0.428819</td>\n",
       "      <td>-0.033384</td>\n",
       "      <td>-0.630839</td>\n",
       "      <td>0.0</td>\n",
       "      <td>1.0</td>\n",
       "      <td>0.0</td>\n",
       "      <td>0.0</td>\n",
       "    </tr>\n",
       "  </tbody>\n",
       "</table>\n",
       "</div>"
      ],
      "text/plain": [
       "        distance_from_home  distance_from_last_transaction  \\\n",
       "116281           -0.268551                       -0.192260   \n",
       "61152            -0.389862                       -0.209752   \n",
       "105136           -0.099497                       -0.190219   \n",
       "161774           -0.364760                        5.560881   \n",
       "154787           -0.428819                       -0.033384   \n",
       "\n",
       "        ratio_to_median_purchase_price  repeat_retailer  used_chip  \\\n",
       "116281                        0.124602              1.0        0.0   \n",
       "61152                         1.180487              1.0        0.0   \n",
       "105136                       -0.198441              1.0        0.0   \n",
       "161774                       -0.355935              1.0        0.0   \n",
       "154787                       -0.630839              0.0        1.0   \n",
       "\n",
       "        used_pin_number  online_order  \n",
       "116281              1.0           1.0  \n",
       "61152               0.0           1.0  \n",
       "105136              1.0           1.0  \n",
       "161774              1.0           1.0  \n",
       "154787              0.0           0.0  "
      ]
     },
     "execution_count": 8,
     "metadata": {},
     "output_type": "execute_result"
    }
   ],
   "source": [
    "X_test.head()"
   ]
  },
  {
   "cell_type": "markdown",
   "id": "c04bf465",
   "metadata": {},
   "source": [
    "This is how train and test looks like now "
   ]
  },
  {
   "cell_type": "code",
   "execution_count": 9,
   "id": "5c6f8d46",
   "metadata": {},
   "outputs": [],
   "source": [
    "lr=LogisticRegression()"
   ]
  },
  {
   "cell_type": "markdown",
   "id": "5838d3b1",
   "metadata": {},
   "source": [
    "Initiated the model"
   ]
  },
  {
   "cell_type": "code",
   "execution_count": 10,
   "id": "44588c97",
   "metadata": {},
   "outputs": [
    {
     "data": {
      "text/html": [
       "<style>#sk-container-id-1 {color: black;}#sk-container-id-1 pre{padding: 0;}#sk-container-id-1 div.sk-toggleable {background-color: white;}#sk-container-id-1 label.sk-toggleable__label {cursor: pointer;display: block;width: 100%;margin-bottom: 0;padding: 0.3em;box-sizing: border-box;text-align: center;}#sk-container-id-1 label.sk-toggleable__label-arrow:before {content: \"▸\";float: left;margin-right: 0.25em;color: #696969;}#sk-container-id-1 label.sk-toggleable__label-arrow:hover:before {color: black;}#sk-container-id-1 div.sk-estimator:hover label.sk-toggleable__label-arrow:before {color: black;}#sk-container-id-1 div.sk-toggleable__content {max-height: 0;max-width: 0;overflow: hidden;text-align: left;background-color: #f0f8ff;}#sk-container-id-1 div.sk-toggleable__content pre {margin: 0.2em;color: black;border-radius: 0.25em;background-color: #f0f8ff;}#sk-container-id-1 input.sk-toggleable__control:checked~div.sk-toggleable__content {max-height: 200px;max-width: 100%;overflow: auto;}#sk-container-id-1 input.sk-toggleable__control:checked~label.sk-toggleable__label-arrow:before {content: \"▾\";}#sk-container-id-1 div.sk-estimator input.sk-toggleable__control:checked~label.sk-toggleable__label {background-color: #d4ebff;}#sk-container-id-1 div.sk-label input.sk-toggleable__control:checked~label.sk-toggleable__label {background-color: #d4ebff;}#sk-container-id-1 input.sk-hidden--visually {border: 0;clip: rect(1px 1px 1px 1px);clip: rect(1px, 1px, 1px, 1px);height: 1px;margin: -1px;overflow: hidden;padding: 0;position: absolute;width: 1px;}#sk-container-id-1 div.sk-estimator {font-family: monospace;background-color: #f0f8ff;border: 1px dotted black;border-radius: 0.25em;box-sizing: border-box;margin-bottom: 0.5em;}#sk-container-id-1 div.sk-estimator:hover {background-color: #d4ebff;}#sk-container-id-1 div.sk-parallel-item::after {content: \"\";width: 100%;border-bottom: 1px solid gray;flex-grow: 1;}#sk-container-id-1 div.sk-label:hover label.sk-toggleable__label {background-color: #d4ebff;}#sk-container-id-1 div.sk-serial::before {content: \"\";position: absolute;border-left: 1px solid gray;box-sizing: border-box;top: 0;bottom: 0;left: 50%;z-index: 0;}#sk-container-id-1 div.sk-serial {display: flex;flex-direction: column;align-items: center;background-color: white;padding-right: 0.2em;padding-left: 0.2em;position: relative;}#sk-container-id-1 div.sk-item {position: relative;z-index: 1;}#sk-container-id-1 div.sk-parallel {display: flex;align-items: stretch;justify-content: center;background-color: white;position: relative;}#sk-container-id-1 div.sk-item::before, #sk-container-id-1 div.sk-parallel-item::before {content: \"\";position: absolute;border-left: 1px solid gray;box-sizing: border-box;top: 0;bottom: 0;left: 50%;z-index: -1;}#sk-container-id-1 div.sk-parallel-item {display: flex;flex-direction: column;z-index: 1;position: relative;background-color: white;}#sk-container-id-1 div.sk-parallel-item:first-child::after {align-self: flex-end;width: 50%;}#sk-container-id-1 div.sk-parallel-item:last-child::after {align-self: flex-start;width: 50%;}#sk-container-id-1 div.sk-parallel-item:only-child::after {width: 0;}#sk-container-id-1 div.sk-dashed-wrapped {border: 1px dashed gray;margin: 0 0.4em 0.5em 0.4em;box-sizing: border-box;padding-bottom: 0.4em;background-color: white;}#sk-container-id-1 div.sk-label label {font-family: monospace;font-weight: bold;display: inline-block;line-height: 1.2em;}#sk-container-id-1 div.sk-label-container {text-align: center;}#sk-container-id-1 div.sk-container {/* jupyter's `normalize.less` sets `[hidden] { display: none; }` but bootstrap.min.css set `[hidden] { display: none !important; }` so we also need the `!important` here to be able to override the default hidden behavior on the sphinx rendered scikit-learn.org. See: https://github.com/scikit-learn/scikit-learn/issues/21755 */display: inline-block !important;position: relative;}#sk-container-id-1 div.sk-text-repr-fallback {display: none;}</style><div id=\"sk-container-id-1\" class=\"sk-top-container\"><div class=\"sk-text-repr-fallback\"><pre>LogisticRegression()</pre><b>In a Jupyter environment, please rerun this cell to show the HTML representation or trust the notebook. <br />On GitHub, the HTML representation is unable to render, please try loading this page with nbviewer.org.</b></div><div class=\"sk-container\" hidden><div class=\"sk-item\"><div class=\"sk-estimator sk-toggleable\"><input class=\"sk-toggleable__control sk-hidden--visually\" id=\"sk-estimator-id-1\" type=\"checkbox\" checked><label for=\"sk-estimator-id-1\" class=\"sk-toggleable__label sk-toggleable__label-arrow\">LogisticRegression</label><div class=\"sk-toggleable__content\"><pre>LogisticRegression()</pre></div></div></div></div></div>"
      ],
      "text/plain": [
       "LogisticRegression()"
      ]
     },
     "execution_count": 10,
     "metadata": {},
     "output_type": "execute_result"
    }
   ],
   "source": [
    "lr.fit(X_train, y_train)"
   ]
  },
  {
   "cell_type": "markdown",
   "id": "cf74b262",
   "metadata": {},
   "source": [
    "Trained the model"
   ]
  },
  {
   "cell_type": "code",
   "execution_count": 11,
   "id": "9a0253fe",
   "metadata": {},
   "outputs": [],
   "source": [
    "y_test_pred_lr = lr.predict(X_test)"
   ]
  },
  {
   "cell_type": "code",
   "execution_count": 12,
   "id": "c09de45c",
   "metadata": {},
   "outputs": [],
   "source": [
    "y_train_pred_lr = lr.predict(X_train)"
   ]
  },
  {
   "cell_type": "markdown",
   "id": "77f9633c",
   "metadata": {},
   "source": [
    "Making predictions for both test and train data "
   ]
  },
  {
   "cell_type": "code",
   "execution_count": 13,
   "id": "e3e17312",
   "metadata": {},
   "outputs": [],
   "source": [
    "#Getting the metrics for each model for train and test \n",
    "\n",
    "def metrics(y_test, y_test_pred_model, y_train, y_train_pred_model, model):\n",
    "    \n",
    "    accuracy_test = accuracy_score(y_test, y_test_pred_model)\n",
    "    precision_test = precision_score(y_test, y_test_pred_model)\n",
    "    recall_test = recall_score(y_test, y_test_pred_model)\n",
    "    f1_test = f1_score(y_test, y_test_pred_model)\n",
    "    kappa_test = cohen_kappa_score(y_test, y_test_pred_model)\n",
    "\n",
    "    accuracy_train = accuracy_score(y_train, y_train_pred_model)\n",
    "    precision_train = precision_score(y_train, y_train_pred_model)\n",
    "    recall_train = recall_score(y_train, y_train_pred_model)\n",
    "    f1_train = f1_score(y_train, y_train_pred_model)\n",
    "    kappa_train = cohen_kappa_score(y_train, y_train_pred_model)\n",
    "\n",
    "    \n",
    "    df = pd.DataFrame({'accuracy': [accuracy_test, accuracy_train], \n",
    "                       'precision': [precision_test, precision_train],\n",
    "                       'recall': [recall_test, recall_train], \n",
    "                       'f1': [f1_test, f1_train],\n",
    "                       'kapppa': [kappa_test, kappa_train],\n",
    "                       'set': ['test', 'train' ]})\n",
    "    \n",
    "    df['model'] = model\n",
    "    return df\n"
   ]
  },
  {
   "cell_type": "code",
   "execution_count": 14,
   "id": "dfe24fdd",
   "metadata": {},
   "outputs": [],
   "source": [
    "results_logistic = metrics(y_test, y_test_pred_lr, y_train, y_train_pred_lr, 'Logistic Regression pp1')"
   ]
  },
  {
   "cell_type": "markdown",
   "id": "8341c7bb",
   "metadata": {},
   "source": [
    "Getting the metrics"
   ]
  },
  {
   "cell_type": "code",
   "execution_count": 15,
   "id": "d407f5ca",
   "metadata": {},
   "outputs": [
    {
     "data": {
      "text/html": [
       "<div>\n",
       "<style scoped>\n",
       "    .dataframe tbody tr th:only-of-type {\n",
       "        vertical-align: middle;\n",
       "    }\n",
       "\n",
       "    .dataframe tbody tr th {\n",
       "        vertical-align: top;\n",
       "    }\n",
       "\n",
       "    .dataframe thead th {\n",
       "        text-align: right;\n",
       "    }\n",
       "</style>\n",
       "<table border=\"1\" class=\"dataframe\">\n",
       "  <thead>\n",
       "    <tr style=\"text-align: right;\">\n",
       "      <th></th>\n",
       "      <th>accuracy</th>\n",
       "      <th>precision</th>\n",
       "      <th>recall</th>\n",
       "      <th>f1</th>\n",
       "      <th>kapppa</th>\n",
       "      <th>set</th>\n",
       "      <th>model</th>\n",
       "    </tr>\n",
       "  </thead>\n",
       "  <tbody>\n",
       "    <tr>\n",
       "      <th>0</th>\n",
       "      <td>0.941788</td>\n",
       "      <td>0.935176</td>\n",
       "      <td>0.949384</td>\n",
       "      <td>0.942226</td>\n",
       "      <td>0.883575</td>\n",
       "      <td>test</td>\n",
       "      <td>Logistic Regression pp1</td>\n",
       "    </tr>\n",
       "    <tr>\n",
       "      <th>1</th>\n",
       "      <td>0.940429</td>\n",
       "      <td>0.932849</td>\n",
       "      <td>0.949185</td>\n",
       "      <td>0.940946</td>\n",
       "      <td>0.880858</td>\n",
       "      <td>train</td>\n",
       "      <td>Logistic Regression pp1</td>\n",
       "    </tr>\n",
       "  </tbody>\n",
       "</table>\n",
       "</div>"
      ],
      "text/plain": [
       "   accuracy  precision    recall        f1    kapppa    set  \\\n",
       "0  0.941788   0.935176  0.949384  0.942226  0.883575   test   \n",
       "1  0.940429   0.932849  0.949185  0.940946  0.880858  train   \n",
       "\n",
       "                     model  \n",
       "0  Logistic Regression pp1  \n",
       "1  Logistic Regression pp1  "
      ]
     },
     "execution_count": 15,
     "metadata": {},
     "output_type": "execute_result"
    }
   ],
   "source": [
    "results_logistic"
   ]
  },
  {
   "cell_type": "markdown",
   "id": "6fc914ce",
   "metadata": {},
   "source": [
    "As per the metrics above the model is working quite well. It is not overfitted since the metrics for train are not higher than the metrics for test. There is room for improvement however"
   ]
  },
  {
   "cell_type": "code",
   "execution_count": 16,
   "id": "9273c898",
   "metadata": {},
   "outputs": [
    {
     "data": {
      "image/png": "[encoded data removed]",
      "text/plain": [
       "<Figure size 1500x800 with 2 Axes>"
      ]
     },
     "metadata": {},
     "output_type": "display_data"
    }
   ],
   "source": [
    "#confusion matrix for Logistic Regression\n",
    "plt.figure(figsize=(15, 8))\n",
    "\n",
    "conf_matrix = cm(y_test, y_test_pred_lr)\n",
    "\n",
    "# Added 5 decimal places so I can compare to the tuned model later\n",
    "percentage_matrix = conf_matrix / conf_matrix.sum() * 100\n",
    "percentage_matrix_formatted = [\"{:.5f}\".format(value) for value in percentage_matrix.flatten()]\n",
    "\n",
    "percentage_matrix_formatted = np.array(percentage_matrix_formatted).reshape(percentage_matrix.shape)\n",
    "\n",
    "ax = sns.heatmap(percentage_matrix, annot=percentage_matrix_formatted, fmt='')\n",
    "\n",
    "plt.title('Confusion Matrix')\n",
    "plt.ylabel('Truth')\n",
    "plt.xlabel('Prediction')\n",
    "plt.show()\n"
   ]
  },
  {
   "cell_type": "markdown",
   "id": "6474966a",
   "metadata": {},
   "source": [
    "From the confusion matrix above we can see that logistic regression model has 47% True Negatives (Predicted not fraud when it is actually not fraud),  47% True Positive (Predicted fraud that is actually fraud), 2.5% False Negatives (Predicted no fraud when there was fraud) and 3.3% False Positives (Predicted fraud when there was no fraud) "
   ]
  },
  {
   "cell_type": "code",
   "execution_count": 63,
   "id": "b916335f",
   "metadata": {},
   "outputs": [],
   "source": [
    "conf_matrix_pp1 = cm(y_test, y_test_pred_lr)\n",
    "\n",
    "# Convert confusion matrix to DataFrame\n",
    "conf_matrix_pp1_df = pd.DataFrame(conf_matrix_pp1, columns=['Predicted no fraud', 'Predicted fraud'], index=['Actual no fraud', 'Actual fraud'])"
   ]
  },
  {
   "cell_type": "code",
   "execution_count": 64,
   "id": "e1374348",
   "metadata": {},
   "outputs": [
    {
     "data": {
      "text/html": [
       "<div>\n",
       "<style scoped>\n",
       "    .dataframe tbody tr th:only-of-type {\n",
       "        vertical-align: middle;\n",
       "    }\n",
       "\n",
       "    .dataframe tbody tr th {\n",
       "        vertical-align: top;\n",
       "    }\n",
       "\n",
       "    .dataframe thead th {\n",
       "        text-align: right;\n",
       "    }\n",
       "</style>\n",
       "<table border=\"1\" class=\"dataframe\">\n",
       "  <thead>\n",
       "    <tr style=\"text-align: right;\">\n",
       "      <th></th>\n",
       "      <th>Predicted no fraud</th>\n",
       "      <th>Predicted fraud</th>\n",
       "    </tr>\n",
       "  </thead>\n",
       "  <tbody>\n",
       "    <tr>\n",
       "      <th>Actual no fraud</th>\n",
       "      <td>20413</td>\n",
       "      <td>1438</td>\n",
       "    </tr>\n",
       "    <tr>\n",
       "      <th>Actual fraud</th>\n",
       "      <td>1106</td>\n",
       "      <td>20745</td>\n",
       "    </tr>\n",
       "  </tbody>\n",
       "</table>\n",
       "</div>"
      ],
      "text/plain": [
       "                 Predicted no fraud  Predicted fraud\n",
       "Actual no fraud               20413             1438\n",
       "Actual fraud                   1106            20745"
      ]
     },
     "execution_count": 64,
     "metadata": {},
     "output_type": "execute_result"
    }
   ],
   "source": [
    "conf_matrix_pp1_df"
   ]
  },
  {
   "cell_type": "code",
   "execution_count": 75,
   "id": "12f6c8e3",
   "metadata": {},
   "outputs": [],
   "source": [
    "conf_matrix_pp1_df = pd.DataFrame({\n",
    "    'model': ['Logistic Regression pp1', 'Logistic Regression pp1', 'Logistic Regression pp1', 'Logistic Regression pp1'],\n",
    "    'prediction': ['predicted no fraud', 'predicted no fraud', 'predicted fraud', 'predicted fraud'],\n",
    "    'actual': ['actual no fraud', 'actual fraud', 'actual no fraud', 'actual fraud'],\n",
    "    'count': [20413, 1106, 1438, 20745]\n",
    "})"
   ]
  },
  {
   "cell_type": "code",
   "execution_count": 76,
   "id": "c1d39793",
   "metadata": {},
   "outputs": [
    {
     "data": {
      "text/html": [
       "<div>\n",
       "<style scoped>\n",
       "    .dataframe tbody tr th:only-of-type {\n",
       "        vertical-align: middle;\n",
       "    }\n",
       "\n",
       "    .dataframe tbody tr th {\n",
       "        vertical-align: top;\n",
       "    }\n",
       "\n",
       "    .dataframe thead th {\n",
       "        text-align: right;\n",
       "    }\n",
       "</style>\n",
       "<table border=\"1\" class=\"dataframe\">\n",
       "  <thead>\n",
       "    <tr style=\"text-align: right;\">\n",
       "      <th></th>\n",
       "      <th>model</th>\n",
       "      <th>prediction</th>\n",
       "      <th>actual</th>\n",
       "      <th>count</th>\n",
       "    </tr>\n",
       "  </thead>\n",
       "  <tbody>\n",
       "    <tr>\n",
       "      <th>0</th>\n",
       "      <td>Logistic Regression pp1</td>\n",
       "      <td>predicted no fraud</td>\n",
       "      <td>actual no fraud</td>\n",
       "      <td>20413</td>\n",
       "    </tr>\n",
       "    <tr>\n",
       "      <th>1</th>\n",
       "      <td>Logistic Regression pp1</td>\n",
       "      <td>predicted no fraud</td>\n",
       "      <td>actual fraud</td>\n",
       "      <td>1106</td>\n",
       "    </tr>\n",
       "    <tr>\n",
       "      <th>2</th>\n",
       "      <td>Logistic Regression pp1</td>\n",
       "      <td>predicted fraud</td>\n",
       "      <td>actual no fraud</td>\n",
       "      <td>1438</td>\n",
       "    </tr>\n",
       "    <tr>\n",
       "      <th>3</th>\n",
       "      <td>Logistic Regression pp1</td>\n",
       "      <td>predicted fraud</td>\n",
       "      <td>actual fraud</td>\n",
       "      <td>20745</td>\n",
       "    </tr>\n",
       "  </tbody>\n",
       "</table>\n",
       "</div>"
      ],
      "text/plain": [
       "                     model          prediction           actual  count\n",
       "0  Logistic Regression pp1  predicted no fraud  actual no fraud  20413\n",
       "1  Logistic Regression pp1  predicted no fraud     actual fraud   1106\n",
       "2  Logistic Regression pp1     predicted fraud  actual no fraud   1438\n",
       "3  Logistic Regression pp1     predicted fraud     actual fraud  20745"
      ]
     },
     "execution_count": 76,
     "metadata": {},
     "output_type": "execute_result"
    }
   ],
   "source": [
    "conf_matrix_pp1_df"
   ]
  },
  {
   "cell_type": "code",
   "execution_count": 77,
   "id": "740c4926",
   "metadata": {},
   "outputs": [],
   "source": [
    "conf_matrix_pp1_df.to_csv('../../data/confmatrpp1_csv', index=False)"
   ]
  },
  {
   "cell_type": "code",
   "execution_count": 135,
   "id": "de6103bd",
   "metadata": {},
   "outputs": [
    {
     "name": "stdout",
     "output_type": "stream",
     "text": [
      "distance_from_home: 0.10317986972373501\n",
      "distance_from_last_transaction: 0.0341952313395268\n",
      "ratio_to_median_purchase_price: 0.3043827132244139\n",
      "repeat_retailer: 0.004790779979558539\n",
      "used_chip: 0.010166582765090856\n",
      "used_pin_number: 0.027390813540188862\n",
      "online_order: 0.07377618110536514\n"
     ]
    },
    {
     "data": {
      "image/png": "[encoded data removed]",
      "text/plain": [
       "<Figure size 640x480 with 1 Axes>"
      ]
     },
     "metadata": {},
     "output_type": "display_data"
    }
   ],
   "source": [
    "# Calculate permutation feature importance\n",
    "perm_importancepp1 = permutation_importance(lr, X_test, y_test, n_repeats=30, random_state=42)\n",
    "\n",
    "for feature, importance in zip(X.columns, perm_importance.importances_mean):\n",
    "    print(f\"{feature}: {importance}\")\n",
    "\n",
    "sorted_idx = perm_importancepp1.importances_mean.argsort()[::-1]\n",
    "plt.bar(range(X_pp3.shape[1]), perm_importancepp1.importances_mean[sorted_idx])\n",
    "plt.xticks(range(X_pp3.shape[1]), X.columns[sorted_idx], rotation=45)\n",
    "plt.show()\n"
   ]
  },
  {
   "cell_type": "code",
   "execution_count": 136,
   "id": "ad31f16f",
   "metadata": {},
   "outputs": [
    {
     "data": {
      "text/html": [
       "<div>\n",
       "<style scoped>\n",
       "    .dataframe tbody tr th:only-of-type {\n",
       "        vertical-align: middle;\n",
       "    }\n",
       "\n",
       "    .dataframe tbody tr th {\n",
       "        vertical-align: top;\n",
       "    }\n",
       "\n",
       "    .dataframe thead th {\n",
       "        text-align: right;\n",
       "    }\n",
       "</style>\n",
       "<table border=\"1\" class=\"dataframe\">\n",
       "  <thead>\n",
       "    <tr style=\"text-align: right;\">\n",
       "      <th></th>\n",
       "      <th>Model</th>\n",
       "      <th>Feature</th>\n",
       "      <th>Importance</th>\n",
       "    </tr>\n",
       "  </thead>\n",
       "  <tbody>\n",
       "    <tr>\n",
       "      <th>0</th>\n",
       "      <td>Logistic Regression pp1</td>\n",
       "      <td>distance_from_home</td>\n",
       "      <td>0.103180</td>\n",
       "    </tr>\n",
       "    <tr>\n",
       "      <th>1</th>\n",
       "      <td>Logistic Regression pp1</td>\n",
       "      <td>distance_from_last_transaction</td>\n",
       "      <td>0.034195</td>\n",
       "    </tr>\n",
       "    <tr>\n",
       "      <th>2</th>\n",
       "      <td>Logistic Regression pp1</td>\n",
       "      <td>ratio_to_median_purchase_price</td>\n",
       "      <td>0.304383</td>\n",
       "    </tr>\n",
       "    <tr>\n",
       "      <th>3</th>\n",
       "      <td>Logistic Regression pp1</td>\n",
       "      <td>repeat_retailer</td>\n",
       "      <td>0.004791</td>\n",
       "    </tr>\n",
       "    <tr>\n",
       "      <th>4</th>\n",
       "      <td>Logistic Regression pp1</td>\n",
       "      <td>used_chip</td>\n",
       "      <td>0.010167</td>\n",
       "    </tr>\n",
       "    <tr>\n",
       "      <th>5</th>\n",
       "      <td>Logistic Regression pp1</td>\n",
       "      <td>used_pin_number</td>\n",
       "      <td>0.027391</td>\n",
       "    </tr>\n",
       "    <tr>\n",
       "      <th>6</th>\n",
       "      <td>Logistic Regression pp1</td>\n",
       "      <td>online_order</td>\n",
       "      <td>0.073776</td>\n",
       "    </tr>\n",
       "  </tbody>\n",
       "</table>\n",
       "</div>"
      ],
      "text/plain": [
       "                     Model                         Feature  Importance\n",
       "0  Logistic Regression pp1              distance_from_home    0.103180\n",
       "1  Logistic Regression pp1  distance_from_last_transaction    0.034195\n",
       "2  Logistic Regression pp1  ratio_to_median_purchase_price    0.304383\n",
       "3  Logistic Regression pp1                 repeat_retailer    0.004791\n",
       "4  Logistic Regression pp1                       used_chip    0.010167\n",
       "5  Logistic Regression pp1                 used_pin_number    0.027391\n",
       "6  Logistic Regression pp1                    online_order    0.073776"
      ]
     },
     "execution_count": 136,
     "metadata": {},
     "output_type": "execute_result"
    }
   ],
   "source": [
    "feature_importancepp1 = pd.DataFrame({'Model': 'Logistic Regression pp1',\n",
    "    'Feature': X.columns,\n",
    "    'Importance': perm_importancepp1.importances_mean})\n",
    "feature_importancepp1"
   ]
  },
  {
   "cell_type": "code",
   "execution_count": 137,
   "id": "f8277f73",
   "metadata": {},
   "outputs": [],
   "source": [
    "feature_importancepp1.to_csv('../../data/feature_importance_pp1.csv', index=False)"
   ]
  },
  {
   "cell_type": "markdown",
   "id": "0c494684",
   "metadata": {},
   "source": [
    "## Hyper Parameter Tuning\n",
    "Iterating with different hyperparameters for the logistic regression model , to see if I can improve the recall score. I will use hyperopt for that. "
   ]
  },
  {
   "cell_type": "code",
   "execution_count": 17,
   "id": "25fac143",
   "metadata": {},
   "outputs": [
    {
     "name": "stdout",
     "output_type": "stream",
     "text": [
      "100%|█████████████████████████████████████████████| 100/100 [04:57<00:00,  2.97s/trial, best loss: -0.9505278342447265]\n",
      "Best hyperparameters: {'C': 0.009040258023010133, 'class_weight': 1, 'penalty': 0, 'random_state': 0, 'solver': 0}\n"
     ]
    }
   ],
   "source": [
    "#I want to improve the recall_score in the logistic regression model\n",
    "recall_scorer = make_scorer(recall_score, greater_is_better=True)\n",
    "\n",
    "space = {\n",
    "    'penalty': hp.choice('penalty', ['l1', 'l2']),\n",
    "    'C': hp.loguniform('C', -5, 5),\n",
    "    'class_weight': hp.choice('class_weight', [None, 'balanced']),\n",
    "    'random_state': hp.choice('random_state', [None, 42]),\n",
    "    'solver': hp.choice('solver', ['liblinear'])\n",
    "}\n",
    "\n",
    "def objective(space):\n",
    "    model = LogisticRegression(\n",
    "        penalty=space['penalty'],\n",
    "        C=space['C'],\n",
    "        class_weight=space['class_weight'],\n",
    "        random_state=space['random_state'],\n",
    "        solver=space['solver'],\n",
    "    )\n",
    "    \n",
    "    cv_recall = cross_val_score(model, X_train, y_train, cv=5, scoring=recall_scorer).mean()\n",
    "    \n",
    "    return {'loss': -cv_recall, 'status': STATUS_OK}\n",
    "\n",
    "trials = Trials()\n",
    "best = fmin(fn=objective,  \n",
    "            space=space,    \n",
    "            algo=tpe.suggest,\n",
    "            max_evals=100,\n",
    "            trials=trials)\n",
    "\n",
    "print(\"Best hyperparameters:\", best)\n"
   ]
  },
  {
   "cell_type": "code",
   "execution_count": 18,
   "id": "731da86e",
   "metadata": {},
   "outputs": [],
   "source": [
    "#Creating a  model for logistic regression with the best parameters found by hyperopt in the above cell. \n",
    "class_weight_map = {0: None, 1: 'balanced'}\n",
    "best_class_weight = class_weight_map[best['class_weight']]\n",
    "penalty_map = {0: 'l1', 1: 'l2'}\n",
    "best_penalty = penalty_map[best['penalty']]\n",
    "solver_map = {0: 'liblinear'}\n",
    "best_solver = solver_map[best['solver']]\n",
    "\n",
    "model = LogisticRegression(\n",
    "    C=best['C'],\n",
    "    class_weight=best_class_weight,\n",
    "    penalty=best_penalty,\n",
    "    random_state=best['random_state'],\n",
    "    solver=best_solver,\n",
    ")\n"
   ]
  },
  {
   "cell_type": "code",
   "execution_count": 19,
   "id": "0cd930ea",
   "metadata": {},
   "outputs": [
    {
     "data": {
      "text/html": [
       "<style>#sk-container-id-2 {color: black;}#sk-container-id-2 pre{padding: 0;}#sk-container-id-2 div.sk-toggleable {background-color: white;}#sk-container-id-2 label.sk-toggleable__label {cursor: pointer;display: block;width: 100%;margin-bottom: 0;padding: 0.3em;box-sizing: border-box;text-align: center;}#sk-container-id-2 label.sk-toggleable__label-arrow:before {content: \"▸\";float: left;margin-right: 0.25em;color: #696969;}#sk-container-id-2 label.sk-toggleable__label-arrow:hover:before {color: black;}#sk-container-id-2 div.sk-estimator:hover label.sk-toggleable__label-arrow:before {color: black;}#sk-container-id-2 div.sk-toggleable__content {max-height: 0;max-width: 0;overflow: hidden;text-align: left;background-color: #f0f8ff;}#sk-container-id-2 div.sk-toggleable__content pre {margin: 0.2em;color: black;border-radius: 0.25em;background-color: #f0f8ff;}#sk-container-id-2 input.sk-toggleable__control:checked~div.sk-toggleable__content {max-height: 200px;max-width: 100%;overflow: auto;}#sk-container-id-2 input.sk-toggleable__control:checked~label.sk-toggleable__label-arrow:before {content: \"▾\";}#sk-container-id-2 div.sk-estimator input.sk-toggleable__control:checked~label.sk-toggleable__label {background-color: #d4ebff;}#sk-container-id-2 div.sk-label input.sk-toggleable__control:checked~label.sk-toggleable__label {background-color: #d4ebff;}#sk-container-id-2 input.sk-hidden--visually {border: 0;clip: rect(1px 1px 1px 1px);clip: rect(1px, 1px, 1px, 1px);height: 1px;margin: -1px;overflow: hidden;padding: 0;position: absolute;width: 1px;}#sk-container-id-2 div.sk-estimator {font-family: monospace;background-color: #f0f8ff;border: 1px dotted black;border-radius: 0.25em;box-sizing: border-box;margin-bottom: 0.5em;}#sk-container-id-2 div.sk-estimator:hover {background-color: #d4ebff;}#sk-container-id-2 div.sk-parallel-item::after {content: \"\";width: 100%;border-bottom: 1px solid gray;flex-grow: 1;}#sk-container-id-2 div.sk-label:hover label.sk-toggleable__label {background-color: #d4ebff;}#sk-container-id-2 div.sk-serial::before {content: \"\";position: absolute;border-left: 1px solid gray;box-sizing: border-box;top: 0;bottom: 0;left: 50%;z-index: 0;}#sk-container-id-2 div.sk-serial {display: flex;flex-direction: column;align-items: center;background-color: white;padding-right: 0.2em;padding-left: 0.2em;position: relative;}#sk-container-id-2 div.sk-item {position: relative;z-index: 1;}#sk-container-id-2 div.sk-parallel {display: flex;align-items: stretch;justify-content: center;background-color: white;position: relative;}#sk-container-id-2 div.sk-item::before, #sk-container-id-2 div.sk-parallel-item::before {content: \"\";position: absolute;border-left: 1px solid gray;box-sizing: border-box;top: 0;bottom: 0;left: 50%;z-index: -1;}#sk-container-id-2 div.sk-parallel-item {display: flex;flex-direction: column;z-index: 1;position: relative;background-color: white;}#sk-container-id-2 div.sk-parallel-item:first-child::after {align-self: flex-end;width: 50%;}#sk-container-id-2 div.sk-parallel-item:last-child::after {align-self: flex-start;width: 50%;}#sk-container-id-2 div.sk-parallel-item:only-child::after {width: 0;}#sk-container-id-2 div.sk-dashed-wrapped {border: 1px dashed gray;margin: 0 0.4em 0.5em 0.4em;box-sizing: border-box;padding-bottom: 0.4em;background-color: white;}#sk-container-id-2 div.sk-label label {font-family: monospace;font-weight: bold;display: inline-block;line-height: 1.2em;}#sk-container-id-2 div.sk-label-container {text-align: center;}#sk-container-id-2 div.sk-container {/* jupyter's `normalize.less` sets `[hidden] { display: none; }` but bootstrap.min.css set `[hidden] { display: none !important; }` so we also need the `!important` here to be able to override the default hidden behavior on the sphinx rendered scikit-learn.org. See: https://github.com/scikit-learn/scikit-learn/issues/21755 */display: inline-block !important;position: relative;}#sk-container-id-2 div.sk-text-repr-fallback {display: none;}</style><div id=\"sk-container-id-2\" class=\"sk-top-container\"><div class=\"sk-text-repr-fallback\"><pre>LogisticRegression(C=0.009040258023010133, class_weight=&#x27;balanced&#x27;,\n",
       "                   penalty=&#x27;l1&#x27;, random_state=0, solver=&#x27;liblinear&#x27;)</pre><b>In a Jupyter environment, please rerun this cell to show the HTML representation or trust the notebook. <br />On GitHub, the HTML representation is unable to render, please try loading this page with nbviewer.org.</b></div><div class=\"sk-container\" hidden><div class=\"sk-item\"><div class=\"sk-estimator sk-toggleable\"><input class=\"sk-toggleable__control sk-hidden--visually\" id=\"sk-estimator-id-2\" type=\"checkbox\" checked><label for=\"sk-estimator-id-2\" class=\"sk-toggleable__label sk-toggleable__label-arrow\">LogisticRegression</label><div class=\"sk-toggleable__content\"><pre>LogisticRegression(C=0.009040258023010133, class_weight=&#x27;balanced&#x27;,\n",
       "                   penalty=&#x27;l1&#x27;, random_state=0, solver=&#x27;liblinear&#x27;)</pre></div></div></div></div></div>"
      ],
      "text/plain": [
       "LogisticRegression(C=0.009040258023010133, class_weight='balanced',\n",
       "                   penalty='l1', random_state=0, solver='liblinear')"
      ]
     },
     "execution_count": 19,
     "metadata": {},
     "output_type": "execute_result"
    }
   ],
   "source": [
    "model.fit(X_train, y_train)   #training the model"
   ]
  },
  {
   "cell_type": "code",
   "execution_count": 20,
   "id": "edab1ab3",
   "metadata": {},
   "outputs": [],
   "source": [
    "#getting the predictions\n",
    "y_pred_model_test = model.predict(X_test)\n",
    "y_pred_model_train = model.predict(X_train)  "
   ]
  },
  {
   "cell_type": "code",
   "execution_count": 21,
   "id": "662d9ef9",
   "metadata": {},
   "outputs": [
    {
     "data": {
      "text/html": [
       "<div>\n",
       "<style scoped>\n",
       "    .dataframe tbody tr th:only-of-type {\n",
       "        vertical-align: middle;\n",
       "    }\n",
       "\n",
       "    .dataframe tbody tr th {\n",
       "        vertical-align: top;\n",
       "    }\n",
       "\n",
       "    .dataframe thead th {\n",
       "        text-align: right;\n",
       "    }\n",
       "</style>\n",
       "<table border=\"1\" class=\"dataframe\">\n",
       "  <thead>\n",
       "    <tr style=\"text-align: right;\">\n",
       "      <th></th>\n",
       "      <th>accuracy</th>\n",
       "      <th>precision</th>\n",
       "      <th>recall</th>\n",
       "      <th>f1</th>\n",
       "      <th>kapppa</th>\n",
       "      <th>set</th>\n",
       "      <th>model</th>\n",
       "    </tr>\n",
       "  </thead>\n",
       "  <tbody>\n",
       "    <tr>\n",
       "      <th>0</th>\n",
       "      <td>0.941719</td>\n",
       "      <td>0.933993</td>\n",
       "      <td>0.950620</td>\n",
       "      <td>0.942233</td>\n",
       "      <td>0.883438</td>\n",
       "      <td>test</td>\n",
       "      <td>Logistic Regression after tuning pp1</td>\n",
       "    </tr>\n",
       "    <tr>\n",
       "      <th>1</th>\n",
       "      <td>0.940421</td>\n",
       "      <td>0.931889</td>\n",
       "      <td>0.950299</td>\n",
       "      <td>0.941004</td>\n",
       "      <td>0.880843</td>\n",
       "      <td>train</td>\n",
       "      <td>Logistic Regression after tuning pp1</td>\n",
       "    </tr>\n",
       "  </tbody>\n",
       "</table>\n",
       "</div>"
      ],
      "text/plain": [
       "   accuracy  precision    recall        f1    kapppa    set  \\\n",
       "0  0.941719   0.933993  0.950620  0.942233  0.883438   test   \n",
       "1  0.940421   0.931889  0.950299  0.941004  0.880843  train   \n",
       "\n",
       "                                  model  \n",
       "0  Logistic Regression after tuning pp1  \n",
       "1  Logistic Regression after tuning pp1  "
      ]
     },
     "execution_count": 21,
     "metadata": {},
     "output_type": "execute_result"
    }
   ],
   "source": [
    "#calling the function metrics made above to get all the metrics for this newly created model \n",
    "results_model = metrics(y_test, y_pred_model_test, y_train, y_pred_model_train, 'Logistic Regression after tuning pp1')\n",
    "results_model"
   ]
  },
  {
   "cell_type": "code",
   "execution_count": 22,
   "id": "13af26ee",
   "metadata": {},
   "outputs": [],
   "source": [
    "# Concatenating the initial logistic regression model and the tuned logistic regression model so we can compare them \n",
    "results_pp1=pd.concat([results_logistic, results_model], axis=0)"
   ]
  },
  {
   "cell_type": "code",
   "execution_count": 23,
   "id": "080c7259",
   "metadata": {},
   "outputs": [
    {
     "data": {
      "text/html": [
       "<div>\n",
       "<style scoped>\n",
       "    .dataframe tbody tr th:only-of-type {\n",
       "        vertical-align: middle;\n",
       "    }\n",
       "\n",
       "    .dataframe tbody tr th {\n",
       "        vertical-align: top;\n",
       "    }\n",
       "\n",
       "    .dataframe thead th {\n",
       "        text-align: right;\n",
       "    }\n",
       "</style>\n",
       "<table border=\"1\" class=\"dataframe\">\n",
       "  <thead>\n",
       "    <tr style=\"text-align: right;\">\n",
       "      <th></th>\n",
       "      <th>accuracy</th>\n",
       "      <th>precision</th>\n",
       "      <th>recall</th>\n",
       "      <th>f1</th>\n",
       "      <th>kapppa</th>\n",
       "      <th>set</th>\n",
       "      <th>model</th>\n",
       "    </tr>\n",
       "  </thead>\n",
       "  <tbody>\n",
       "    <tr>\n",
       "      <th>0</th>\n",
       "      <td>0.941788</td>\n",
       "      <td>0.935176</td>\n",
       "      <td>0.949384</td>\n",
       "      <td>0.942226</td>\n",
       "      <td>0.883575</td>\n",
       "      <td>test</td>\n",
       "      <td>Logistic Regression pp1</td>\n",
       "    </tr>\n",
       "    <tr>\n",
       "      <th>1</th>\n",
       "      <td>0.940429</td>\n",
       "      <td>0.932849</td>\n",
       "      <td>0.949185</td>\n",
       "      <td>0.940946</td>\n",
       "      <td>0.880858</td>\n",
       "      <td>train</td>\n",
       "      <td>Logistic Regression pp1</td>\n",
       "    </tr>\n",
       "    <tr>\n",
       "      <th>0</th>\n",
       "      <td>0.941719</td>\n",
       "      <td>0.933993</td>\n",
       "      <td>0.950620</td>\n",
       "      <td>0.942233</td>\n",
       "      <td>0.883438</td>\n",
       "      <td>test</td>\n",
       "      <td>Logistic Regression after tuning pp1</td>\n",
       "    </tr>\n",
       "    <tr>\n",
       "      <th>1</th>\n",
       "      <td>0.940421</td>\n",
       "      <td>0.931889</td>\n",
       "      <td>0.950299</td>\n",
       "      <td>0.941004</td>\n",
       "      <td>0.880843</td>\n",
       "      <td>train</td>\n",
       "      <td>Logistic Regression after tuning pp1</td>\n",
       "    </tr>\n",
       "  </tbody>\n",
       "</table>\n",
       "</div>"
      ],
      "text/plain": [
       "   accuracy  precision    recall        f1    kapppa    set  \\\n",
       "0  0.941788   0.935176  0.949384  0.942226  0.883575   test   \n",
       "1  0.940429   0.932849  0.949185  0.940946  0.880858  train   \n",
       "0  0.941719   0.933993  0.950620  0.942233  0.883438   test   \n",
       "1  0.940421   0.931889  0.950299  0.941004  0.880843  train   \n",
       "\n",
       "                                  model  \n",
       "0               Logistic Regression pp1  \n",
       "1               Logistic Regression pp1  \n",
       "0  Logistic Regression after tuning pp1  \n",
       "1  Logistic Regression after tuning pp1  "
      ]
     },
     "execution_count": 23,
     "metadata": {},
     "output_type": "execute_result"
    }
   ],
   "source": [
    "results_pp1"
   ]
  },
  {
   "cell_type": "markdown",
   "id": "a6fd4955",
   "metadata": {},
   "source": [
    "As we can see from the data above, there is some improvement in the recall score."
   ]
  },
  {
   "cell_type": "code",
   "execution_count": 24,
   "id": "59c1a0da",
   "metadata": {},
   "outputs": [],
   "source": [
    "results_pp1.to_csv('../../data/model_metrics_pp1.csv')"
   ]
  },
  {
   "cell_type": "markdown",
   "id": "8ce08014",
   "metadata": {},
   "source": [
    "Saving to csv file"
   ]
  },
  {
   "cell_type": "code",
   "execution_count": 25,
   "id": "d2874fb9",
   "metadata": {},
   "outputs": [
    {
     "data": {
      "image/png": "[encoded data removed]",
      "text/plain": [
       "<Figure size 1500x800 with 2 Axes>"
      ]
     },
     "metadata": {},
     "output_type": "display_data"
    }
   ],
   "source": [
    "#confusion matrix for Tuned logistic regression. \n",
    "plt.figure(figsize=(15, 8))\n",
    "\n",
    "conf_matrix = cm(y_test, y_pred_model_test)\n",
    "\n",
    "percentage_matrix = conf_matrix / conf_matrix.sum() * 100\n",
    "\n",
    "#I added 5 decimal places so we can see the difference from the default logistic regression model\n",
    "percentage_matrix_formatted = [\"{:.5f}\".format(value) for value in percentage_matrix.flatten()]\n",
    "\n",
    "percentage_matrix_formatted = np.array(percentage_matrix_formatted).reshape(percentage_matrix.shape)\n",
    "\n",
    "ax = sns.heatmap(percentage_matrix, annot=percentage_matrix_formatted, fmt='')\n",
    "\n",
    "plt.title('Confusion Matrix')\n",
    "plt.ylabel('Truth')\n",
    "plt.xlabel('Prediction')\n",
    "plt.show()\n"
   ]
  },
  {
   "cell_type": "markdown",
   "id": "9f19bf7d",
   "metadata": {},
   "source": [
    "The confusion matrix has changed a bit. The False Positives (which are the ones I prefer for this project) have increased and the False Negatives (the ones I wanted to decrease) have decreased. There is some improvement therefore but it is small. "
   ]
  },
  {
   "cell_type": "code",
   "execution_count": 70,
   "id": "12f57038",
   "metadata": {},
   "outputs": [],
   "source": [
    "conf_matrix = cm(y_test, y_pred_model_test)\n",
    "\n",
    "# Convert confusion matrix to DataFrame\n",
    "conf_matrix_pp1_tuned_df = pd.DataFrame(conf_matrix, columns=['Predicted no fraud', 'Predicted fraud'], index=['Actual no fraud', 'Actual fraud'])"
   ]
  },
  {
   "cell_type": "code",
   "execution_count": 71,
   "id": "bd0dce38",
   "metadata": {},
   "outputs": [
    {
     "data": {
      "text/html": [
       "<div>\n",
       "<style scoped>\n",
       "    .dataframe tbody tr th:only-of-type {\n",
       "        vertical-align: middle;\n",
       "    }\n",
       "\n",
       "    .dataframe tbody tr th {\n",
       "        vertical-align: top;\n",
       "    }\n",
       "\n",
       "    .dataframe thead th {\n",
       "        text-align: right;\n",
       "    }\n",
       "</style>\n",
       "<table border=\"1\" class=\"dataframe\">\n",
       "  <thead>\n",
       "    <tr style=\"text-align: right;\">\n",
       "      <th></th>\n",
       "      <th>Predicted no fraud</th>\n",
       "      <th>Predicted fraud</th>\n",
       "    </tr>\n",
       "  </thead>\n",
       "  <tbody>\n",
       "    <tr>\n",
       "      <th>Actual no fraud</th>\n",
       "      <td>20383</td>\n",
       "      <td>1468</td>\n",
       "    </tr>\n",
       "    <tr>\n",
       "      <th>Actual fraud</th>\n",
       "      <td>1079</td>\n",
       "      <td>20772</td>\n",
       "    </tr>\n",
       "  </tbody>\n",
       "</table>\n",
       "</div>"
      ],
      "text/plain": [
       "                 Predicted no fraud  Predicted fraud\n",
       "Actual no fraud               20383             1468\n",
       "Actual fraud                   1079            20772"
      ]
     },
     "execution_count": 71,
     "metadata": {},
     "output_type": "execute_result"
    }
   ],
   "source": [
    "conf_matrix_pp1_tuned_df"
   ]
  },
  {
   "cell_type": "code",
   "execution_count": 138,
   "id": "f0232743",
   "metadata": {},
   "outputs": [],
   "source": [
    "conf_matrix_pp1_tuned_df = pd.DataFrame({\n",
    "    'model': ['Logistic Regression after tuning pp1', 'Logistic Regression after tuning pp1', 'Logistic Regression after tuning pp1', 'Logistic Regression after tuning pp1'],\n",
    "    'prediction': ['predicted no fraud', 'predicted no fraud', 'predicted fraud', 'predicted fraud'],\n",
    "    'actual': ['actual no fraud', 'actual fraud', 'actual no fraud', 'actual fraud'],\n",
    "    'count': [20383, 1079, 1468, 20772]\n",
    "})\n"
   ]
  },
  {
   "cell_type": "code",
   "execution_count": 140,
   "id": "4df03ea3",
   "metadata": {},
   "outputs": [
    {
     "data": {
      "text/html": [
       "<div>\n",
       "<style scoped>\n",
       "    .dataframe tbody tr th:only-of-type {\n",
       "        vertical-align: middle;\n",
       "    }\n",
       "\n",
       "    .dataframe tbody tr th {\n",
       "        vertical-align: top;\n",
       "    }\n",
       "\n",
       "    .dataframe thead th {\n",
       "        text-align: right;\n",
       "    }\n",
       "</style>\n",
       "<table border=\"1\" class=\"dataframe\">\n",
       "  <thead>\n",
       "    <tr style=\"text-align: right;\">\n",
       "      <th></th>\n",
       "      <th>model</th>\n",
       "      <th>prediction</th>\n",
       "      <th>actual</th>\n",
       "      <th>count</th>\n",
       "    </tr>\n",
       "  </thead>\n",
       "  <tbody>\n",
       "    <tr>\n",
       "      <th>0</th>\n",
       "      <td>Logistic Regression after tuning pp1</td>\n",
       "      <td>predicted no fraud</td>\n",
       "      <td>actual no fraud</td>\n",
       "      <td>20383</td>\n",
       "    </tr>\n",
       "    <tr>\n",
       "      <th>1</th>\n",
       "      <td>Logistic Regression after tuning pp1</td>\n",
       "      <td>predicted no fraud</td>\n",
       "      <td>actual fraud</td>\n",
       "      <td>1079</td>\n",
       "    </tr>\n",
       "    <tr>\n",
       "      <th>2</th>\n",
       "      <td>Logistic Regression after tuning pp1</td>\n",
       "      <td>predicted fraud</td>\n",
       "      <td>actual no fraud</td>\n",
       "      <td>1468</td>\n",
       "    </tr>\n",
       "    <tr>\n",
       "      <th>3</th>\n",
       "      <td>Logistic Regression after tuning pp1</td>\n",
       "      <td>predicted fraud</td>\n",
       "      <td>actual fraud</td>\n",
       "      <td>20772</td>\n",
       "    </tr>\n",
       "  </tbody>\n",
       "</table>\n",
       "</div>"
      ],
      "text/plain": [
       "                                  model          prediction           actual  \\\n",
       "0  Logistic Regression after tuning pp1  predicted no fraud  actual no fraud   \n",
       "1  Logistic Regression after tuning pp1  predicted no fraud     actual fraud   \n",
       "2  Logistic Regression after tuning pp1     predicted fraud  actual no fraud   \n",
       "3  Logistic Regression after tuning pp1     predicted fraud     actual fraud   \n",
       "\n",
       "   count  \n",
       "0  20383  \n",
       "1   1079  \n",
       "2   1468  \n",
       "3  20772  "
      ]
     },
     "execution_count": 140,
     "metadata": {},
     "output_type": "execute_result"
    }
   ],
   "source": [
    "conf_matrix_pp1_tuned_df"
   ]
  },
  {
   "cell_type": "code",
   "execution_count": 141,
   "id": "a834bbec",
   "metadata": {},
   "outputs": [],
   "source": [
    "conf_matrix_pp1_tuned_df.to_csv('../../data/confmatrpp1tuned_csv', index=False)"
   ]
  },
  {
   "cell_type": "code",
   "execution_count": 27,
   "id": "59ed83a0",
   "metadata": {},
   "outputs": [],
   "source": [
    "pickle.dump(lr, open('models/logistic_regression_pp1_default.pk', 'wb'))  \n",
    "pickle.dump(model, open('models/logistic_regression_pp1_tuned.pk', 'wb'))   "
   ]
  },
  {
   "cell_type": "markdown",
   "id": "35534212",
   "metadata": {},
   "source": [
    "Saving the models"
   ]
  },
  {
   "cell_type": "markdown",
   "id": "7b3e1016",
   "metadata": {},
   "source": [
    "Getting the information needed for a power bi dashboard"
   ]
  },
  {
   "cell_type": "code",
   "execution_count": 28,
   "id": "9e2fe6ec",
   "metadata": {},
   "outputs": [
    {
     "name": "stdout",
     "output_type": "stream",
     "text": [
      "Optimization terminated successfully.\n",
      "         Current function value: 0.214586\n",
      "         Iterations 10\n",
      "                           Logit Regression Results                           \n",
      "==============================================================================\n",
      "Dep. Variable:                  fraud   No. Observations:               174806\n",
      "Model:                          Logit   Df Residuals:                   174798\n",
      "Method:                           MLE   Df Model:                            7\n",
      "Date:                Mon, 04 Dec 2023   Pseudo R-squ.:                  0.6904\n",
      "Time:                        10:46:36   Log-Likelihood:                -37511.\n",
      "converged:                       True   LL-Null:                   -1.2117e+05\n",
      "Covariance Type:            nonrobust   LLR p-value:                     0.000\n",
      "==================================================================================================\n",
      "                                     coef    std err          z      P>|z|      [0.025      0.975]\n",
      "--------------------------------------------------------------------------------------------------\n",
      "const                             -7.6161      0.053   -142.656      0.000      -7.721      -7.511\n",
      "distance_from_home                 0.0287      0.000    130.341      0.000       0.028       0.029\n",
      "distance_from_last_transaction     0.0496      0.001     86.944      0.000       0.049       0.051\n",
      "ratio_to_median_purchase_price     1.1931      0.007    181.704      0.000       1.180       1.206\n",
      "repeat_retailer                   -1.4501      0.031    -46.393      0.000      -1.511      -1.389\n",
      "used_chip                         -1.1724      0.022    -52.466      0.000      -1.216      -1.129\n",
      "used_pin_number                  -10.0742      0.160    -62.854      0.000     -10.388      -9.760\n",
      "online_order                       5.0546      0.043    118.376      0.000       4.971       5.138\n",
      "==================================================================================================\n",
      "\n",
      "Possibly complete quasi-separation: A fraction 0.13 of observations can be\n",
      "perfectly predicted. This might indicate that there is complete\n",
      "quasi-separation. In this case some parameters will not be identified.\n"
     ]
    }
   ],
   "source": [
    "#to see the importance of the columns \n",
    "x = sm.add_constant(data[[\n",
    "    'distance_from_home',\n",
    "    'distance_from_last_transaction',\n",
    "    'ratio_to_median_purchase_price',\n",
    "    'repeat_retailer',\n",
    "    'used_chip',\n",
    "    'used_pin_number',\n",
    "    'online_order'\n",
    "]])\n",
    "\n",
    "y = data['fraud']\n",
    "\n",
    "modelo = sm.Logit(y, x) \n",
    "result = modelo.fit()\n",
    "\n",
    "print(result.summary())"
   ]
  },
  {
   "cell_type": "code",
   "execution_count": 142,
   "id": "3b3c0fd5",
   "metadata": {},
   "outputs": [
    {
     "name": "stdout",
     "output_type": "stream",
     "text": [
      "distance_from_home: 0.10312037587905971\n",
      "distance_from_last_transaction: 0.03376046862843808\n",
      "ratio_to_median_purchase_price: 0.30766402758073624\n",
      "repeat_retailer: 0.004375085808429853\n",
      "used_chip: 0.010145226000335643\n",
      "used_pin_number: 0.025361158146843057\n",
      "online_order: 0.07149482098454688\n"
     ]
    },
    {
     "data": {
      "image/png": "[encoded data removed]",
      "text/plain": [
       "<Figure size 640x480 with 1 Axes>"
      ]
     },
     "metadata": {},
     "output_type": "display_data"
    }
   ],
   "source": [
    "# Calculate permutation feature importance\n",
    "perm_importancepp1tuned = permutation_importance(model, X_test, y_test, n_repeats=30, random_state=42)\n",
    "\n",
    "for feature, importance in zip(X.columns, perm_importancepp1tuned.importances_mean):\n",
    "    print(f\"{feature}: {importance}\")\n",
    "\n",
    "sorted_idx = perm_importancepp1tuned.importances_mean.argsort()[::-1]\n",
    "plt.bar(range(X.shape[1]), perm_importancepp1tuned.importances_mean[sorted_idx])\n",
    "plt.xticks(range(X.shape[1]), X.columns[sorted_idx], rotation=45)\n",
    "plt.show()\n"
   ]
  },
  {
   "cell_type": "code",
   "execution_count": 143,
   "id": "0954123f",
   "metadata": {},
   "outputs": [
    {
     "data": {
      "text/html": [
       "<div>\n",
       "<style scoped>\n",
       "    .dataframe tbody tr th:only-of-type {\n",
       "        vertical-align: middle;\n",
       "    }\n",
       "\n",
       "    .dataframe tbody tr th {\n",
       "        vertical-align: top;\n",
       "    }\n",
       "\n",
       "    .dataframe thead th {\n",
       "        text-align: right;\n",
       "    }\n",
       "</style>\n",
       "<table border=\"1\" class=\"dataframe\">\n",
       "  <thead>\n",
       "    <tr style=\"text-align: right;\">\n",
       "      <th></th>\n",
       "      <th>Model</th>\n",
       "      <th>Feature</th>\n",
       "      <th>Importance</th>\n",
       "    </tr>\n",
       "  </thead>\n",
       "  <tbody>\n",
       "    <tr>\n",
       "      <th>0</th>\n",
       "      <td>Logistic Regression after tuning pp1</td>\n",
       "      <td>distance_from_home</td>\n",
       "      <td>0.103120</td>\n",
       "    </tr>\n",
       "    <tr>\n",
       "      <th>1</th>\n",
       "      <td>Logistic Regression after tuning pp1</td>\n",
       "      <td>distance_from_last_transaction</td>\n",
       "      <td>0.033760</td>\n",
       "    </tr>\n",
       "    <tr>\n",
       "      <th>2</th>\n",
       "      <td>Logistic Regression after tuning pp1</td>\n",
       "      <td>ratio_to_median_purchase_price</td>\n",
       "      <td>0.307664</td>\n",
       "    </tr>\n",
       "    <tr>\n",
       "      <th>3</th>\n",
       "      <td>Logistic Regression after tuning pp1</td>\n",
       "      <td>repeat_retailer</td>\n",
       "      <td>0.004375</td>\n",
       "    </tr>\n",
       "    <tr>\n",
       "      <th>4</th>\n",
       "      <td>Logistic Regression after tuning pp1</td>\n",
       "      <td>used_chip</td>\n",
       "      <td>0.010145</td>\n",
       "    </tr>\n",
       "    <tr>\n",
       "      <th>5</th>\n",
       "      <td>Logistic Regression after tuning pp1</td>\n",
       "      <td>used_pin_number</td>\n",
       "      <td>0.025361</td>\n",
       "    </tr>\n",
       "    <tr>\n",
       "      <th>6</th>\n",
       "      <td>Logistic Regression after tuning pp1</td>\n",
       "      <td>online_order</td>\n",
       "      <td>0.071495</td>\n",
       "    </tr>\n",
       "  </tbody>\n",
       "</table>\n",
       "</div>"
      ],
      "text/plain": [
       "                                  Model                         Feature  \\\n",
       "0  Logistic Regression after tuning pp1              distance_from_home   \n",
       "1  Logistic Regression after tuning pp1  distance_from_last_transaction   \n",
       "2  Logistic Regression after tuning pp1  ratio_to_median_purchase_price   \n",
       "3  Logistic Regression after tuning pp1                 repeat_retailer   \n",
       "4  Logistic Regression after tuning pp1                       used_chip   \n",
       "5  Logistic Regression after tuning pp1                 used_pin_number   \n",
       "6  Logistic Regression after tuning pp1                    online_order   \n",
       "\n",
       "   Importance  \n",
       "0    0.103120  \n",
       "1    0.033760  \n",
       "2    0.307664  \n",
       "3    0.004375  \n",
       "4    0.010145  \n",
       "5    0.025361  \n",
       "6    0.071495  "
      ]
     },
     "execution_count": 143,
     "metadata": {},
     "output_type": "execute_result"
    }
   ],
   "source": [
    "feature_importancepp1tuned = pd.DataFrame({'Model': 'Logistic Regression after tuning pp1',\n",
    "    'Feature': X.columns,\n",
    "    'Importance': perm_importancepp1tuned.importances_mean})\n",
    "feature_importancepp1tuned"
   ]
  },
  {
   "cell_type": "code",
   "execution_count": 144,
   "id": "0fd05de1",
   "metadata": {},
   "outputs": [],
   "source": [
    "feature_importancepp1tuned.to_csv('../../data/feature_importancepp1tuned.csv', index=False)"
   ]
  },
  {
   "cell_type": "markdown",
   "id": "546f1483",
   "metadata": {},
   "source": [
    "Saving to csv file"
   ]
  },
  {
   "cell_type": "markdown",
   "id": "8ef6f9ca",
   "metadata": {},
   "source": [
    "## Preprocessing 2:\n",
    "Upsampling, max-min to standardize the data, without repeat retailer column, outliers removed. "
   ]
  },
  {
   "cell_type": "code",
   "execution_count": 32,
   "id": "6b6adf8c",
   "metadata": {},
   "outputs": [],
   "source": [
    "data_pp2=pd.read_csv('../../data/data_pp2.csv')"
   ]
  },
  {
   "cell_type": "code",
   "execution_count": 33,
   "id": "06f0777f",
   "metadata": {},
   "outputs": [
    {
     "data": {
      "text/html": [
       "<div>\n",
       "<style scoped>\n",
       "    .dataframe tbody tr th:only-of-type {\n",
       "        vertical-align: middle;\n",
       "    }\n",
       "\n",
       "    .dataframe tbody tr th {\n",
       "        vertical-align: top;\n",
       "    }\n",
       "\n",
       "    .dataframe thead th {\n",
       "        text-align: right;\n",
       "    }\n",
       "</style>\n",
       "<table border=\"1\" class=\"dataframe\">\n",
       "  <thead>\n",
       "    <tr style=\"text-align: right;\">\n",
       "      <th></th>\n",
       "      <th>distance_from_home</th>\n",
       "      <th>distance_from_last_transaction</th>\n",
       "      <th>ratio_to_median_purchase_price</th>\n",
       "      <th>used_chip</th>\n",
       "      <th>used_pin_number</th>\n",
       "      <th>online_order</th>\n",
       "      <th>fraud</th>\n",
       "    </tr>\n",
       "  </thead>\n",
       "  <tbody>\n",
       "    <tr>\n",
       "      <th>0</th>\n",
       "      <td>57.877857</td>\n",
       "      <td>0.311140</td>\n",
       "      <td>1.945940</td>\n",
       "      <td>1.0</td>\n",
       "      <td>0.0</td>\n",
       "      <td>0.0</td>\n",
       "      <td>0.0</td>\n",
       "    </tr>\n",
       "    <tr>\n",
       "      <th>1</th>\n",
       "      <td>10.829943</td>\n",
       "      <td>0.175592</td>\n",
       "      <td>1.294219</td>\n",
       "      <td>0.0</td>\n",
       "      <td>0.0</td>\n",
       "      <td>0.0</td>\n",
       "      <td>0.0</td>\n",
       "    </tr>\n",
       "    <tr>\n",
       "      <th>2</th>\n",
       "      <td>5.091079</td>\n",
       "      <td>0.805153</td>\n",
       "      <td>0.427715</td>\n",
       "      <td>0.0</td>\n",
       "      <td>0.0</td>\n",
       "      <td>1.0</td>\n",
       "      <td>0.0</td>\n",
       "    </tr>\n",
       "    <tr>\n",
       "      <th>3</th>\n",
       "      <td>2.247564</td>\n",
       "      <td>5.600044</td>\n",
       "      <td>0.362663</td>\n",
       "      <td>1.0</td>\n",
       "      <td>0.0</td>\n",
       "      <td>1.0</td>\n",
       "      <td>0.0</td>\n",
       "    </tr>\n",
       "    <tr>\n",
       "      <th>4</th>\n",
       "      <td>44.190936</td>\n",
       "      <td>0.566486</td>\n",
       "      <td>2.222767</td>\n",
       "      <td>1.0</td>\n",
       "      <td>0.0</td>\n",
       "      <td>1.0</td>\n",
       "      <td>0.0</td>\n",
       "    </tr>\n",
       "  </tbody>\n",
       "</table>\n",
       "</div>"
      ],
      "text/plain": [
       "   distance_from_home  distance_from_last_transaction  \\\n",
       "0           57.877857                        0.311140   \n",
       "1           10.829943                        0.175592   \n",
       "2            5.091079                        0.805153   \n",
       "3            2.247564                        5.600044   \n",
       "4           44.190936                        0.566486   \n",
       "\n",
       "   ratio_to_median_purchase_price  used_chip  used_pin_number  online_order  \\\n",
       "0                        1.945940        1.0              0.0           0.0   \n",
       "1                        1.294219        0.0              0.0           0.0   \n",
       "2                        0.427715        0.0              0.0           1.0   \n",
       "3                        0.362663        1.0              0.0           1.0   \n",
       "4                        2.222767        1.0              0.0           1.0   \n",
       "\n",
       "   fraud  \n",
       "0    0.0  \n",
       "1    0.0  \n",
       "2    0.0  \n",
       "3    0.0  \n",
       "4    0.0  "
      ]
     },
     "execution_count": 33,
     "metadata": {},
     "output_type": "execute_result"
    }
   ],
   "source": [
    "data_pp2.head()"
   ]
  },
  {
   "cell_type": "code",
   "execution_count": 34,
   "id": "5c53b763",
   "metadata": {},
   "outputs": [],
   "source": [
    "X_pp2=data_pp2.drop('fraud', axis=1)\n",
    "y_pp2=data_pp2['fraud']"
   ]
  },
  {
   "cell_type": "markdown",
   "id": "3febe9d0",
   "metadata": {},
   "source": [
    "Dividing into X (df without my target column) and y(my target column)"
   ]
  },
  {
   "cell_type": "code",
   "execution_count": 35,
   "id": "18aad1a1",
   "metadata": {},
   "outputs": [],
   "source": [
    "X_train2, X_test2, y_train2, y_test2 =tts(X_pp2, y_pp2, \n",
    "                                       random_state=42,\n",
    "                                       stratify=y_pp2)\n"
   ]
  },
  {
   "cell_type": "markdown",
   "id": "d923f9f9",
   "metadata": {},
   "source": [
    "Splitting my data into train and test"
   ]
  },
  {
   "cell_type": "code",
   "execution_count": 36,
   "id": "1a397ca1",
   "metadata": {},
   "outputs": [],
   "source": [
    "scaler = MinMaxScaler()\n",
    " \n",
    "scaler.fit(X_train2[['distance_from_home', 'distance_from_last_transaction', 'ratio_to_median_purchase_price']])\n",
    " \n",
    "X_train2[['distance_from_home', 'distance_from_last_transaction', 'ratio_to_median_purchase_price']] = scaler.transform(X_train2[['distance_from_home', 'distance_from_last_transaction', 'ratio_to_median_purchase_price']])   \n",
    "X_test2[['distance_from_home', 'distance_from_last_transaction', 'ratio_to_median_purchase_price']] = scaler.transform(X_test2[['distance_from_home', 'distance_from_last_transaction', 'ratio_to_median_purchase_price']])  \n"
   ]
  },
  {
   "cell_type": "markdown",
   "id": "9f27cd16",
   "metadata": {},
   "source": [
    "Standardizing my data using MinMaxScaler"
   ]
  },
  {
   "cell_type": "code",
   "execution_count": 37,
   "id": "e04b934c",
   "metadata": {},
   "outputs": [
    {
     "data": {
      "text/html": [
       "<div>\n",
       "<style scoped>\n",
       "    .dataframe tbody tr th:only-of-type {\n",
       "        vertical-align: middle;\n",
       "    }\n",
       "\n",
       "    .dataframe tbody tr th {\n",
       "        vertical-align: top;\n",
       "    }\n",
       "\n",
       "    .dataframe thead th {\n",
       "        text-align: right;\n",
       "    }\n",
       "</style>\n",
       "<table border=\"1\" class=\"dataframe\">\n",
       "  <thead>\n",
       "    <tr style=\"text-align: right;\">\n",
       "      <th></th>\n",
       "      <th>distance_from_home</th>\n",
       "      <th>distance_from_last_transaction</th>\n",
       "      <th>ratio_to_median_purchase_price</th>\n",
       "      <th>used_chip</th>\n",
       "      <th>used_pin_number</th>\n",
       "      <th>online_order</th>\n",
       "    </tr>\n",
       "  </thead>\n",
       "  <tbody>\n",
       "    <tr>\n",
       "      <th>740823</th>\n",
       "      <td>0.152006</td>\n",
       "      <td>0.165432</td>\n",
       "      <td>0.997607</td>\n",
       "      <td>1.0</td>\n",
       "      <td>0.0</td>\n",
       "      <td>1.0</td>\n",
       "    </tr>\n",
       "    <tr>\n",
       "      <th>1027318</th>\n",
       "      <td>0.053624</td>\n",
       "      <td>0.331380</td>\n",
       "      <td>0.927654</td>\n",
       "      <td>0.0</td>\n",
       "      <td>0.0</td>\n",
       "      <td>1.0</td>\n",
       "    </tr>\n",
       "    <tr>\n",
       "      <th>570198</th>\n",
       "      <td>0.006793</td>\n",
       "      <td>0.170880</td>\n",
       "      <td>0.519988</td>\n",
       "      <td>0.0</td>\n",
       "      <td>0.0</td>\n",
       "      <td>1.0</td>\n",
       "    </tr>\n",
       "    <tr>\n",
       "      <th>1060821</th>\n",
       "      <td>0.251114</td>\n",
       "      <td>0.017425</td>\n",
       "      <td>0.885811</td>\n",
       "      <td>1.0</td>\n",
       "      <td>0.0</td>\n",
       "      <td>1.0</td>\n",
       "    </tr>\n",
       "    <tr>\n",
       "      <th>780157</th>\n",
       "      <td>0.621325</td>\n",
       "      <td>0.437289</td>\n",
       "      <td>0.942692</td>\n",
       "      <td>0.0</td>\n",
       "      <td>0.0</td>\n",
       "      <td>1.0</td>\n",
       "    </tr>\n",
       "  </tbody>\n",
       "</table>\n",
       "</div>"
      ],
      "text/plain": [
       "         distance_from_home  distance_from_last_transaction  \\\n",
       "740823             0.152006                        0.165432   \n",
       "1027318            0.053624                        0.331380   \n",
       "570198             0.006793                        0.170880   \n",
       "1060821            0.251114                        0.017425   \n",
       "780157             0.621325                        0.437289   \n",
       "\n",
       "         ratio_to_median_purchase_price  used_chip  used_pin_number  \\\n",
       "740823                         0.997607        1.0              0.0   \n",
       "1027318                        0.927654        0.0              0.0   \n",
       "570198                         0.519988        0.0              0.0   \n",
       "1060821                        0.885811        1.0              0.0   \n",
       "780157                         0.942692        0.0              0.0   \n",
       "\n",
       "         online_order  \n",
       "740823            1.0  \n",
       "1027318           1.0  \n",
       "570198            1.0  \n",
       "1060821           1.0  \n",
       "780157            1.0  "
      ]
     },
     "execution_count": 37,
     "metadata": {},
     "output_type": "execute_result"
    }
   ],
   "source": [
    "X_train2.head()"
   ]
  },
  {
   "cell_type": "code",
   "execution_count": 38,
   "id": "03e0dd77",
   "metadata": {},
   "outputs": [],
   "source": [
    "lr_pp2=LogisticRegression()"
   ]
  },
  {
   "cell_type": "markdown",
   "id": "ced59d38",
   "metadata": {},
   "source": [
    "Initiating the model"
   ]
  },
  {
   "cell_type": "code",
   "execution_count": 39,
   "id": "a39e575c",
   "metadata": {},
   "outputs": [
    {
     "data": {
      "text/html": [
       "<style>#sk-container-id-3 {color: black;}#sk-container-id-3 pre{padding: 0;}#sk-container-id-3 div.sk-toggleable {background-color: white;}#sk-container-id-3 label.sk-toggleable__label {cursor: pointer;display: block;width: 100%;margin-bottom: 0;padding: 0.3em;box-sizing: border-box;text-align: center;}#sk-container-id-3 label.sk-toggleable__label-arrow:before {content: \"▸\";float: left;margin-right: 0.25em;color: #696969;}#sk-container-id-3 label.sk-toggleable__label-arrow:hover:before {color: black;}#sk-container-id-3 div.sk-estimator:hover label.sk-toggleable__label-arrow:before {color: black;}#sk-container-id-3 div.sk-toggleable__content {max-height: 0;max-width: 0;overflow: hidden;text-align: left;background-color: #f0f8ff;}#sk-container-id-3 div.sk-toggleable__content pre {margin: 0.2em;color: black;border-radius: 0.25em;background-color: #f0f8ff;}#sk-container-id-3 input.sk-toggleable__control:checked~div.sk-toggleable__content {max-height: 200px;max-width: 100%;overflow: auto;}#sk-container-id-3 input.sk-toggleable__control:checked~label.sk-toggleable__label-arrow:before {content: \"▾\";}#sk-container-id-3 div.sk-estimator input.sk-toggleable__control:checked~label.sk-toggleable__label {background-color: #d4ebff;}#sk-container-id-3 div.sk-label input.sk-toggleable__control:checked~label.sk-toggleable__label {background-color: #d4ebff;}#sk-container-id-3 input.sk-hidden--visually {border: 0;clip: rect(1px 1px 1px 1px);clip: rect(1px, 1px, 1px, 1px);height: 1px;margin: -1px;overflow: hidden;padding: 0;position: absolute;width: 1px;}#sk-container-id-3 div.sk-estimator {font-family: monospace;background-color: #f0f8ff;border: 1px dotted black;border-radius: 0.25em;box-sizing: border-box;margin-bottom: 0.5em;}#sk-container-id-3 div.sk-estimator:hover {background-color: #d4ebff;}#sk-container-id-3 div.sk-parallel-item::after {content: \"\";width: 100%;border-bottom: 1px solid gray;flex-grow: 1;}#sk-container-id-3 div.sk-label:hover label.sk-toggleable__label {background-color: #d4ebff;}#sk-container-id-3 div.sk-serial::before {content: \"\";position: absolute;border-left: 1px solid gray;box-sizing: border-box;top: 0;bottom: 0;left: 50%;z-index: 0;}#sk-container-id-3 div.sk-serial {display: flex;flex-direction: column;align-items: center;background-color: white;padding-right: 0.2em;padding-left: 0.2em;position: relative;}#sk-container-id-3 div.sk-item {position: relative;z-index: 1;}#sk-container-id-3 div.sk-parallel {display: flex;align-items: stretch;justify-content: center;background-color: white;position: relative;}#sk-container-id-3 div.sk-item::before, #sk-container-id-3 div.sk-parallel-item::before {content: \"\";position: absolute;border-left: 1px solid gray;box-sizing: border-box;top: 0;bottom: 0;left: 50%;z-index: -1;}#sk-container-id-3 div.sk-parallel-item {display: flex;flex-direction: column;z-index: 1;position: relative;background-color: white;}#sk-container-id-3 div.sk-parallel-item:first-child::after {align-self: flex-end;width: 50%;}#sk-container-id-3 div.sk-parallel-item:last-child::after {align-self: flex-start;width: 50%;}#sk-container-id-3 div.sk-parallel-item:only-child::after {width: 0;}#sk-container-id-3 div.sk-dashed-wrapped {border: 1px dashed gray;margin: 0 0.4em 0.5em 0.4em;box-sizing: border-box;padding-bottom: 0.4em;background-color: white;}#sk-container-id-3 div.sk-label label {font-family: monospace;font-weight: bold;display: inline-block;line-height: 1.2em;}#sk-container-id-3 div.sk-label-container {text-align: center;}#sk-container-id-3 div.sk-container {/* jupyter's `normalize.less` sets `[hidden] { display: none; }` but bootstrap.min.css set `[hidden] { display: none !important; }` so we also need the `!important` here to be able to override the default hidden behavior on the sphinx rendered scikit-learn.org. See: https://github.com/scikit-learn/scikit-learn/issues/21755 */display: inline-block !important;position: relative;}#sk-container-id-3 div.sk-text-repr-fallback {display: none;}</style><div id=\"sk-container-id-3\" class=\"sk-top-container\"><div class=\"sk-text-repr-fallback\"><pre>LogisticRegression()</pre><b>In a Jupyter environment, please rerun this cell to show the HTML representation or trust the notebook. <br />On GitHub, the HTML representation is unable to render, please try loading this page with nbviewer.org.</b></div><div class=\"sk-container\" hidden><div class=\"sk-item\"><div class=\"sk-estimator sk-toggleable\"><input class=\"sk-toggleable__control sk-hidden--visually\" id=\"sk-estimator-id-3\" type=\"checkbox\" checked><label for=\"sk-estimator-id-3\" class=\"sk-toggleable__label sk-toggleable__label-arrow\">LogisticRegression</label><div class=\"sk-toggleable__content\"><pre>LogisticRegression()</pre></div></div></div></div></div>"
      ],
      "text/plain": [
       "LogisticRegression()"
      ]
     },
     "execution_count": 39,
     "metadata": {},
     "output_type": "execute_result"
    }
   ],
   "source": [
    "lr_pp2.fit(X_train2, y_train2)"
   ]
  },
  {
   "cell_type": "markdown",
   "id": "6012b833",
   "metadata": {},
   "source": [
    "Fitting the model"
   ]
  },
  {
   "cell_type": "code",
   "execution_count": 40,
   "id": "fc46c51c",
   "metadata": {},
   "outputs": [],
   "source": [
    "y_test2_pred_lr = lr_pp2.predict(X_test2)"
   ]
  },
  {
   "cell_type": "code",
   "execution_count": 41,
   "id": "e0f7045c",
   "metadata": {},
   "outputs": [],
   "source": [
    "y_train2_pred_lr = lr_pp2.predict(X_train2)"
   ]
  },
  {
   "cell_type": "markdown",
   "id": "009f2af8",
   "metadata": {},
   "source": [
    "Making predictions"
   ]
  },
  {
   "cell_type": "code",
   "execution_count": 42,
   "id": "e37f13a9",
   "metadata": {},
   "outputs": [],
   "source": [
    "results_pp2 = metrics(y_test2, y_test2_pred_lr, y_train2, y_train2_pred_lr, 'Logistic Regression pp2')"
   ]
  },
  {
   "cell_type": "markdown",
   "id": "391db3a4",
   "metadata": {},
   "source": [
    "Calculating the metrics"
   ]
  },
  {
   "cell_type": "code",
   "execution_count": 43,
   "id": "0a3f0554",
   "metadata": {},
   "outputs": [
    {
     "data": {
      "text/html": [
       "<div>\n",
       "<style scoped>\n",
       "    .dataframe tbody tr th:only-of-type {\n",
       "        vertical-align: middle;\n",
       "    }\n",
       "\n",
       "    .dataframe tbody tr th {\n",
       "        vertical-align: top;\n",
       "    }\n",
       "\n",
       "    .dataframe thead th {\n",
       "        text-align: right;\n",
       "    }\n",
       "</style>\n",
       "<table border=\"1\" class=\"dataframe\">\n",
       "  <thead>\n",
       "    <tr style=\"text-align: right;\">\n",
       "      <th></th>\n",
       "      <th>accuracy</th>\n",
       "      <th>precision</th>\n",
       "      <th>recall</th>\n",
       "      <th>f1</th>\n",
       "      <th>kapppa</th>\n",
       "      <th>set</th>\n",
       "      <th>model</th>\n",
       "    </tr>\n",
       "  </thead>\n",
       "  <tbody>\n",
       "    <tr>\n",
       "      <th>0</th>\n",
       "      <td>0.992803</td>\n",
       "      <td>0.988442</td>\n",
       "      <td>0.997266</td>\n",
       "      <td>0.992835</td>\n",
       "      <td>0.985605</td>\n",
       "      <td>test</td>\n",
       "      <td>Logistic Regression pp2</td>\n",
       "    </tr>\n",
       "    <tr>\n",
       "      <th>1</th>\n",
       "      <td>0.993088</td>\n",
       "      <td>0.988760</td>\n",
       "      <td>0.997516</td>\n",
       "      <td>0.993119</td>\n",
       "      <td>0.986177</td>\n",
       "      <td>train</td>\n",
       "      <td>Logistic Regression pp2</td>\n",
       "    </tr>\n",
       "  </tbody>\n",
       "</table>\n",
       "</div>"
      ],
      "text/plain": [
       "   accuracy  precision    recall        f1    kapppa    set  \\\n",
       "0  0.992803   0.988442  0.997266  0.992835  0.985605   test   \n",
       "1  0.993088   0.988760  0.997516  0.993119  0.986177  train   \n",
       "\n",
       "                     model  \n",
       "0  Logistic Regression pp2  \n",
       "1  Logistic Regression pp2  "
      ]
     },
     "execution_count": 43,
     "metadata": {},
     "output_type": "execute_result"
    }
   ],
   "source": [
    "results_pp2"
   ]
  },
  {
   "cell_type": "code",
   "execution_count": 44,
   "id": "2753d99f",
   "metadata": {},
   "outputs": [],
   "source": [
    "results_pp2.to_csv('../../data/model_metrics_pp2.csv', index=False)"
   ]
  },
  {
   "cell_type": "markdown",
   "id": "55b84226",
   "metadata": {},
   "source": [
    "Saving the file"
   ]
  },
  {
   "cell_type": "code",
   "execution_count": 45,
   "id": "47e0fc6c",
   "metadata": {},
   "outputs": [
    {
     "data": {
      "image/png": "[encoded data removed]",
      "text/plain": [
       "<Figure size 1500x800 with 2 Axes>"
      ]
     },
     "metadata": {},
     "output_type": "display_data"
    }
   ],
   "source": [
    "plt.figure(figsize=(15, 8))\n",
    "\n",
    "ax=sns.heatmap(cm(y_test2, y_test2_pred_lr)/cm(y_test2, y_test2_pred_lr).sum() * 100, \n",
    "               annot=True)\n",
    "\n",
    "plt.title('Confusion Matrix')\n",
    "plt.ylabel('Truth')\n",
    "plt.xlabel('Prediction')\n",
    "plt.show();\n"
   ]
  },
  {
   "cell_type": "markdown",
   "id": "44021d63",
   "metadata": {},
   "source": [
    "From the confusion matrix above we can see that this model has 49% True Negatives (Predicted not fraud when it is actually not fraud),  50% True Positive (Predicted fraud that is actually fraud), 0.14% False Negatives (Predicted no fraud when there was fraud) and 0.58% False Positives (Predicted fraud when there was no fraud) "
   ]
  },
  {
   "cell_type": "code",
   "execution_count": 91,
   "id": "f98a67a3",
   "metadata": {},
   "outputs": [],
   "source": [
    "conf_matrix_pp2 = cm(y_test2, y_test2_pred_lr)\n",
    "\n",
    "# Convert confusion matrix to DataFrame\n",
    "conf_matrix_pp2_df = pd.DataFrame(conf_matrix_pp2, columns=['Predicted no fraud', 'Predicted fraud'], index=['Actual no fraud', 'Actual fraud'])"
   ]
  },
  {
   "cell_type": "code",
   "execution_count": 92,
   "id": "9c854cea",
   "metadata": {},
   "outputs": [
    {
     "data": {
      "text/html": [
       "<div>\n",
       "<style scoped>\n",
       "    .dataframe tbody tr th:only-of-type {\n",
       "        vertical-align: middle;\n",
       "    }\n",
       "\n",
       "    .dataframe tbody tr th {\n",
       "        vertical-align: top;\n",
       "    }\n",
       "\n",
       "    .dataframe thead th {\n",
       "        text-align: right;\n",
       "    }\n",
       "</style>\n",
       "<table border=\"1\" class=\"dataframe\">\n",
       "  <thead>\n",
       "    <tr style=\"text-align: right;\">\n",
       "      <th></th>\n",
       "      <th>Predicted no fraud</th>\n",
       "      <th>Predicted fraud</th>\n",
       "    </tr>\n",
       "  </thead>\n",
       "  <tbody>\n",
       "    <tr>\n",
       "      <th>Actual no fraud</th>\n",
       "      <td>175359</td>\n",
       "      <td>2069</td>\n",
       "    </tr>\n",
       "    <tr>\n",
       "      <th>Actual fraud</th>\n",
       "      <td>485</td>\n",
       "      <td>176942</td>\n",
       "    </tr>\n",
       "  </tbody>\n",
       "</table>\n",
       "</div>"
      ],
      "text/plain": [
       "                 Predicted no fraud  Predicted fraud\n",
       "Actual no fraud              175359             2069\n",
       "Actual fraud                    485           176942"
      ]
     },
     "execution_count": 92,
     "metadata": {},
     "output_type": "execute_result"
    }
   ],
   "source": [
    "conf_matrix_pp2_df"
   ]
  },
  {
   "cell_type": "code",
   "execution_count": 146,
   "id": "62f7ffd4",
   "metadata": {},
   "outputs": [],
   "source": [
    "conf_matrix_pp2_df = pd.DataFrame({\n",
    "    'model': ['Logistic Regression pp2', 'Logistic Regression pp2', 'Logistic Regression pp2', 'Logistic Regression pp2'],\n",
    "    'prediction': ['predicted no fraud', 'predicted no fraud', 'predicted fraud', 'predicted fraud'],\n",
    "    'actual': ['actual no fraud', 'actual fraud', 'actual no fraud', 'actual fraud'],\n",
    "    'count': [175359, 485, 2069, 176942]\n",
    "})"
   ]
  },
  {
   "cell_type": "code",
   "execution_count": 147,
   "id": "5b4797bc",
   "metadata": {},
   "outputs": [
    {
     "data": {
      "text/html": [
       "<div>\n",
       "<style scoped>\n",
       "    .dataframe tbody tr th:only-of-type {\n",
       "        vertical-align: middle;\n",
       "    }\n",
       "\n",
       "    .dataframe tbody tr th {\n",
       "        vertical-align: top;\n",
       "    }\n",
       "\n",
       "    .dataframe thead th {\n",
       "        text-align: right;\n",
       "    }\n",
       "</style>\n",
       "<table border=\"1\" class=\"dataframe\">\n",
       "  <thead>\n",
       "    <tr style=\"text-align: right;\">\n",
       "      <th></th>\n",
       "      <th>model</th>\n",
       "      <th>prediction</th>\n",
       "      <th>actual</th>\n",
       "      <th>count</th>\n",
       "    </tr>\n",
       "  </thead>\n",
       "  <tbody>\n",
       "    <tr>\n",
       "      <th>0</th>\n",
       "      <td>Logistic Regression pp2</td>\n",
       "      <td>predicted no fraud</td>\n",
       "      <td>actual no fraud</td>\n",
       "      <td>175359</td>\n",
       "    </tr>\n",
       "    <tr>\n",
       "      <th>1</th>\n",
       "      <td>Logistic Regression pp2</td>\n",
       "      <td>predicted no fraud</td>\n",
       "      <td>actual fraud</td>\n",
       "      <td>485</td>\n",
       "    </tr>\n",
       "    <tr>\n",
       "      <th>2</th>\n",
       "      <td>Logistic Regression pp2</td>\n",
       "      <td>predicted fraud</td>\n",
       "      <td>actual no fraud</td>\n",
       "      <td>2069</td>\n",
       "    </tr>\n",
       "    <tr>\n",
       "      <th>3</th>\n",
       "      <td>Logistic Regression pp2</td>\n",
       "      <td>predicted fraud</td>\n",
       "      <td>actual fraud</td>\n",
       "      <td>176942</td>\n",
       "    </tr>\n",
       "  </tbody>\n",
       "</table>\n",
       "</div>"
      ],
      "text/plain": [
       "                     model          prediction           actual   count\n",
       "0  Logistic Regression pp2  predicted no fraud  actual no fraud  175359\n",
       "1  Logistic Regression pp2  predicted no fraud     actual fraud     485\n",
       "2  Logistic Regression pp2     predicted fraud  actual no fraud    2069\n",
       "3  Logistic Regression pp2     predicted fraud     actual fraud  176942"
      ]
     },
     "execution_count": 147,
     "metadata": {},
     "output_type": "execute_result"
    }
   ],
   "source": [
    "conf_matrix_pp2_df"
   ]
  },
  {
   "cell_type": "code",
   "execution_count": 148,
   "id": "b4b0619b",
   "metadata": {},
   "outputs": [],
   "source": [
    "conf_matrix_pp2_df.to_csv('../../data/confmatrpp2.csv', index=False)"
   ]
  },
  {
   "cell_type": "code",
   "execution_count": 149,
   "id": "32642108",
   "metadata": {},
   "outputs": [
    {
     "name": "stdout",
     "output_type": "stream",
     "text": [
      "distance_from_home: 0.0010460610671963984\n",
      "distance_from_last_transaction: -2.338983528488899e-05\n",
      "ratio_to_median_purchase_price: 0.4542462883900936\n",
      "used_chip: 0.0009567288047230023\n",
      "used_pin_number: 0.026376031524613288\n",
      "online_order: 0.014523209010252969\n"
     ]
    },
    {
     "data": {
      "image/png": "[encoded data removed]",
      "text/plain": [
       "<Figure size 640x480 with 1 Axes>"
      ]
     },
     "metadata": {},
     "output_type": "display_data"
    }
   ],
   "source": [
    "# Calculate permutation feature importance\n",
    "perm_importancepp2 = permutation_importance(lr_pp2, X_test2, y_test2, n_repeats=30, random_state=42)\n",
    "\n",
    "for feature, importance in zip(X_pp2.columns, perm_importancepp2.importances_mean):\n",
    "    print(f\"{feature}: {importance}\")\n",
    "\n",
    "sorted_idx = perm_importancepp2.importances_mean.argsort()[::-1]\n",
    "plt.bar(range(X_pp2.shape[1]), perm_importancepp2.importances_mean[sorted_idx])\n",
    "plt.xticks(range(X_pp2.shape[1]), X_pp2.columns[sorted_idx], rotation=45)\n",
    "plt.show()\n"
   ]
  },
  {
   "cell_type": "code",
   "execution_count": 150,
   "id": "5f0a1f57",
   "metadata": {},
   "outputs": [
    {
     "data": {
      "text/html": [
       "<div>\n",
       "<style scoped>\n",
       "    .dataframe tbody tr th:only-of-type {\n",
       "        vertical-align: middle;\n",
       "    }\n",
       "\n",
       "    .dataframe tbody tr th {\n",
       "        vertical-align: top;\n",
       "    }\n",
       "\n",
       "    .dataframe thead th {\n",
       "        text-align: right;\n",
       "    }\n",
       "</style>\n",
       "<table border=\"1\" class=\"dataframe\">\n",
       "  <thead>\n",
       "    <tr style=\"text-align: right;\">\n",
       "      <th></th>\n",
       "      <th>Model</th>\n",
       "      <th>Feature</th>\n",
       "      <th>Importance</th>\n",
       "    </tr>\n",
       "  </thead>\n",
       "  <tbody>\n",
       "    <tr>\n",
       "      <th>0</th>\n",
       "      <td>Logistic Regression pp2</td>\n",
       "      <td>distance_from_home</td>\n",
       "      <td>0.001046</td>\n",
       "    </tr>\n",
       "    <tr>\n",
       "      <th>1</th>\n",
       "      <td>Logistic Regression pp2</td>\n",
       "      <td>distance_from_last_transaction</td>\n",
       "      <td>-0.000023</td>\n",
       "    </tr>\n",
       "    <tr>\n",
       "      <th>2</th>\n",
       "      <td>Logistic Regression pp2</td>\n",
       "      <td>ratio_to_median_purchase_price</td>\n",
       "      <td>0.454246</td>\n",
       "    </tr>\n",
       "    <tr>\n",
       "      <th>3</th>\n",
       "      <td>Logistic Regression pp2</td>\n",
       "      <td>used_chip</td>\n",
       "      <td>0.000957</td>\n",
       "    </tr>\n",
       "    <tr>\n",
       "      <th>4</th>\n",
       "      <td>Logistic Regression pp2</td>\n",
       "      <td>used_pin_number</td>\n",
       "      <td>0.026376</td>\n",
       "    </tr>\n",
       "    <tr>\n",
       "      <th>5</th>\n",
       "      <td>Logistic Regression pp2</td>\n",
       "      <td>online_order</td>\n",
       "      <td>0.014523</td>\n",
       "    </tr>\n",
       "  </tbody>\n",
       "</table>\n",
       "</div>"
      ],
      "text/plain": [
       "                     Model                         Feature  Importance\n",
       "0  Logistic Regression pp2              distance_from_home    0.001046\n",
       "1  Logistic Regression pp2  distance_from_last_transaction   -0.000023\n",
       "2  Logistic Regression pp2  ratio_to_median_purchase_price    0.454246\n",
       "3  Logistic Regression pp2                       used_chip    0.000957\n",
       "4  Logistic Regression pp2                 used_pin_number    0.026376\n",
       "5  Logistic Regression pp2                    online_order    0.014523"
      ]
     },
     "execution_count": 150,
     "metadata": {},
     "output_type": "execute_result"
    }
   ],
   "source": [
    "feature_importancepp2 = pd.DataFrame({'Model': 'Logistic Regression pp2',\n",
    "    'Feature': X_pp2.columns,\n",
    "    'Importance': perm_importancepp2.importances_mean})\n",
    "feature_importancepp2"
   ]
  },
  {
   "cell_type": "markdown",
   "id": "25e48445",
   "metadata": {},
   "source": [
    "These are the columns and their importance for this model"
   ]
  },
  {
   "cell_type": "code",
   "execution_count": 151,
   "id": "8d80a43e",
   "metadata": {},
   "outputs": [],
   "source": [
    "feature_importancepp2.to_csv('../../data/feature_importancepp2.csv', index=False)"
   ]
  },
  {
   "cell_type": "markdown",
   "id": "87cf0bf2",
   "metadata": {},
   "source": [
    "Saving feature_importancepp2 to csv"
   ]
  },
  {
   "cell_type": "code",
   "execution_count": 62,
   "id": "c3fd8e96",
   "metadata": {},
   "outputs": [],
   "source": [
    "pickle.dump(lr_pp2, open('models/logistic_regression_pp2_default.pk', 'wb'))  "
   ]
  },
  {
   "cell_type": "markdown",
   "id": "19c66dd4",
   "metadata": {},
   "source": [
    "Saving the model from pp2"
   ]
  },
  {
   "cell_type": "markdown",
   "id": "cd4ca73c",
   "metadata": {},
   "source": [
    "## Preprocessing 3:\n",
    "Upsampling, robustscaling to standardize the data, with repeat retailer column, with outliers. "
   ]
  },
  {
   "cell_type": "code",
   "execution_count": 78,
   "id": "024cfa12",
   "metadata": {},
   "outputs": [],
   "source": [
    "data_pp3=pd.read_csv('../../data/data_pp3.csv')"
   ]
  },
  {
   "cell_type": "code",
   "execution_count": 79,
   "id": "202365fe",
   "metadata": {},
   "outputs": [
    {
     "data": {
      "text/html": [
       "<div>\n",
       "<style scoped>\n",
       "    .dataframe tbody tr th:only-of-type {\n",
       "        vertical-align: middle;\n",
       "    }\n",
       "\n",
       "    .dataframe tbody tr th {\n",
       "        vertical-align: top;\n",
       "    }\n",
       "\n",
       "    .dataframe thead th {\n",
       "        text-align: right;\n",
       "    }\n",
       "</style>\n",
       "<table border=\"1\" class=\"dataframe\">\n",
       "  <thead>\n",
       "    <tr style=\"text-align: right;\">\n",
       "      <th></th>\n",
       "      <th>distance_from_home</th>\n",
       "      <th>distance_from_last_transaction</th>\n",
       "      <th>ratio_to_median_purchase_price</th>\n",
       "      <th>repeat_retailer</th>\n",
       "      <th>used_chip</th>\n",
       "      <th>used_pin_number</th>\n",
       "      <th>online_order</th>\n",
       "      <th>fraud</th>\n",
       "    </tr>\n",
       "  </thead>\n",
       "  <tbody>\n",
       "    <tr>\n",
       "      <th>0</th>\n",
       "      <td>57.877857</td>\n",
       "      <td>0.311140</td>\n",
       "      <td>1.945940</td>\n",
       "      <td>1.0</td>\n",
       "      <td>1.0</td>\n",
       "      <td>0.0</td>\n",
       "      <td>0.0</td>\n",
       "      <td>0.0</td>\n",
       "    </tr>\n",
       "    <tr>\n",
       "      <th>1</th>\n",
       "      <td>10.829943</td>\n",
       "      <td>0.175592</td>\n",
       "      <td>1.294219</td>\n",
       "      <td>1.0</td>\n",
       "      <td>0.0</td>\n",
       "      <td>0.0</td>\n",
       "      <td>0.0</td>\n",
       "      <td>0.0</td>\n",
       "    </tr>\n",
       "    <tr>\n",
       "      <th>2</th>\n",
       "      <td>5.091079</td>\n",
       "      <td>0.805153</td>\n",
       "      <td>0.427715</td>\n",
       "      <td>1.0</td>\n",
       "      <td>0.0</td>\n",
       "      <td>0.0</td>\n",
       "      <td>1.0</td>\n",
       "      <td>0.0</td>\n",
       "    </tr>\n",
       "    <tr>\n",
       "      <th>3</th>\n",
       "      <td>2.247564</td>\n",
       "      <td>5.600044</td>\n",
       "      <td>0.362663</td>\n",
       "      <td>1.0</td>\n",
       "      <td>1.0</td>\n",
       "      <td>0.0</td>\n",
       "      <td>1.0</td>\n",
       "      <td>0.0</td>\n",
       "    </tr>\n",
       "    <tr>\n",
       "      <th>4</th>\n",
       "      <td>44.190936</td>\n",
       "      <td>0.566486</td>\n",
       "      <td>2.222767</td>\n",
       "      <td>1.0</td>\n",
       "      <td>1.0</td>\n",
       "      <td>0.0</td>\n",
       "      <td>1.0</td>\n",
       "      <td>0.0</td>\n",
       "    </tr>\n",
       "  </tbody>\n",
       "</table>\n",
       "</div>"
      ],
      "text/plain": [
       "   distance_from_home  distance_from_last_transaction  \\\n",
       "0           57.877857                        0.311140   \n",
       "1           10.829943                        0.175592   \n",
       "2            5.091079                        0.805153   \n",
       "3            2.247564                        5.600044   \n",
       "4           44.190936                        0.566486   \n",
       "\n",
       "   ratio_to_median_purchase_price  repeat_retailer  used_chip  \\\n",
       "0                        1.945940              1.0        1.0   \n",
       "1                        1.294219              1.0        0.0   \n",
       "2                        0.427715              1.0        0.0   \n",
       "3                        0.362663              1.0        1.0   \n",
       "4                        2.222767              1.0        1.0   \n",
       "\n",
       "   used_pin_number  online_order  fraud  \n",
       "0              0.0           0.0    0.0  \n",
       "1              0.0           0.0    0.0  \n",
       "2              0.0           1.0    0.0  \n",
       "3              0.0           1.0    0.0  \n",
       "4              0.0           1.0    0.0  "
      ]
     },
     "execution_count": 79,
     "metadata": {},
     "output_type": "execute_result"
    }
   ],
   "source": [
    "data_pp3.head()"
   ]
  },
  {
   "cell_type": "code",
   "execution_count": 80,
   "id": "14496ea1",
   "metadata": {},
   "outputs": [],
   "source": [
    "X_pp3=data_pp3.drop('fraud', axis=1)\n",
    "y_pp3=data_pp3['fraud']"
   ]
  },
  {
   "cell_type": "markdown",
   "id": "19fa1127",
   "metadata": {},
   "source": [
    "Dividing into X (all columns except target column) and y(target column)"
   ]
  },
  {
   "cell_type": "code",
   "execution_count": 81,
   "id": "943c7026",
   "metadata": {},
   "outputs": [],
   "source": [
    "X_train3, X_test3, y_train3, y_test3 =tts(X_pp3, y_pp3, \n",
    "                                       random_state=42,\n",
    "                                       stratify=y_pp3)\n"
   ]
  },
  {
   "cell_type": "markdown",
   "id": "b6296f84",
   "metadata": {},
   "source": [
    "Splitting data into train and test"
   ]
  },
  {
   "cell_type": "code",
   "execution_count": 82,
   "id": "68651ff0",
   "metadata": {},
   "outputs": [],
   "source": [
    "transformer = RobustScaler()   \n",
    " \n",
    "transformer.fit(X_train3[['distance_from_home', 'distance_from_last_transaction', 'ratio_to_median_purchase_price']])\n",
    " \n",
    "X_train3[['distance_from_home', 'distance_from_last_transaction', 'ratio_to_median_purchase_price']] = transformer.transform(X_train3[['distance_from_home', 'distance_from_last_transaction', 'ratio_to_median_purchase_price']])   \n",
    "X_test3[['distance_from_home', 'distance_from_last_transaction', 'ratio_to_median_purchase_price']] = transformer.transform(X_test3[['distance_from_home', 'distance_from_last_transaction', 'ratio_to_median_purchase_price']])  \n"
   ]
  },
  {
   "cell_type": "markdown",
   "id": "65bc76b3",
   "metadata": {},
   "source": [
    "Standardizing the data using RobustScaler"
   ]
  },
  {
   "cell_type": "code",
   "execution_count": 83,
   "id": "96a1c119",
   "metadata": {},
   "outputs": [
    {
     "data": {
      "text/html": [
       "<div>\n",
       "<style scoped>\n",
       "    .dataframe tbody tr th:only-of-type {\n",
       "        vertical-align: middle;\n",
       "    }\n",
       "\n",
       "    .dataframe tbody tr th {\n",
       "        vertical-align: top;\n",
       "    }\n",
       "\n",
       "    .dataframe thead th {\n",
       "        text-align: right;\n",
       "    }\n",
       "</style>\n",
       "<table border=\"1\" class=\"dataframe\">\n",
       "  <thead>\n",
       "    <tr style=\"text-align: right;\">\n",
       "      <th></th>\n",
       "      <th>distance_from_home</th>\n",
       "      <th>distance_from_last_transaction</th>\n",
       "      <th>ratio_to_median_purchase_price</th>\n",
       "      <th>repeat_retailer</th>\n",
       "      <th>used_chip</th>\n",
       "      <th>used_pin_number</th>\n",
       "      <th>online_order</th>\n",
       "    </tr>\n",
       "  </thead>\n",
       "  <tbody>\n",
       "    <tr>\n",
       "      <th>841874</th>\n",
       "      <td>0.091768</td>\n",
       "      <td>1.186881</td>\n",
       "      <td>0.236953</td>\n",
       "      <td>1.0</td>\n",
       "      <td>0.0</td>\n",
       "      <td>0.0</td>\n",
       "      <td>1.0</td>\n",
       "    </tr>\n",
       "    <tr>\n",
       "      <th>409207</th>\n",
       "      <td>-0.151692</td>\n",
       "      <td>0.013433</td>\n",
       "      <td>-0.405160</td>\n",
       "      <td>1.0</td>\n",
       "      <td>1.0</td>\n",
       "      <td>0.0</td>\n",
       "      <td>1.0</td>\n",
       "    </tr>\n",
       "    <tr>\n",
       "      <th>624630</th>\n",
       "      <td>1.843131</td>\n",
       "      <td>-0.105719</td>\n",
       "      <td>-0.063244</td>\n",
       "      <td>1.0</td>\n",
       "      <td>0.0</td>\n",
       "      <td>0.0</td>\n",
       "      <td>1.0</td>\n",
       "    </tr>\n",
       "    <tr>\n",
       "      <th>144615</th>\n",
       "      <td>0.288234</td>\n",
       "      <td>-0.092269</td>\n",
       "      <td>-0.043419</td>\n",
       "      <td>1.0</td>\n",
       "      <td>1.0</td>\n",
       "      <td>0.0</td>\n",
       "      <td>0.0</td>\n",
       "    </tr>\n",
       "    <tr>\n",
       "      <th>1722519</th>\n",
       "      <td>-0.322826</td>\n",
       "      <td>-0.010673</td>\n",
       "      <td>1.225291</td>\n",
       "      <td>0.0</td>\n",
       "      <td>0.0</td>\n",
       "      <td>0.0</td>\n",
       "      <td>1.0</td>\n",
       "    </tr>\n",
       "  </tbody>\n",
       "</table>\n",
       "</div>"
      ],
      "text/plain": [
       "         distance_from_home  distance_from_last_transaction  \\\n",
       "841874             0.091768                        1.186881   \n",
       "409207            -0.151692                        0.013433   \n",
       "624630             1.843131                       -0.105719   \n",
       "144615             0.288234                       -0.092269   \n",
       "1722519           -0.322826                       -0.010673   \n",
       "\n",
       "         ratio_to_median_purchase_price  repeat_retailer  used_chip  \\\n",
       "841874                         0.236953              1.0        0.0   \n",
       "409207                        -0.405160              1.0        1.0   \n",
       "624630                        -0.063244              1.0        0.0   \n",
       "144615                        -0.043419              1.0        1.0   \n",
       "1722519                        1.225291              0.0        0.0   \n",
       "\n",
       "         used_pin_number  online_order  \n",
       "841874               0.0           1.0  \n",
       "409207               0.0           1.0  \n",
       "624630               0.0           1.0  \n",
       "144615               0.0           0.0  \n",
       "1722519              0.0           1.0  "
      ]
     },
     "execution_count": 83,
     "metadata": {},
     "output_type": "execute_result"
    }
   ],
   "source": [
    "X_train3.head()"
   ]
  },
  {
   "cell_type": "code",
   "execution_count": 84,
   "id": "fbf14283",
   "metadata": {},
   "outputs": [],
   "source": [
    "lr_pp3=LogisticRegression()"
   ]
  },
  {
   "cell_type": "markdown",
   "id": "a763dde7",
   "metadata": {},
   "source": [
    "Initiating the model"
   ]
  },
  {
   "cell_type": "code",
   "execution_count": 85,
   "id": "46ba9485",
   "metadata": {},
   "outputs": [
    {
     "data": {
      "text/html": [
       "<style>#sk-container-id-4 {color: black;}#sk-container-id-4 pre{padding: 0;}#sk-container-id-4 div.sk-toggleable {background-color: white;}#sk-container-id-4 label.sk-toggleable__label {cursor: pointer;display: block;width: 100%;margin-bottom: 0;padding: 0.3em;box-sizing: border-box;text-align: center;}#sk-container-id-4 label.sk-toggleable__label-arrow:before {content: \"▸\";float: left;margin-right: 0.25em;color: #696969;}#sk-container-id-4 label.sk-toggleable__label-arrow:hover:before {color: black;}#sk-container-id-4 div.sk-estimator:hover label.sk-toggleable__label-arrow:before {color: black;}#sk-container-id-4 div.sk-toggleable__content {max-height: 0;max-width: 0;overflow: hidden;text-align: left;background-color: #f0f8ff;}#sk-container-id-4 div.sk-toggleable__content pre {margin: 0.2em;color: black;border-radius: 0.25em;background-color: #f0f8ff;}#sk-container-id-4 input.sk-toggleable__control:checked~div.sk-toggleable__content {max-height: 200px;max-width: 100%;overflow: auto;}#sk-container-id-4 input.sk-toggleable__control:checked~label.sk-toggleable__label-arrow:before {content: \"▾\";}#sk-container-id-4 div.sk-estimator input.sk-toggleable__control:checked~label.sk-toggleable__label {background-color: #d4ebff;}#sk-container-id-4 div.sk-label input.sk-toggleable__control:checked~label.sk-toggleable__label {background-color: #d4ebff;}#sk-container-id-4 input.sk-hidden--visually {border: 0;clip: rect(1px 1px 1px 1px);clip: rect(1px, 1px, 1px, 1px);height: 1px;margin: -1px;overflow: hidden;padding: 0;position: absolute;width: 1px;}#sk-container-id-4 div.sk-estimator {font-family: monospace;background-color: #f0f8ff;border: 1px dotted black;border-radius: 0.25em;box-sizing: border-box;margin-bottom: 0.5em;}#sk-container-id-4 div.sk-estimator:hover {background-color: #d4ebff;}#sk-container-id-4 div.sk-parallel-item::after {content: \"\";width: 100%;border-bottom: 1px solid gray;flex-grow: 1;}#sk-container-id-4 div.sk-label:hover label.sk-toggleable__label {background-color: #d4ebff;}#sk-container-id-4 div.sk-serial::before {content: \"\";position: absolute;border-left: 1px solid gray;box-sizing: border-box;top: 0;bottom: 0;left: 50%;z-index: 0;}#sk-container-id-4 div.sk-serial {display: flex;flex-direction: column;align-items: center;background-color: white;padding-right: 0.2em;padding-left: 0.2em;position: relative;}#sk-container-id-4 div.sk-item {position: relative;z-index: 1;}#sk-container-id-4 div.sk-parallel {display: flex;align-items: stretch;justify-content: center;background-color: white;position: relative;}#sk-container-id-4 div.sk-item::before, #sk-container-id-4 div.sk-parallel-item::before {content: \"\";position: absolute;border-left: 1px solid gray;box-sizing: border-box;top: 0;bottom: 0;left: 50%;z-index: -1;}#sk-container-id-4 div.sk-parallel-item {display: flex;flex-direction: column;z-index: 1;position: relative;background-color: white;}#sk-container-id-4 div.sk-parallel-item:first-child::after {align-self: flex-end;width: 50%;}#sk-container-id-4 div.sk-parallel-item:last-child::after {align-self: flex-start;width: 50%;}#sk-container-id-4 div.sk-parallel-item:only-child::after {width: 0;}#sk-container-id-4 div.sk-dashed-wrapped {border: 1px dashed gray;margin: 0 0.4em 0.5em 0.4em;box-sizing: border-box;padding-bottom: 0.4em;background-color: white;}#sk-container-id-4 div.sk-label label {font-family: monospace;font-weight: bold;display: inline-block;line-height: 1.2em;}#sk-container-id-4 div.sk-label-container {text-align: center;}#sk-container-id-4 div.sk-container {/* jupyter's `normalize.less` sets `[hidden] { display: none; }` but bootstrap.min.css set `[hidden] { display: none !important; }` so we also need the `!important` here to be able to override the default hidden behavior on the sphinx rendered scikit-learn.org. See: https://github.com/scikit-learn/scikit-learn/issues/21755 */display: inline-block !important;position: relative;}#sk-container-id-4 div.sk-text-repr-fallback {display: none;}</style><div id=\"sk-container-id-4\" class=\"sk-top-container\"><div class=\"sk-text-repr-fallback\"><pre>LogisticRegression()</pre><b>In a Jupyter environment, please rerun this cell to show the HTML representation or trust the notebook. <br />On GitHub, the HTML representation is unable to render, please try loading this page with nbviewer.org.</b></div><div class=\"sk-container\" hidden><div class=\"sk-item\"><div class=\"sk-estimator sk-toggleable\"><input class=\"sk-toggleable__control sk-hidden--visually\" id=\"sk-estimator-id-4\" type=\"checkbox\" checked><label for=\"sk-estimator-id-4\" class=\"sk-toggleable__label sk-toggleable__label-arrow\">LogisticRegression</label><div class=\"sk-toggleable__content\"><pre>LogisticRegression()</pre></div></div></div></div></div>"
      ],
      "text/plain": [
       "LogisticRegression()"
      ]
     },
     "execution_count": 85,
     "metadata": {},
     "output_type": "execute_result"
    }
   ],
   "source": [
    "lr_pp3.fit(X_train3, y_train3)"
   ]
  },
  {
   "cell_type": "markdown",
   "id": "95ead838",
   "metadata": {},
   "source": [
    "Fitting the model"
   ]
  },
  {
   "cell_type": "code",
   "execution_count": 86,
   "id": "1970e77a",
   "metadata": {},
   "outputs": [],
   "source": [
    "y_test3_pred_lr = lr_pp3.predict(X_test3)"
   ]
  },
  {
   "cell_type": "code",
   "execution_count": 87,
   "id": "9c6b6fd0",
   "metadata": {},
   "outputs": [],
   "source": [
    "y_train3_pred_lr = lr_pp3.predict(X_train3)"
   ]
  },
  {
   "cell_type": "markdown",
   "id": "8382cd72",
   "metadata": {},
   "source": [
    "Making predictions"
   ]
  },
  {
   "cell_type": "code",
   "execution_count": 88,
   "id": "aa5d21ee",
   "metadata": {},
   "outputs": [],
   "source": [
    "results_pp3 = metrics(y_test3, y_test3_pred_lr, y_train3, y_train3_pred_lr, 'Logistic Regression pp3')"
   ]
  },
  {
   "cell_type": "markdown",
   "id": "2af030a6",
   "metadata": {},
   "source": [
    "Getting the metrics"
   ]
  },
  {
   "cell_type": "code",
   "execution_count": 89,
   "id": "c033cc47",
   "metadata": {},
   "outputs": [
    {
     "data": {
      "text/html": [
       "<div>\n",
       "<style scoped>\n",
       "    .dataframe tbody tr th:only-of-type {\n",
       "        vertical-align: middle;\n",
       "    }\n",
       "\n",
       "    .dataframe tbody tr th {\n",
       "        vertical-align: top;\n",
       "    }\n",
       "\n",
       "    .dataframe thead th {\n",
       "        text-align: right;\n",
       "    }\n",
       "</style>\n",
       "<table border=\"1\" class=\"dataframe\">\n",
       "  <thead>\n",
       "    <tr style=\"text-align: right;\">\n",
       "      <th></th>\n",
       "      <th>accuracy</th>\n",
       "      <th>precision</th>\n",
       "      <th>recall</th>\n",
       "      <th>f1</th>\n",
       "      <th>kapppa</th>\n",
       "      <th>set</th>\n",
       "      <th>model</th>\n",
       "    </tr>\n",
       "  </thead>\n",
       "  <tbody>\n",
       "    <tr>\n",
       "      <th>0</th>\n",
       "      <td>0.941747</td>\n",
       "      <td>0.934455</td>\n",
       "      <td>0.950138</td>\n",
       "      <td>0.942231</td>\n",
       "      <td>0.883493</td>\n",
       "      <td>test</td>\n",
       "      <td>Logistic Regression pp3</td>\n",
       "    </tr>\n",
       "    <tr>\n",
       "      <th>1</th>\n",
       "      <td>0.940871</td>\n",
       "      <td>0.933576</td>\n",
       "      <td>0.949283</td>\n",
       "      <td>0.941364</td>\n",
       "      <td>0.881741</td>\n",
       "      <td>train</td>\n",
       "      <td>Logistic Regression pp3</td>\n",
       "    </tr>\n",
       "  </tbody>\n",
       "</table>\n",
       "</div>"
      ],
      "text/plain": [
       "   accuracy  precision    recall        f1    kapppa    set  \\\n",
       "0  0.941747   0.934455  0.950138  0.942231  0.883493   test   \n",
       "1  0.940871   0.933576  0.949283  0.941364  0.881741  train   \n",
       "\n",
       "                     model  \n",
       "0  Logistic Regression pp3  \n",
       "1  Logistic Regression pp3  "
      ]
     },
     "execution_count": 89,
     "metadata": {},
     "output_type": "execute_result"
    }
   ],
   "source": [
    "results_pp3"
   ]
  },
  {
   "cell_type": "markdown",
   "id": "ce14330f",
   "metadata": {},
   "source": [
    "This model works fairly well, but it could be improved. "
   ]
  },
  {
   "cell_type": "code",
   "execution_count": 90,
   "id": "1f5dbc61",
   "metadata": {},
   "outputs": [
    {
     "data": {
      "image/png": "[encoded data removed]",
      "text/plain": [
       "<Figure size 1500x800 with 2 Axes>"
      ]
     },
     "metadata": {},
     "output_type": "display_data"
    }
   ],
   "source": [
    "plt.figure(figsize=(15, 8))\n",
    "\n",
    "ax=sns.heatmap(cm(y_test3, y_test3_pred_lr)/cm(y_test3, y_test3_pred_lr).sum() * 100, \n",
    "               annot=True)\n",
    "\n",
    "plt.title('Confusion Matrix')\n",
    "plt.ylabel('Truth')\n",
    "plt.xlabel('Prediction')\n",
    "plt.show();\n"
   ]
  },
  {
   "cell_type": "markdown",
   "id": "1ec12890",
   "metadata": {},
   "source": [
    "From the confusion matrix above we can see that this model has 47% True Negatives (Predicted not fraud when it is actually not fraud),  48% True Positive (Predicted fraud that is actually fraud), 2.5% False Negatives (Predicted no fraud when there was fraud) and 3.3% False Positives (Predicted fraud when there was no fraud) "
   ]
  },
  {
   "cell_type": "code",
   "execution_count": 96,
   "id": "751963ae",
   "metadata": {},
   "outputs": [
    {
     "data": {
      "text/html": [
       "<div>\n",
       "<style scoped>\n",
       "    .dataframe tbody tr th:only-of-type {\n",
       "        vertical-align: middle;\n",
       "    }\n",
       "\n",
       "    .dataframe tbody tr th {\n",
       "        vertical-align: top;\n",
       "    }\n",
       "\n",
       "    .dataframe thead th {\n",
       "        text-align: right;\n",
       "    }\n",
       "</style>\n",
       "<table border=\"1\" class=\"dataframe\">\n",
       "  <thead>\n",
       "    <tr style=\"text-align: right;\">\n",
       "      <th></th>\n",
       "      <th>Predicted no fraud</th>\n",
       "      <th>Predicted fraud</th>\n",
       "    </tr>\n",
       "  </thead>\n",
       "  <tbody>\n",
       "    <tr>\n",
       "      <th>Actual no fraud</th>\n",
       "      <td>212945</td>\n",
       "      <td>15205</td>\n",
       "    </tr>\n",
       "    <tr>\n",
       "      <th>Actual fraud</th>\n",
       "      <td>11376</td>\n",
       "      <td>216773</td>\n",
       "    </tr>\n",
       "  </tbody>\n",
       "</table>\n",
       "</div>"
      ],
      "text/plain": [
       "                 Predicted no fraud  Predicted fraud\n",
       "Actual no fraud              212945            15205\n",
       "Actual fraud                  11376           216773"
      ]
     },
     "execution_count": 96,
     "metadata": {},
     "output_type": "execute_result"
    }
   ],
   "source": [
    "conf_matrix_pp3 = cm(y_test3, y_test3_pred_lr)\n",
    "\n",
    "# Convert confusion matrix to DataFrame\n",
    "conf_matrix_pp3_df = pd.DataFrame(conf_matrix_pp3, columns=['Predicted no fraud', 'Predicted fraud'], index=['Actual no fraud', 'Actual fraud'])\n",
    "conf_matrix_pp3_df"
   ]
  },
  {
   "cell_type": "code",
   "execution_count": 97,
   "id": "ae9c7033",
   "metadata": {},
   "outputs": [],
   "source": [
    "conf_matrix_pp3_df = pd.DataFrame({\n",
    "    'model': ['Logistic Regression pp3', 'Logistic Regression pp3', 'Logistic Regression pp3', 'Logistic Regression pp3'],\n",
    "    'prediction': ['predicted no fraud', 'predicted no fraud', 'predicted fraud', 'predicted fraud'],\n",
    "    'actual': ['actual no fraud', 'actual fraud', 'actual no fraud', 'actual fraud'],\n",
    "    'count': [212945, 11376, 15205, 216773]\n",
    "})"
   ]
  },
  {
   "cell_type": "code",
   "execution_count": 98,
   "id": "9a8a78b4",
   "metadata": {},
   "outputs": [
    {
     "data": {
      "text/html": [
       "<div>\n",
       "<style scoped>\n",
       "    .dataframe tbody tr th:only-of-type {\n",
       "        vertical-align: middle;\n",
       "    }\n",
       "\n",
       "    .dataframe tbody tr th {\n",
       "        vertical-align: top;\n",
       "    }\n",
       "\n",
       "    .dataframe thead th {\n",
       "        text-align: right;\n",
       "    }\n",
       "</style>\n",
       "<table border=\"1\" class=\"dataframe\">\n",
       "  <thead>\n",
       "    <tr style=\"text-align: right;\">\n",
       "      <th></th>\n",
       "      <th>model</th>\n",
       "      <th>prediction</th>\n",
       "      <th>actual</th>\n",
       "      <th>count</th>\n",
       "    </tr>\n",
       "  </thead>\n",
       "  <tbody>\n",
       "    <tr>\n",
       "      <th>0</th>\n",
       "      <td>Logistic Regression pp3</td>\n",
       "      <td>predicted no fraud</td>\n",
       "      <td>actual no fraud</td>\n",
       "      <td>212945</td>\n",
       "    </tr>\n",
       "    <tr>\n",
       "      <th>1</th>\n",
       "      <td>Logistic Regression pp3</td>\n",
       "      <td>predicted no fraud</td>\n",
       "      <td>actual fraud</td>\n",
       "      <td>11376</td>\n",
       "    </tr>\n",
       "    <tr>\n",
       "      <th>2</th>\n",
       "      <td>Logistic Regression pp3</td>\n",
       "      <td>predicted fraud</td>\n",
       "      <td>actual no fraud</td>\n",
       "      <td>15205</td>\n",
       "    </tr>\n",
       "    <tr>\n",
       "      <th>3</th>\n",
       "      <td>Logistic Regression pp3</td>\n",
       "      <td>predicted fraud</td>\n",
       "      <td>actual fraud</td>\n",
       "      <td>216773</td>\n",
       "    </tr>\n",
       "  </tbody>\n",
       "</table>\n",
       "</div>"
      ],
      "text/plain": [
       "                     model          prediction           actual   count\n",
       "0  Logistic Regression pp3  predicted no fraud  actual no fraud  212945\n",
       "1  Logistic Regression pp3  predicted no fraud     actual fraud   11376\n",
       "2  Logistic Regression pp3     predicted fraud  actual no fraud   15205\n",
       "3  Logistic Regression pp3     predicted fraud     actual fraud  216773"
      ]
     },
     "execution_count": 98,
     "metadata": {},
     "output_type": "execute_result"
    }
   ],
   "source": [
    "conf_matrix_pp3_df"
   ]
  },
  {
   "cell_type": "code",
   "execution_count": 99,
   "id": "3dd4fdc0",
   "metadata": {},
   "outputs": [],
   "source": [
    "conf_matrix_pp3_df.to_csv('../../data/confmatrpp3.csv', index=False)"
   ]
  },
  {
   "cell_type": "code",
   "execution_count": 152,
   "id": "1f868557",
   "metadata": {},
   "outputs": [
    {
     "name": "stdout",
     "output_type": "stream",
     "text": [
      "distance_from_home: 0.10251888929554237\n",
      "distance_from_last_transaction: 0.03370370451538724\n",
      "ratio_to_median_purchase_price: 0.30501067647894625\n",
      "repeat_retailer: 0.0037281110266148888\n",
      "used_chip: 0.010227504333781164\n",
      "used_pin_number: 0.027648537472140005\n",
      "online_order: 0.07197919200641105\n"
     ]
    },
    {
     "data": {
      "image/png": "[encoded data removed]",
      "text/plain": [
       "<Figure size 640x480 with 1 Axes>"
      ]
     },
     "metadata": {},
     "output_type": "display_data"
    }
   ],
   "source": [
    "# Calculate permutation feature importance\n",
    "perm_importancepp3 = permutation_importance(lr_pp3, X_test3, y_test3, n_repeats=30, random_state=42)\n",
    "\n",
    "for feature, importance in zip(X_pp3.columns, perm_importancepp3.importances_mean):\n",
    "    print(f\"{feature}: {importance}\")\n",
    "\n",
    "sorted_idx = perm_importancepp3.importances_mean.argsort()[::-1]\n",
    "plt.bar(range(X_pp3.shape[1]), perm_importancepp3.importances_mean[sorted_idx])\n",
    "plt.xticks(range(X_pp3.shape[1]), X_pp3.columns[sorted_idx], rotation=45)\n",
    "plt.show()\n"
   ]
  },
  {
   "cell_type": "code",
   "execution_count": 153,
   "id": "194b4f9e",
   "metadata": {},
   "outputs": [
    {
     "data": {
      "text/html": [
       "<div>\n",
       "<style scoped>\n",
       "    .dataframe tbody tr th:only-of-type {\n",
       "        vertical-align: middle;\n",
       "    }\n",
       "\n",
       "    .dataframe tbody tr th {\n",
       "        vertical-align: top;\n",
       "    }\n",
       "\n",
       "    .dataframe thead th {\n",
       "        text-align: right;\n",
       "    }\n",
       "</style>\n",
       "<table border=\"1\" class=\"dataframe\">\n",
       "  <thead>\n",
       "    <tr style=\"text-align: right;\">\n",
       "      <th></th>\n",
       "      <th>Model</th>\n",
       "      <th>Feature</th>\n",
       "      <th>Importance</th>\n",
       "    </tr>\n",
       "  </thead>\n",
       "  <tbody>\n",
       "    <tr>\n",
       "      <th>0</th>\n",
       "      <td>Logistic Regression pp3</td>\n",
       "      <td>distance_from_home</td>\n",
       "      <td>0.102519</td>\n",
       "    </tr>\n",
       "    <tr>\n",
       "      <th>1</th>\n",
       "      <td>Logistic Regression pp3</td>\n",
       "      <td>distance_from_last_transaction</td>\n",
       "      <td>0.033704</td>\n",
       "    </tr>\n",
       "    <tr>\n",
       "      <th>2</th>\n",
       "      <td>Logistic Regression pp3</td>\n",
       "      <td>ratio_to_median_purchase_price</td>\n",
       "      <td>0.305011</td>\n",
       "    </tr>\n",
       "    <tr>\n",
       "      <th>3</th>\n",
       "      <td>Logistic Regression pp3</td>\n",
       "      <td>repeat_retailer</td>\n",
       "      <td>0.003728</td>\n",
       "    </tr>\n",
       "    <tr>\n",
       "      <th>4</th>\n",
       "      <td>Logistic Regression pp3</td>\n",
       "      <td>used_chip</td>\n",
       "      <td>0.010228</td>\n",
       "    </tr>\n",
       "    <tr>\n",
       "      <th>5</th>\n",
       "      <td>Logistic Regression pp3</td>\n",
       "      <td>used_pin_number</td>\n",
       "      <td>0.027649</td>\n",
       "    </tr>\n",
       "    <tr>\n",
       "      <th>6</th>\n",
       "      <td>Logistic Regression pp3</td>\n",
       "      <td>online_order</td>\n",
       "      <td>0.071979</td>\n",
       "    </tr>\n",
       "  </tbody>\n",
       "</table>\n",
       "</div>"
      ],
      "text/plain": [
       "                     Model                         Feature  Importance\n",
       "0  Logistic Regression pp3              distance_from_home    0.102519\n",
       "1  Logistic Regression pp3  distance_from_last_transaction    0.033704\n",
       "2  Logistic Regression pp3  ratio_to_median_purchase_price    0.305011\n",
       "3  Logistic Regression pp3                 repeat_retailer    0.003728\n",
       "4  Logistic Regression pp3                       used_chip    0.010228\n",
       "5  Logistic Regression pp3                 used_pin_number    0.027649\n",
       "6  Logistic Regression pp3                    online_order    0.071979"
      ]
     },
     "execution_count": 153,
     "metadata": {},
     "output_type": "execute_result"
    }
   ],
   "source": [
    "feature_importancepp3 = pd.DataFrame({'Model': 'Logistic Regression pp3',\n",
    "    'Feature': X_pp3.columns,\n",
    "    'Importance': perm_importancepp3.importances_mean})\n",
    "feature_importancepp3"
   ]
  },
  {
   "cell_type": "code",
   "execution_count": 154,
   "id": "19a650b4",
   "metadata": {},
   "outputs": [],
   "source": [
    "feature_importancepp3.to_csv('../../data/feature_importancepp3.csv', index=False)"
   ]
  },
  {
   "cell_type": "code",
   "execution_count": 100,
   "id": "9e0508e5",
   "metadata": {},
   "outputs": [
    {
     "name": "stdout",
     "output_type": "stream",
     "text": [
      "100%|█████████████████████████████████████████████| 100/100 [05:06<00:00,  3.06s/trial, best loss: -0.9504973115487948]\n",
      "Best hyperparameters: {'C': 0.007143492705304772, 'class_weight': 0, 'penalty': 0, 'random_state': 1, 'solver': 0}\n"
     ]
    }
   ],
   "source": [
    "#I want to improve the recall_score in the logistic regression model\n",
    "recall_scorer = make_scorer(recall_score, greater_is_better=True)\n",
    "\n",
    "space = {\n",
    "    'penalty': hp.choice('penalty', ['l1', 'l2']),\n",
    "    'C': hp.loguniform('C', -5, 5),\n",
    "    'class_weight': hp.choice('class_weight', [None, 'balanced']),\n",
    "    'random_state': hp.choice('random_state', [None, 42]),\n",
    "    'solver': hp.choice('solver', ['liblinear'])\n",
    "}\n",
    "\n",
    "def objectivepp3(space):\n",
    "    model = LogisticRegression(\n",
    "        penalty=space['penalty'],\n",
    "        C=space['C'],\n",
    "        class_weight=space['class_weight'],\n",
    "        random_state=space['random_state'],\n",
    "        solver=space['solver'],\n",
    "    )\n",
    "    \n",
    "    cv_recall = cross_val_score(model, X_train3, y_train3, cv=5, scoring=recall_scorer).mean()\n",
    "    \n",
    "    return {'loss': -cv_recall, 'status': STATUS_OK}\n",
    "\n",
    "trials = Trials()\n",
    "best = fmin(fn=objective,  \n",
    "            space=space,    \n",
    "            algo=tpe.suggest,\n",
    "            max_evals=100,\n",
    "            trials=trials)\n",
    "\n",
    "print(\"Best hyperparameters:\", best)\n"
   ]
  },
  {
   "cell_type": "code",
   "execution_count": 101,
   "id": "6d127ee0",
   "metadata": {},
   "outputs": [],
   "source": [
    "#Creating a  model for logistic regression with the best parameters found by hyperopt in the above cell. \n",
    "class_weight_map = {0: None, 1: 'balanced'}\n",
    "best_class_weight = class_weight_map[best['class_weight']]\n",
    "penalty_map = {0: 'l1', 1: 'l2'}\n",
    "best_penalty = penalty_map[best['penalty']]\n",
    "solver_map = {0: 'liblinear'}\n",
    "best_solver = solver_map[best['solver']]\n",
    "\n",
    "model_pp3 = LogisticRegression(\n",
    "    C=best['C'],\n",
    "    class_weight=best_class_weight,\n",
    "    penalty=best_penalty,\n",
    "    random_state=best['random_state'],\n",
    "    solver=best_solver,\n",
    ")\n"
   ]
  },
  {
   "cell_type": "code",
   "execution_count": 102,
   "id": "97fc79de",
   "metadata": {},
   "outputs": [
    {
     "data": {
      "text/html": [
       "<style>#sk-container-id-5 {color: black;}#sk-container-id-5 pre{padding: 0;}#sk-container-id-5 div.sk-toggleable {background-color: white;}#sk-container-id-5 label.sk-toggleable__label {cursor: pointer;display: block;width: 100%;margin-bottom: 0;padding: 0.3em;box-sizing: border-box;text-align: center;}#sk-container-id-5 label.sk-toggleable__label-arrow:before {content: \"▸\";float: left;margin-right: 0.25em;color: #696969;}#sk-container-id-5 label.sk-toggleable__label-arrow:hover:before {color: black;}#sk-container-id-5 div.sk-estimator:hover label.sk-toggleable__label-arrow:before {color: black;}#sk-container-id-5 div.sk-toggleable__content {max-height: 0;max-width: 0;overflow: hidden;text-align: left;background-color: #f0f8ff;}#sk-container-id-5 div.sk-toggleable__content pre {margin: 0.2em;color: black;border-radius: 0.25em;background-color: #f0f8ff;}#sk-container-id-5 input.sk-toggleable__control:checked~div.sk-toggleable__content {max-height: 200px;max-width: 100%;overflow: auto;}#sk-container-id-5 input.sk-toggleable__control:checked~label.sk-toggleable__label-arrow:before {content: \"▾\";}#sk-container-id-5 div.sk-estimator input.sk-toggleable__control:checked~label.sk-toggleable__label {background-color: #d4ebff;}#sk-container-id-5 div.sk-label input.sk-toggleable__control:checked~label.sk-toggleable__label {background-color: #d4ebff;}#sk-container-id-5 input.sk-hidden--visually {border: 0;clip: rect(1px 1px 1px 1px);clip: rect(1px, 1px, 1px, 1px);height: 1px;margin: -1px;overflow: hidden;padding: 0;position: absolute;width: 1px;}#sk-container-id-5 div.sk-estimator {font-family: monospace;background-color: #f0f8ff;border: 1px dotted black;border-radius: 0.25em;box-sizing: border-box;margin-bottom: 0.5em;}#sk-container-id-5 div.sk-estimator:hover {background-color: #d4ebff;}#sk-container-id-5 div.sk-parallel-item::after {content: \"\";width: 100%;border-bottom: 1px solid gray;flex-grow: 1;}#sk-container-id-5 div.sk-label:hover label.sk-toggleable__label {background-color: #d4ebff;}#sk-container-id-5 div.sk-serial::before {content: \"\";position: absolute;border-left: 1px solid gray;box-sizing: border-box;top: 0;bottom: 0;left: 50%;z-index: 0;}#sk-container-id-5 div.sk-serial {display: flex;flex-direction: column;align-items: center;background-color: white;padding-right: 0.2em;padding-left: 0.2em;position: relative;}#sk-container-id-5 div.sk-item {position: relative;z-index: 1;}#sk-container-id-5 div.sk-parallel {display: flex;align-items: stretch;justify-content: center;background-color: white;position: relative;}#sk-container-id-5 div.sk-item::before, #sk-container-id-5 div.sk-parallel-item::before {content: \"\";position: absolute;border-left: 1px solid gray;box-sizing: border-box;top: 0;bottom: 0;left: 50%;z-index: -1;}#sk-container-id-5 div.sk-parallel-item {display: flex;flex-direction: column;z-index: 1;position: relative;background-color: white;}#sk-container-id-5 div.sk-parallel-item:first-child::after {align-self: flex-end;width: 50%;}#sk-container-id-5 div.sk-parallel-item:last-child::after {align-self: flex-start;width: 50%;}#sk-container-id-5 div.sk-parallel-item:only-child::after {width: 0;}#sk-container-id-5 div.sk-dashed-wrapped {border: 1px dashed gray;margin: 0 0.4em 0.5em 0.4em;box-sizing: border-box;padding-bottom: 0.4em;background-color: white;}#sk-container-id-5 div.sk-label label {font-family: monospace;font-weight: bold;display: inline-block;line-height: 1.2em;}#sk-container-id-5 div.sk-label-container {text-align: center;}#sk-container-id-5 div.sk-container {/* jupyter's `normalize.less` sets `[hidden] { display: none; }` but bootstrap.min.css set `[hidden] { display: none !important; }` so we also need the `!important` here to be able to override the default hidden behavior on the sphinx rendered scikit-learn.org. See: https://github.com/scikit-learn/scikit-learn/issues/21755 */display: inline-block !important;position: relative;}#sk-container-id-5 div.sk-text-repr-fallback {display: none;}</style><div id=\"sk-container-id-5\" class=\"sk-top-container\"><div class=\"sk-text-repr-fallback\"><pre>LogisticRegression(C=0.007143492705304772, penalty=&#x27;l1&#x27;, random_state=1,\n",
       "                   solver=&#x27;liblinear&#x27;)</pre><b>In a Jupyter environment, please rerun this cell to show the HTML representation or trust the notebook. <br />On GitHub, the HTML representation is unable to render, please try loading this page with nbviewer.org.</b></div><div class=\"sk-container\" hidden><div class=\"sk-item\"><div class=\"sk-estimator sk-toggleable\"><input class=\"sk-toggleable__control sk-hidden--visually\" id=\"sk-estimator-id-5\" type=\"checkbox\" checked><label for=\"sk-estimator-id-5\" class=\"sk-toggleable__label sk-toggleable__label-arrow\">LogisticRegression</label><div class=\"sk-toggleable__content\"><pre>LogisticRegression(C=0.007143492705304772, penalty=&#x27;l1&#x27;, random_state=1,\n",
       "                   solver=&#x27;liblinear&#x27;)</pre></div></div></div></div></div>"
      ],
      "text/plain": [
       "LogisticRegression(C=0.007143492705304772, penalty='l1', random_state=1,\n",
       "                   solver='liblinear')"
      ]
     },
     "execution_count": 102,
     "metadata": {},
     "output_type": "execute_result"
    }
   ],
   "source": [
    "model_pp3.fit(X_train3, y_train3)"
   ]
  },
  {
   "cell_type": "markdown",
   "id": "866ae47a",
   "metadata": {},
   "source": [
    "Fitting the new model"
   ]
  },
  {
   "cell_type": "code",
   "execution_count": 103,
   "id": "de23b5d4",
   "metadata": {},
   "outputs": [],
   "source": [
    "y_test3_pred_lrtuned = model_pp3.predict(X_test3)"
   ]
  },
  {
   "cell_type": "code",
   "execution_count": 104,
   "id": "636e0c51",
   "metadata": {},
   "outputs": [],
   "source": [
    "y_train3_pred_lrtuned = model_pp3.predict(X_train3)"
   ]
  },
  {
   "cell_type": "markdown",
   "id": "c6072ca0",
   "metadata": {},
   "source": [
    "Making the predictions for the new model"
   ]
  },
  {
   "cell_type": "code",
   "execution_count": 105,
   "id": "d38f413d",
   "metadata": {},
   "outputs": [],
   "source": [
    "results_model_pp3 = metrics(y_test3, y_test3_pred_lrtuned, y_train3, y_train3_pred_lrtuned, 'Logistic Regression after tuning pp3')\n",
    "results_pp3=pd.concat([results_pp3, results_model_pp3], axis=0)"
   ]
  },
  {
   "cell_type": "markdown",
   "id": "8be1323c",
   "metadata": {},
   "source": [
    "Getting the metrics and adding them to the dataframe with pp3 models"
   ]
  },
  {
   "cell_type": "code",
   "execution_count": 106,
   "id": "b137a4ae",
   "metadata": {},
   "outputs": [
    {
     "data": {
      "text/html": [
       "<div>\n",
       "<style scoped>\n",
       "    .dataframe tbody tr th:only-of-type {\n",
       "        vertical-align: middle;\n",
       "    }\n",
       "\n",
       "    .dataframe tbody tr th {\n",
       "        vertical-align: top;\n",
       "    }\n",
       "\n",
       "    .dataframe thead th {\n",
       "        text-align: right;\n",
       "    }\n",
       "</style>\n",
       "<table border=\"1\" class=\"dataframe\">\n",
       "  <thead>\n",
       "    <tr style=\"text-align: right;\">\n",
       "      <th></th>\n",
       "      <th>accuracy</th>\n",
       "      <th>precision</th>\n",
       "      <th>recall</th>\n",
       "      <th>f1</th>\n",
       "      <th>kapppa</th>\n",
       "      <th>set</th>\n",
       "      <th>model</th>\n",
       "    </tr>\n",
       "  </thead>\n",
       "  <tbody>\n",
       "    <tr>\n",
       "      <th>0</th>\n",
       "      <td>0.941747</td>\n",
       "      <td>0.934455</td>\n",
       "      <td>0.950138</td>\n",
       "      <td>0.942231</td>\n",
       "      <td>0.883493</td>\n",
       "      <td>test</td>\n",
       "      <td>Logistic Regression pp3</td>\n",
       "    </tr>\n",
       "    <tr>\n",
       "      <th>1</th>\n",
       "      <td>0.940871</td>\n",
       "      <td>0.933576</td>\n",
       "      <td>0.949283</td>\n",
       "      <td>0.941364</td>\n",
       "      <td>0.881741</td>\n",
       "      <td>train</td>\n",
       "      <td>Logistic Regression pp3</td>\n",
       "    </tr>\n",
       "    <tr>\n",
       "      <th>0</th>\n",
       "      <td>0.941812</td>\n",
       "      <td>0.934355</td>\n",
       "      <td>0.950396</td>\n",
       "      <td>0.942307</td>\n",
       "      <td>0.883625</td>\n",
       "      <td>test</td>\n",
       "      <td>Logistic Regression after tuning pp3</td>\n",
       "    </tr>\n",
       "    <tr>\n",
       "      <th>1</th>\n",
       "      <td>0.940885</td>\n",
       "      <td>0.933453</td>\n",
       "      <td>0.949459</td>\n",
       "      <td>0.941388</td>\n",
       "      <td>0.881770</td>\n",
       "      <td>train</td>\n",
       "      <td>Logistic Regression after tuning pp3</td>\n",
       "    </tr>\n",
       "  </tbody>\n",
       "</table>\n",
       "</div>"
      ],
      "text/plain": [
       "   accuracy  precision    recall        f1    kapppa    set  \\\n",
       "0  0.941747   0.934455  0.950138  0.942231  0.883493   test   \n",
       "1  0.940871   0.933576  0.949283  0.941364  0.881741  train   \n",
       "0  0.941812   0.934355  0.950396  0.942307  0.883625   test   \n",
       "1  0.940885   0.933453  0.949459  0.941388  0.881770  train   \n",
       "\n",
       "                                  model  \n",
       "0               Logistic Regression pp3  \n",
       "1               Logistic Regression pp3  \n",
       "0  Logistic Regression after tuning pp3  \n",
       "1  Logistic Regression after tuning pp3  "
      ]
     },
     "execution_count": 106,
     "metadata": {},
     "output_type": "execute_result"
    }
   ],
   "source": [
    "results_pp3"
   ]
  },
  {
   "cell_type": "code",
   "execution_count": 107,
   "id": "baf0509e",
   "metadata": {},
   "outputs": [],
   "source": [
    "results_pp3.to_csv('../../data/model_metrics_pp3.csv', index=False)"
   ]
  },
  {
   "cell_type": "markdown",
   "id": "2e24a048",
   "metadata": {},
   "source": [
    "Saving the metrics for pp3 models"
   ]
  },
  {
   "cell_type": "code",
   "execution_count": 108,
   "id": "a1838908",
   "metadata": {},
   "outputs": [
    {
     "data": {
      "image/png": "[encoded data removed]",
      "text/plain": [
       "<Figure size 1500x800 with 2 Axes>"
      ]
     },
     "metadata": {},
     "output_type": "display_data"
    }
   ],
   "source": [
    "plt.figure(figsize=(15, 8))\n",
    "\n",
    "ax=sns.heatmap(cm(y_test3, y_test3_pred_lrtuned)/cm(y_test3, y_test3_pred_lrtuned).sum() * 100, \n",
    "               annot=True)\n",
    "\n",
    "plt.title('Confusion Matrix')\n",
    "plt.ylabel('Truth')\n",
    "plt.xlabel('Prediction')\n",
    "plt.show();\n"
   ]
  },
  {
   "cell_type": "markdown",
   "id": "9baff073",
   "metadata": {},
   "source": [
    "From the confusion matrix above we can see this model has 47% True Negatives (Predicted not fraud when it is actually not fraud),  48% True Positives (Predicted fraud that is actually fraud), 2.5% False Negatives (Predicted no fraud when there was fraud) and 3.3% False Positives (Predicted fraud when there was no fraud) "
   ]
  },
  {
   "cell_type": "code",
   "execution_count": 109,
   "id": "95b5e837",
   "metadata": {},
   "outputs": [
    {
     "data": {
      "text/html": [
       "<div>\n",
       "<style scoped>\n",
       "    .dataframe tbody tr th:only-of-type {\n",
       "        vertical-align: middle;\n",
       "    }\n",
       "\n",
       "    .dataframe tbody tr th {\n",
       "        vertical-align: top;\n",
       "    }\n",
       "\n",
       "    .dataframe thead th {\n",
       "        text-align: right;\n",
       "    }\n",
       "</style>\n",
       "<table border=\"1\" class=\"dataframe\">\n",
       "  <thead>\n",
       "    <tr style=\"text-align: right;\">\n",
       "      <th></th>\n",
       "      <th>Predicted no fraud</th>\n",
       "      <th>Predicted fraud</th>\n",
       "    </tr>\n",
       "  </thead>\n",
       "  <tbody>\n",
       "    <tr>\n",
       "      <th>Actual no fraud</th>\n",
       "      <td>212916</td>\n",
       "      <td>15234</td>\n",
       "    </tr>\n",
       "    <tr>\n",
       "      <th>Actual fraud</th>\n",
       "      <td>11317</td>\n",
       "      <td>216832</td>\n",
       "    </tr>\n",
       "  </tbody>\n",
       "</table>\n",
       "</div>"
      ],
      "text/plain": [
       "                 Predicted no fraud  Predicted fraud\n",
       "Actual no fraud              212916            15234\n",
       "Actual fraud                  11317           216832"
      ]
     },
     "execution_count": 109,
     "metadata": {},
     "output_type": "execute_result"
    }
   ],
   "source": [
    "conf_matrix_pp3_tuned = cm(y_test3, y_test3_pred_lrtuned)\n",
    "\n",
    "# Convert confusion matrix to DataFrame\n",
    "conf_matrix_pp3_tuned_df = pd.DataFrame(conf_matrix_pp3_tuned, columns=['Predicted no fraud', 'Predicted fraud'], index=['Actual no fraud', 'Actual fraud'])\n",
    "conf_matrix_pp3_tuned_df"
   ]
  },
  {
   "cell_type": "code",
   "execution_count": 110,
   "id": "def9f745",
   "metadata": {},
   "outputs": [],
   "source": [
    "conf_matrix_pp3_tuned_df = pd.DataFrame({\n",
    "    'model': ['Logistic Regression after tuning pp3', 'Logistic Regression after tuning pp3', 'Logistic Regression after tuning pp3', 'Logistic Regression after tuning pp3'],\n",
    "    'prediction': ['predicted no fraud', 'predicted no fraud', 'predicted fraud', 'predicted fraud'],\n",
    "    'actual': ['actual no fraud', 'actual fraud', 'actual no fraud', 'actual fraud'],\n",
    "    'count': [212916, 11317, 15234, 216832]\n",
    "})"
   ]
  },
  {
   "cell_type": "code",
   "execution_count": 111,
   "id": "bd6ade16",
   "metadata": {},
   "outputs": [
    {
     "data": {
      "text/html": [
       "<div>\n",
       "<style scoped>\n",
       "    .dataframe tbody tr th:only-of-type {\n",
       "        vertical-align: middle;\n",
       "    }\n",
       "\n",
       "    .dataframe tbody tr th {\n",
       "        vertical-align: top;\n",
       "    }\n",
       "\n",
       "    .dataframe thead th {\n",
       "        text-align: right;\n",
       "    }\n",
       "</style>\n",
       "<table border=\"1\" class=\"dataframe\">\n",
       "  <thead>\n",
       "    <tr style=\"text-align: right;\">\n",
       "      <th></th>\n",
       "      <th>model</th>\n",
       "      <th>prediction</th>\n",
       "      <th>actual</th>\n",
       "      <th>count</th>\n",
       "    </tr>\n",
       "  </thead>\n",
       "  <tbody>\n",
       "    <tr>\n",
       "      <th>0</th>\n",
       "      <td>Logistic Regression after tuning pp3</td>\n",
       "      <td>predicted no fraud</td>\n",
       "      <td>actual no fraud</td>\n",
       "      <td>212916</td>\n",
       "    </tr>\n",
       "    <tr>\n",
       "      <th>1</th>\n",
       "      <td>Logistic Regression after tuning pp3</td>\n",
       "      <td>predicted no fraud</td>\n",
       "      <td>actual fraud</td>\n",
       "      <td>11317</td>\n",
       "    </tr>\n",
       "    <tr>\n",
       "      <th>2</th>\n",
       "      <td>Logistic Regression after tuning pp3</td>\n",
       "      <td>predicted fraud</td>\n",
       "      <td>actual no fraud</td>\n",
       "      <td>15234</td>\n",
       "    </tr>\n",
       "    <tr>\n",
       "      <th>3</th>\n",
       "      <td>Logistic Regression after tuning pp3</td>\n",
       "      <td>predicted fraud</td>\n",
       "      <td>actual fraud</td>\n",
       "      <td>216832</td>\n",
       "    </tr>\n",
       "  </tbody>\n",
       "</table>\n",
       "</div>"
      ],
      "text/plain": [
       "                                  model          prediction           actual  \\\n",
       "0  Logistic Regression after tuning pp3  predicted no fraud  actual no fraud   \n",
       "1  Logistic Regression after tuning pp3  predicted no fraud     actual fraud   \n",
       "2  Logistic Regression after tuning pp3     predicted fraud  actual no fraud   \n",
       "3  Logistic Regression after tuning pp3     predicted fraud     actual fraud   \n",
       "\n",
       "    count  \n",
       "0  212916  \n",
       "1   11317  \n",
       "2   15234  \n",
       "3  216832  "
      ]
     },
     "execution_count": 111,
     "metadata": {},
     "output_type": "execute_result"
    }
   ],
   "source": [
    "conf_matrix_pp3_tuned_df"
   ]
  },
  {
   "cell_type": "code",
   "execution_count": 112,
   "id": "40f5a2fb",
   "metadata": {},
   "outputs": [],
   "source": [
    "conf_matrix_pp3_tuned_df.to_csv('../../data/confmatrpp3tuned.csv', index=False)"
   ]
  },
  {
   "cell_type": "code",
   "execution_count": 155,
   "id": "a83de921",
   "metadata": {},
   "outputs": [
    {
     "name": "stdout",
     "output_type": "stream",
     "text": [
      "distance_from_home: 0.102560820865266\n",
      "distance_from_last_transaction: 0.033714808345697296\n",
      "ratio_to_median_purchase_price: 0.30542297923072376\n",
      "repeat_retailer: 0.0037297912114644173\n",
      "used_chip: 0.010189079236786984\n",
      "used_pin_number: 0.02743157447200191\n",
      "online_order: 0.0716869128941038\n"
     ]
    },
    {
     "data": {
      "image/png": "[encoded data removed]",
      "text/plain": [
       "<Figure size 640x480 with 1 Axes>"
      ]
     },
     "metadata": {},
     "output_type": "display_data"
    }
   ],
   "source": [
    "# Calculate permutation feature importance\n",
    "perm_importancepp3tuned = permutation_importance(model_pp3, X_test3, y_test3, n_repeats=30, random_state=42)\n",
    "\n",
    "for feature, importance in zip(X_pp3.columns, perm_importancepp3tuned.importances_mean):\n",
    "    print(f\"{feature}: {importance}\")\n",
    "\n",
    "sorted_idx = perm_importancepp3tuned.importances_mean.argsort()[::-1]\n",
    "plt.bar(range(X_pp3.shape[1]), perm_importancepp3tuned.importances_mean[sorted_idx])\n",
    "plt.xticks(range(X_pp3.shape[1]), X_pp3.columns[sorted_idx], rotation=45)\n",
    "plt.show()\n"
   ]
  },
  {
   "cell_type": "code",
   "execution_count": 157,
   "id": "d67ffcef",
   "metadata": {},
   "outputs": [
    {
     "data": {
      "text/html": [
       "<div>\n",
       "<style scoped>\n",
       "    .dataframe tbody tr th:only-of-type {\n",
       "        vertical-align: middle;\n",
       "    }\n",
       "\n",
       "    .dataframe tbody tr th {\n",
       "        vertical-align: top;\n",
       "    }\n",
       "\n",
       "    .dataframe thead th {\n",
       "        text-align: right;\n",
       "    }\n",
       "</style>\n",
       "<table border=\"1\" class=\"dataframe\">\n",
       "  <thead>\n",
       "    <tr style=\"text-align: right;\">\n",
       "      <th></th>\n",
       "      <th>Model</th>\n",
       "      <th>Feature</th>\n",
       "      <th>Importance</th>\n",
       "    </tr>\n",
       "  </thead>\n",
       "  <tbody>\n",
       "    <tr>\n",
       "      <th>0</th>\n",
       "      <td>Logistic Regression after tuning pp3</td>\n",
       "      <td>distance_from_home</td>\n",
       "      <td>0.102561</td>\n",
       "    </tr>\n",
       "    <tr>\n",
       "      <th>1</th>\n",
       "      <td>Logistic Regression after tuning pp3</td>\n",
       "      <td>distance_from_last_transaction</td>\n",
       "      <td>0.033715</td>\n",
       "    </tr>\n",
       "    <tr>\n",
       "      <th>2</th>\n",
       "      <td>Logistic Regression after tuning pp3</td>\n",
       "      <td>ratio_to_median_purchase_price</td>\n",
       "      <td>0.305423</td>\n",
       "    </tr>\n",
       "    <tr>\n",
       "      <th>3</th>\n",
       "      <td>Logistic Regression after tuning pp3</td>\n",
       "      <td>repeat_retailer</td>\n",
       "      <td>0.003730</td>\n",
       "    </tr>\n",
       "    <tr>\n",
       "      <th>4</th>\n",
       "      <td>Logistic Regression after tuning pp3</td>\n",
       "      <td>used_chip</td>\n",
       "      <td>0.010189</td>\n",
       "    </tr>\n",
       "    <tr>\n",
       "      <th>5</th>\n",
       "      <td>Logistic Regression after tuning pp3</td>\n",
       "      <td>used_pin_number</td>\n",
       "      <td>0.027432</td>\n",
       "    </tr>\n",
       "    <tr>\n",
       "      <th>6</th>\n",
       "      <td>Logistic Regression after tuning pp3</td>\n",
       "      <td>online_order</td>\n",
       "      <td>0.071687</td>\n",
       "    </tr>\n",
       "  </tbody>\n",
       "</table>\n",
       "</div>"
      ],
      "text/plain": [
       "                                  Model                         Feature  \\\n",
       "0  Logistic Regression after tuning pp3              distance_from_home   \n",
       "1  Logistic Regression after tuning pp3  distance_from_last_transaction   \n",
       "2  Logistic Regression after tuning pp3  ratio_to_median_purchase_price   \n",
       "3  Logistic Regression after tuning pp3                 repeat_retailer   \n",
       "4  Logistic Regression after tuning pp3                       used_chip   \n",
       "5  Logistic Regression after tuning pp3                 used_pin_number   \n",
       "6  Logistic Regression after tuning pp3                    online_order   \n",
       "\n",
       "   Importance  \n",
       "0    0.102561  \n",
       "1    0.033715  \n",
       "2    0.305423  \n",
       "3    0.003730  \n",
       "4    0.010189  \n",
       "5    0.027432  \n",
       "6    0.071687  "
      ]
     },
     "execution_count": 157,
     "metadata": {},
     "output_type": "execute_result"
    }
   ],
   "source": [
    "feature_importancepp3tuned = pd.DataFrame({'Model': 'Logistic Regression after tuning pp3',\n",
    "    'Feature': X_pp3.columns,\n",
    "    'Importance': perm_importancepp3tuned.importances_mean})\n",
    "feature_importancepp3tuned"
   ]
  },
  {
   "cell_type": "code",
   "execution_count": 158,
   "id": "d4c2bd58",
   "metadata": {},
   "outputs": [],
   "source": [
    "feature_importancepp3tuned.to_csv('../../data/feature_importancepp3tuned.csv', index=False)"
   ]
  },
  {
   "cell_type": "code",
   "execution_count": 116,
   "id": "ce3f50f7",
   "metadata": {},
   "outputs": [],
   "source": [
    "pickle.dump(lr_pp3, open('models/logistic_regression_pp3_default.pk', 'wb'))  \n",
    "pickle.dump(model_pp3, open('models/logistic_regression_pp3_tuned.pk', 'wb'))  "
   ]
  },
  {
   "cell_type": "markdown",
   "id": "f7577fe9",
   "metadata": {},
   "source": [
    "## Conclusions"
   ]
  },
  {
   "cell_type": "code",
   "execution_count": 117,
   "id": "e5335f09",
   "metadata": {},
   "outputs": [],
   "source": [
    "final_results=pd.concat([results_pp1, results_pp2, results_pp3], axis=0)"
   ]
  },
  {
   "cell_type": "markdown",
   "id": "9fb43182",
   "metadata": {},
   "source": [
    "Adding all the metrics in one dataframe"
   ]
  },
  {
   "cell_type": "code",
   "execution_count": 118,
   "id": "f71d8fec",
   "metadata": {},
   "outputs": [
    {
     "data": {
      "text/html": [
       "<div>\n",
       "<style scoped>\n",
       "    .dataframe tbody tr th:only-of-type {\n",
       "        vertical-align: middle;\n",
       "    }\n",
       "\n",
       "    .dataframe tbody tr th {\n",
       "        vertical-align: top;\n",
       "    }\n",
       "\n",
       "    .dataframe thead th {\n",
       "        text-align: right;\n",
       "    }\n",
       "</style>\n",
       "<table border=\"1\" class=\"dataframe\">\n",
       "  <thead>\n",
       "    <tr style=\"text-align: right;\">\n",
       "      <th></th>\n",
       "      <th>accuracy</th>\n",
       "      <th>precision</th>\n",
       "      <th>recall</th>\n",
       "      <th>f1</th>\n",
       "      <th>kapppa</th>\n",
       "      <th>set</th>\n",
       "      <th>model</th>\n",
       "    </tr>\n",
       "  </thead>\n",
       "  <tbody>\n",
       "    <tr>\n",
       "      <th>0</th>\n",
       "      <td>0.941788</td>\n",
       "      <td>0.935176</td>\n",
       "      <td>0.949384</td>\n",
       "      <td>0.942226</td>\n",
       "      <td>0.883575</td>\n",
       "      <td>test</td>\n",
       "      <td>Logistic Regression pp1</td>\n",
       "    </tr>\n",
       "    <tr>\n",
       "      <th>1</th>\n",
       "      <td>0.940429</td>\n",
       "      <td>0.932849</td>\n",
       "      <td>0.949185</td>\n",
       "      <td>0.940946</td>\n",
       "      <td>0.880858</td>\n",
       "      <td>train</td>\n",
       "      <td>Logistic Regression pp1</td>\n",
       "    </tr>\n",
       "    <tr>\n",
       "      <th>0</th>\n",
       "      <td>0.941719</td>\n",
       "      <td>0.933993</td>\n",
       "      <td>0.950620</td>\n",
       "      <td>0.942233</td>\n",
       "      <td>0.883438</td>\n",
       "      <td>test</td>\n",
       "      <td>Logistic Regression after tuning pp1</td>\n",
       "    </tr>\n",
       "    <tr>\n",
       "      <th>1</th>\n",
       "      <td>0.940421</td>\n",
       "      <td>0.931889</td>\n",
       "      <td>0.950299</td>\n",
       "      <td>0.941004</td>\n",
       "      <td>0.880843</td>\n",
       "      <td>train</td>\n",
       "      <td>Logistic Regression after tuning pp1</td>\n",
       "    </tr>\n",
       "    <tr>\n",
       "      <th>0</th>\n",
       "      <td>0.992803</td>\n",
       "      <td>0.988442</td>\n",
       "      <td>0.997266</td>\n",
       "      <td>0.992835</td>\n",
       "      <td>0.985605</td>\n",
       "      <td>test</td>\n",
       "      <td>Logistic Regression pp2</td>\n",
       "    </tr>\n",
       "    <tr>\n",
       "      <th>1</th>\n",
       "      <td>0.993088</td>\n",
       "      <td>0.988760</td>\n",
       "      <td>0.997516</td>\n",
       "      <td>0.993119</td>\n",
       "      <td>0.986177</td>\n",
       "      <td>train</td>\n",
       "      <td>Logistic Regression pp2</td>\n",
       "    </tr>\n",
       "    <tr>\n",
       "      <th>0</th>\n",
       "      <td>0.941747</td>\n",
       "      <td>0.934455</td>\n",
       "      <td>0.950138</td>\n",
       "      <td>0.942231</td>\n",
       "      <td>0.883493</td>\n",
       "      <td>test</td>\n",
       "      <td>Logistic Regression pp3</td>\n",
       "    </tr>\n",
       "    <tr>\n",
       "      <th>1</th>\n",
       "      <td>0.940871</td>\n",
       "      <td>0.933576</td>\n",
       "      <td>0.949283</td>\n",
       "      <td>0.941364</td>\n",
       "      <td>0.881741</td>\n",
       "      <td>train</td>\n",
       "      <td>Logistic Regression pp3</td>\n",
       "    </tr>\n",
       "    <tr>\n",
       "      <th>0</th>\n",
       "      <td>0.941812</td>\n",
       "      <td>0.934355</td>\n",
       "      <td>0.950396</td>\n",
       "      <td>0.942307</td>\n",
       "      <td>0.883625</td>\n",
       "      <td>test</td>\n",
       "      <td>Logistic Regression after tuning pp3</td>\n",
       "    </tr>\n",
       "    <tr>\n",
       "      <th>1</th>\n",
       "      <td>0.940885</td>\n",
       "      <td>0.933453</td>\n",
       "      <td>0.949459</td>\n",
       "      <td>0.941388</td>\n",
       "      <td>0.881770</td>\n",
       "      <td>train</td>\n",
       "      <td>Logistic Regression after tuning pp3</td>\n",
       "    </tr>\n",
       "  </tbody>\n",
       "</table>\n",
       "</div>"
      ],
      "text/plain": [
       "   accuracy  precision    recall        f1    kapppa    set  \\\n",
       "0  0.941788   0.935176  0.949384  0.942226  0.883575   test   \n",
       "1  0.940429   0.932849  0.949185  0.940946  0.880858  train   \n",
       "0  0.941719   0.933993  0.950620  0.942233  0.883438   test   \n",
       "1  0.940421   0.931889  0.950299  0.941004  0.880843  train   \n",
       "0  0.992803   0.988442  0.997266  0.992835  0.985605   test   \n",
       "1  0.993088   0.988760  0.997516  0.993119  0.986177  train   \n",
       "0  0.941747   0.934455  0.950138  0.942231  0.883493   test   \n",
       "1  0.940871   0.933576  0.949283  0.941364  0.881741  train   \n",
       "0  0.941812   0.934355  0.950396  0.942307  0.883625   test   \n",
       "1  0.940885   0.933453  0.949459  0.941388  0.881770  train   \n",
       "\n",
       "                                  model  \n",
       "0               Logistic Regression pp1  \n",
       "1               Logistic Regression pp1  \n",
       "0  Logistic Regression after tuning pp1  \n",
       "1  Logistic Regression after tuning pp1  \n",
       "0               Logistic Regression pp2  \n",
       "1               Logistic Regression pp2  \n",
       "0               Logistic Regression pp3  \n",
       "1               Logistic Regression pp3  \n",
       "0  Logistic Regression after tuning pp3  \n",
       "1  Logistic Regression after tuning pp3  "
      ]
     },
     "execution_count": 118,
     "metadata": {},
     "output_type": "execute_result"
    }
   ],
   "source": [
    "final_results"
   ]
  },
  {
   "cell_type": "code",
   "execution_count": 119,
   "id": "9ba29347",
   "metadata": {},
   "outputs": [],
   "source": [
    "final_results.to_csv('../../data/final_metrics.csv', index=False)"
   ]
  },
  {
   "cell_type": "markdown",
   "id": "1ca641f2",
   "metadata": {},
   "source": [
    "As we can see above, the model that works the best for this data is Logistic Regression pp2. The best preprocessing was done in pp2 (Removing the outliers , removing column repeat_retailer and upsampling the fraud rows to balance the fraud and non-fraud rows and max_min method to standardize the data). It is important to note that this is only for the context of this project and for the data that I used. The preprocessing and the models depend highly on the data we are dealing with"
   ]
  },
  {
   "cell_type": "code",
   "execution_count": 161,
   "id": "c134312c",
   "metadata": {},
   "outputs": [],
   "source": [
    "final_conf_matr=pd.concat([conf_matrix_pp1_df, conf_matrix_pp1_tuned_df, conf_matrix_pp2_df, conf_matrix_pp3_df, conf_matrix_pp3_tuned_df], axis=0)"
   ]
  },
  {
   "cell_type": "code",
   "execution_count": 162,
   "id": "d4ebdd08",
   "metadata": {},
   "outputs": [
    {
     "data": {
      "text/html": [
       "<div>\n",
       "<style scoped>\n",
       "    .dataframe tbody tr th:only-of-type {\n",
       "        vertical-align: middle;\n",
       "    }\n",
       "\n",
       "    .dataframe tbody tr th {\n",
       "        vertical-align: top;\n",
       "    }\n",
       "\n",
       "    .dataframe thead th {\n",
       "        text-align: right;\n",
       "    }\n",
       "</style>\n",
       "<table border=\"1\" class=\"dataframe\">\n",
       "  <thead>\n",
       "    <tr style=\"text-align: right;\">\n",
       "      <th></th>\n",
       "      <th>model</th>\n",
       "      <th>prediction</th>\n",
       "      <th>actual</th>\n",
       "      <th>count</th>\n",
       "    </tr>\n",
       "  </thead>\n",
       "  <tbody>\n",
       "    <tr>\n",
       "      <th>0</th>\n",
       "      <td>Logistic Regression pp1</td>\n",
       "      <td>predicted no fraud</td>\n",
       "      <td>actual no fraud</td>\n",
       "      <td>20413</td>\n",
       "    </tr>\n",
       "    <tr>\n",
       "      <th>1</th>\n",
       "      <td>Logistic Regression pp1</td>\n",
       "      <td>predicted no fraud</td>\n",
       "      <td>actual fraud</td>\n",
       "      <td>1106</td>\n",
       "    </tr>\n",
       "    <tr>\n",
       "      <th>2</th>\n",
       "      <td>Logistic Regression pp1</td>\n",
       "      <td>predicted fraud</td>\n",
       "      <td>actual no fraud</td>\n",
       "      <td>1438</td>\n",
       "    </tr>\n",
       "    <tr>\n",
       "      <th>3</th>\n",
       "      <td>Logistic Regression pp1</td>\n",
       "      <td>predicted fraud</td>\n",
       "      <td>actual fraud</td>\n",
       "      <td>20745</td>\n",
       "    </tr>\n",
       "    <tr>\n",
       "      <th>0</th>\n",
       "      <td>Logistic Regression after tuning pp1</td>\n",
       "      <td>predicted no fraud</td>\n",
       "      <td>actual no fraud</td>\n",
       "      <td>20383</td>\n",
       "    </tr>\n",
       "    <tr>\n",
       "      <th>1</th>\n",
       "      <td>Logistic Regression after tuning pp1</td>\n",
       "      <td>predicted no fraud</td>\n",
       "      <td>actual fraud</td>\n",
       "      <td>1079</td>\n",
       "    </tr>\n",
       "    <tr>\n",
       "      <th>2</th>\n",
       "      <td>Logistic Regression after tuning pp1</td>\n",
       "      <td>predicted fraud</td>\n",
       "      <td>actual no fraud</td>\n",
       "      <td>1468</td>\n",
       "    </tr>\n",
       "    <tr>\n",
       "      <th>3</th>\n",
       "      <td>Logistic Regression after tuning pp1</td>\n",
       "      <td>predicted fraud</td>\n",
       "      <td>actual fraud</td>\n",
       "      <td>20772</td>\n",
       "    </tr>\n",
       "    <tr>\n",
       "      <th>0</th>\n",
       "      <td>Logistic Regression pp2</td>\n",
       "      <td>predicted no fraud</td>\n",
       "      <td>actual no fraud</td>\n",
       "      <td>175359</td>\n",
       "    </tr>\n",
       "    <tr>\n",
       "      <th>1</th>\n",
       "      <td>Logistic Regression pp2</td>\n",
       "      <td>predicted no fraud</td>\n",
       "      <td>actual fraud</td>\n",
       "      <td>485</td>\n",
       "    </tr>\n",
       "    <tr>\n",
       "      <th>2</th>\n",
       "      <td>Logistic Regression pp2</td>\n",
       "      <td>predicted fraud</td>\n",
       "      <td>actual no fraud</td>\n",
       "      <td>2069</td>\n",
       "    </tr>\n",
       "    <tr>\n",
       "      <th>3</th>\n",
       "      <td>Logistic Regression pp2</td>\n",
       "      <td>predicted fraud</td>\n",
       "      <td>actual fraud</td>\n",
       "      <td>176942</td>\n",
       "    </tr>\n",
       "    <tr>\n",
       "      <th>0</th>\n",
       "      <td>Logistic Regression pp3</td>\n",
       "      <td>predicted no fraud</td>\n",
       "      <td>actual no fraud</td>\n",
       "      <td>212945</td>\n",
       "    </tr>\n",
       "    <tr>\n",
       "      <th>1</th>\n",
       "      <td>Logistic Regression pp3</td>\n",
       "      <td>predicted no fraud</td>\n",
       "      <td>actual fraud</td>\n",
       "      <td>11376</td>\n",
       "    </tr>\n",
       "    <tr>\n",
       "      <th>2</th>\n",
       "      <td>Logistic Regression pp3</td>\n",
       "      <td>predicted fraud</td>\n",
       "      <td>actual no fraud</td>\n",
       "      <td>15205</td>\n",
       "    </tr>\n",
       "    <tr>\n",
       "      <th>3</th>\n",
       "      <td>Logistic Regression pp3</td>\n",
       "      <td>predicted fraud</td>\n",
       "      <td>actual fraud</td>\n",
       "      <td>216773</td>\n",
       "    </tr>\n",
       "    <tr>\n",
       "      <th>0</th>\n",
       "      <td>Logistic Regression after tuning pp3</td>\n",
       "      <td>predicted no fraud</td>\n",
       "      <td>actual no fraud</td>\n",
       "      <td>212916</td>\n",
       "    </tr>\n",
       "    <tr>\n",
       "      <th>1</th>\n",
       "      <td>Logistic Regression after tuning pp3</td>\n",
       "      <td>predicted no fraud</td>\n",
       "      <td>actual fraud</td>\n",
       "      <td>11317</td>\n",
       "    </tr>\n",
       "    <tr>\n",
       "      <th>2</th>\n",
       "      <td>Logistic Regression after tuning pp3</td>\n",
       "      <td>predicted fraud</td>\n",
       "      <td>actual no fraud</td>\n",
       "      <td>15234</td>\n",
       "    </tr>\n",
       "    <tr>\n",
       "      <th>3</th>\n",
       "      <td>Logistic Regression after tuning pp3</td>\n",
       "      <td>predicted fraud</td>\n",
       "      <td>actual fraud</td>\n",
       "      <td>216832</td>\n",
       "    </tr>\n",
       "  </tbody>\n",
       "</table>\n",
       "</div>"
      ],
      "text/plain": [
       "                                  model          prediction           actual  \\\n",
       "0               Logistic Regression pp1  predicted no fraud  actual no fraud   \n",
       "1               Logistic Regression pp1  predicted no fraud     actual fraud   \n",
       "2               Logistic Regression pp1     predicted fraud  actual no fraud   \n",
       "3               Logistic Regression pp1     predicted fraud     actual fraud   \n",
       "0  Logistic Regression after tuning pp1  predicted no fraud  actual no fraud   \n",
       "1  Logistic Regression after tuning pp1  predicted no fraud     actual fraud   \n",
       "2  Logistic Regression after tuning pp1     predicted fraud  actual no fraud   \n",
       "3  Logistic Regression after tuning pp1     predicted fraud     actual fraud   \n",
       "0               Logistic Regression pp2  predicted no fraud  actual no fraud   \n",
       "1               Logistic Regression pp2  predicted no fraud     actual fraud   \n",
       "2               Logistic Regression pp2     predicted fraud  actual no fraud   \n",
       "3               Logistic Regression pp2     predicted fraud     actual fraud   \n",
       "0               Logistic Regression pp3  predicted no fraud  actual no fraud   \n",
       "1               Logistic Regression pp3  predicted no fraud     actual fraud   \n",
       "2               Logistic Regression pp3     predicted fraud  actual no fraud   \n",
       "3               Logistic Regression pp3     predicted fraud     actual fraud   \n",
       "0  Logistic Regression after tuning pp3  predicted no fraud  actual no fraud   \n",
       "1  Logistic Regression after tuning pp3  predicted no fraud     actual fraud   \n",
       "2  Logistic Regression after tuning pp3     predicted fraud  actual no fraud   \n",
       "3  Logistic Regression after tuning pp3     predicted fraud     actual fraud   \n",
       "\n",
       "    count  \n",
       "0   20413  \n",
       "1    1106  \n",
       "2    1438  \n",
       "3   20745  \n",
       "0   20383  \n",
       "1    1079  \n",
       "2    1468  \n",
       "3   20772  \n",
       "0  175359  \n",
       "1     485  \n",
       "2    2069  \n",
       "3  176942  \n",
       "0  212945  \n",
       "1   11376  \n",
       "2   15205  \n",
       "3  216773  \n",
       "0  212916  \n",
       "1   11317  \n",
       "2   15234  \n",
       "3  216832  "
      ]
     },
     "execution_count": 162,
     "metadata": {},
     "output_type": "execute_result"
    }
   ],
   "source": [
    "final_conf_matr"
   ]
  },
  {
   "cell_type": "code",
   "execution_count": 163,
   "id": "98e0d3c1",
   "metadata": {},
   "outputs": [],
   "source": [
    "final_conf_matr.to_csv('../../data/final_conf_matr.csv', index=False)"
   ]
  },
  {
   "cell_type": "code",
   "execution_count": 166,
   "id": "fa7f1034",
   "metadata": {},
   "outputs": [],
   "source": [
    "final_feat_importance=pd.concat([feature_importancepp1, feature_importancepp1tuned, feature_importancepp2, \n",
    "                                feature_importancepp3, feature_importancepp3tuned], axis=0)"
   ]
  },
  {
   "cell_type": "code",
   "execution_count": 167,
   "id": "969ab139",
   "metadata": {},
   "outputs": [
    {
     "data": {
      "text/html": [
       "<div>\n",
       "<style scoped>\n",
       "    .dataframe tbody tr th:only-of-type {\n",
       "        vertical-align: middle;\n",
       "    }\n",
       "\n",
       "    .dataframe tbody tr th {\n",
       "        vertical-align: top;\n",
       "    }\n",
       "\n",
       "    .dataframe thead th {\n",
       "        text-align: right;\n",
       "    }\n",
       "</style>\n",
       "<table border=\"1\" class=\"dataframe\">\n",
       "  <thead>\n",
       "    <tr style=\"text-align: right;\">\n",
       "      <th></th>\n",
       "      <th>Model</th>\n",
       "      <th>Feature</th>\n",
       "      <th>Importance</th>\n",
       "    </tr>\n",
       "  </thead>\n",
       "  <tbody>\n",
       "    <tr>\n",
       "      <th>0</th>\n",
       "      <td>Logistic Regression pp1</td>\n",
       "      <td>distance_from_home</td>\n",
       "      <td>0.103180</td>\n",
       "    </tr>\n",
       "    <tr>\n",
       "      <th>1</th>\n",
       "      <td>Logistic Regression pp1</td>\n",
       "      <td>distance_from_last_transaction</td>\n",
       "      <td>0.034195</td>\n",
       "    </tr>\n",
       "    <tr>\n",
       "      <th>2</th>\n",
       "      <td>Logistic Regression pp1</td>\n",
       "      <td>ratio_to_median_purchase_price</td>\n",
       "      <td>0.304383</td>\n",
       "    </tr>\n",
       "    <tr>\n",
       "      <th>3</th>\n",
       "      <td>Logistic Regression pp1</td>\n",
       "      <td>repeat_retailer</td>\n",
       "      <td>0.004791</td>\n",
       "    </tr>\n",
       "    <tr>\n",
       "      <th>4</th>\n",
       "      <td>Logistic Regression pp1</td>\n",
       "      <td>used_chip</td>\n",
       "      <td>0.010167</td>\n",
       "    </tr>\n",
       "    <tr>\n",
       "      <th>5</th>\n",
       "      <td>Logistic Regression pp1</td>\n",
       "      <td>used_pin_number</td>\n",
       "      <td>0.027391</td>\n",
       "    </tr>\n",
       "    <tr>\n",
       "      <th>6</th>\n",
       "      <td>Logistic Regression pp1</td>\n",
       "      <td>online_order</td>\n",
       "      <td>0.073776</td>\n",
       "    </tr>\n",
       "    <tr>\n",
       "      <th>0</th>\n",
       "      <td>Logistic Regression after tuning pp1</td>\n",
       "      <td>distance_from_home</td>\n",
       "      <td>0.103120</td>\n",
       "    </tr>\n",
       "    <tr>\n",
       "      <th>1</th>\n",
       "      <td>Logistic Regression after tuning pp1</td>\n",
       "      <td>distance_from_last_transaction</td>\n",
       "      <td>0.033760</td>\n",
       "    </tr>\n",
       "    <tr>\n",
       "      <th>2</th>\n",
       "      <td>Logistic Regression after tuning pp1</td>\n",
       "      <td>ratio_to_median_purchase_price</td>\n",
       "      <td>0.307664</td>\n",
       "    </tr>\n",
       "    <tr>\n",
       "      <th>3</th>\n",
       "      <td>Logistic Regression after tuning pp1</td>\n",
       "      <td>repeat_retailer</td>\n",
       "      <td>0.004375</td>\n",
       "    </tr>\n",
       "    <tr>\n",
       "      <th>4</th>\n",
       "      <td>Logistic Regression after tuning pp1</td>\n",
       "      <td>used_chip</td>\n",
       "      <td>0.010145</td>\n",
       "    </tr>\n",
       "    <tr>\n",
       "      <th>5</th>\n",
       "      <td>Logistic Regression after tuning pp1</td>\n",
       "      <td>used_pin_number</td>\n",
       "      <td>0.025361</td>\n",
       "    </tr>\n",
       "    <tr>\n",
       "      <th>6</th>\n",
       "      <td>Logistic Regression after tuning pp1</td>\n",
       "      <td>online_order</td>\n",
       "      <td>0.071495</td>\n",
       "    </tr>\n",
       "    <tr>\n",
       "      <th>0</th>\n",
       "      <td>Logistic Regression pp2</td>\n",
       "      <td>distance_from_home</td>\n",
       "      <td>0.001046</td>\n",
       "    </tr>\n",
       "    <tr>\n",
       "      <th>1</th>\n",
       "      <td>Logistic Regression pp2</td>\n",
       "      <td>distance_from_last_transaction</td>\n",
       "      <td>-0.000023</td>\n",
       "    </tr>\n",
       "    <tr>\n",
       "      <th>2</th>\n",
       "      <td>Logistic Regression pp2</td>\n",
       "      <td>ratio_to_median_purchase_price</td>\n",
       "      <td>0.454246</td>\n",
       "    </tr>\n",
       "    <tr>\n",
       "      <th>3</th>\n",
       "      <td>Logistic Regression pp2</td>\n",
       "      <td>used_chip</td>\n",
       "      <td>0.000957</td>\n",
       "    </tr>\n",
       "    <tr>\n",
       "      <th>4</th>\n",
       "      <td>Logistic Regression pp2</td>\n",
       "      <td>used_pin_number</td>\n",
       "      <td>0.026376</td>\n",
       "    </tr>\n",
       "    <tr>\n",
       "      <th>5</th>\n",
       "      <td>Logistic Regression pp2</td>\n",
       "      <td>online_order</td>\n",
       "      <td>0.014523</td>\n",
       "    </tr>\n",
       "    <tr>\n",
       "      <th>0</th>\n",
       "      <td>Logistic Regression pp3</td>\n",
       "      <td>distance_from_home</td>\n",
       "      <td>0.102519</td>\n",
       "    </tr>\n",
       "    <tr>\n",
       "      <th>1</th>\n",
       "      <td>Logistic Regression pp3</td>\n",
       "      <td>distance_from_last_transaction</td>\n",
       "      <td>0.033704</td>\n",
       "    </tr>\n",
       "    <tr>\n",
       "      <th>2</th>\n",
       "      <td>Logistic Regression pp3</td>\n",
       "      <td>ratio_to_median_purchase_price</td>\n",
       "      <td>0.305011</td>\n",
       "    </tr>\n",
       "    <tr>\n",
       "      <th>3</th>\n",
       "      <td>Logistic Regression pp3</td>\n",
       "      <td>repeat_retailer</td>\n",
       "      <td>0.003728</td>\n",
       "    </tr>\n",
       "    <tr>\n",
       "      <th>4</th>\n",
       "      <td>Logistic Regression pp3</td>\n",
       "      <td>used_chip</td>\n",
       "      <td>0.010228</td>\n",
       "    </tr>\n",
       "    <tr>\n",
       "      <th>5</th>\n",
       "      <td>Logistic Regression pp3</td>\n",
       "      <td>used_pin_number</td>\n",
       "      <td>0.027649</td>\n",
       "    </tr>\n",
       "    <tr>\n",
       "      <th>6</th>\n",
       "      <td>Logistic Regression pp3</td>\n",
       "      <td>online_order</td>\n",
       "      <td>0.071979</td>\n",
       "    </tr>\n",
       "    <tr>\n",
       "      <th>0</th>\n",
       "      <td>Logistic Regression after tuning pp3</td>\n",
       "      <td>distance_from_home</td>\n",
       "      <td>0.102561</td>\n",
       "    </tr>\n",
       "    <tr>\n",
       "      <th>1</th>\n",
       "      <td>Logistic Regression after tuning pp3</td>\n",
       "      <td>distance_from_last_transaction</td>\n",
       "      <td>0.033715</td>\n",
       "    </tr>\n",
       "    <tr>\n",
       "      <th>2</th>\n",
       "      <td>Logistic Regression after tuning pp3</td>\n",
       "      <td>ratio_to_median_purchase_price</td>\n",
       "      <td>0.305423</td>\n",
       "    </tr>\n",
       "    <tr>\n",
       "      <th>3</th>\n",
       "      <td>Logistic Regression after tuning pp3</td>\n",
       "      <td>repeat_retailer</td>\n",
       "      <td>0.003730</td>\n",
       "    </tr>\n",
       "    <tr>\n",
       "      <th>4</th>\n",
       "      <td>Logistic Regression after tuning pp3</td>\n",
       "      <td>used_chip</td>\n",
       "      <td>0.010189</td>\n",
       "    </tr>\n",
       "    <tr>\n",
       "      <th>5</th>\n",
       "      <td>Logistic Regression after tuning pp3</td>\n",
       "      <td>used_pin_number</td>\n",
       "      <td>0.027432</td>\n",
       "    </tr>\n",
       "    <tr>\n",
       "      <th>6</th>\n",
       "      <td>Logistic Regression after tuning pp3</td>\n",
       "      <td>online_order</td>\n",
       "      <td>0.071687</td>\n",
       "    </tr>\n",
       "  </tbody>\n",
       "</table>\n",
       "</div>"
      ],
      "text/plain": [
       "                                  Model                         Feature  \\\n",
       "0               Logistic Regression pp1              distance_from_home   \n",
       "1               Logistic Regression pp1  distance_from_last_transaction   \n",
       "2               Logistic Regression pp1  ratio_to_median_purchase_price   \n",
       "3               Logistic Regression pp1                 repeat_retailer   \n",
       "4               Logistic Regression pp1                       used_chip   \n",
       "5               Logistic Regression pp1                 used_pin_number   \n",
       "6               Logistic Regression pp1                    online_order   \n",
       "0  Logistic Regression after tuning pp1              distance_from_home   \n",
       "1  Logistic Regression after tuning pp1  distance_from_last_transaction   \n",
       "2  Logistic Regression after tuning pp1  ratio_to_median_purchase_price   \n",
       "3  Logistic Regression after tuning pp1                 repeat_retailer   \n",
       "4  Logistic Regression after tuning pp1                       used_chip   \n",
       "5  Logistic Regression after tuning pp1                 used_pin_number   \n",
       "6  Logistic Regression after tuning pp1                    online_order   \n",
       "0               Logistic Regression pp2              distance_from_home   \n",
       "1               Logistic Regression pp2  distance_from_last_transaction   \n",
       "2               Logistic Regression pp2  ratio_to_median_purchase_price   \n",
       "3               Logistic Regression pp2                       used_chip   \n",
       "4               Logistic Regression pp2                 used_pin_number   \n",
       "5               Logistic Regression pp2                    online_order   \n",
       "0               Logistic Regression pp3              distance_from_home   \n",
       "1               Logistic Regression pp3  distance_from_last_transaction   \n",
       "2               Logistic Regression pp3  ratio_to_median_purchase_price   \n",
       "3               Logistic Regression pp3                 repeat_retailer   \n",
       "4               Logistic Regression pp3                       used_chip   \n",
       "5               Logistic Regression pp3                 used_pin_number   \n",
       "6               Logistic Regression pp3                    online_order   \n",
       "0  Logistic Regression after tuning pp3              distance_from_home   \n",
       "1  Logistic Regression after tuning pp3  distance_from_last_transaction   \n",
       "2  Logistic Regression after tuning pp3  ratio_to_median_purchase_price   \n",
       "3  Logistic Regression after tuning pp3                 repeat_retailer   \n",
       "4  Logistic Regression after tuning pp3                       used_chip   \n",
       "5  Logistic Regression after tuning pp3                 used_pin_number   \n",
       "6  Logistic Regression after tuning pp3                    online_order   \n",
       "\n",
       "   Importance  \n",
       "0    0.103180  \n",
       "1    0.034195  \n",
       "2    0.304383  \n",
       "3    0.004791  \n",
       "4    0.010167  \n",
       "5    0.027391  \n",
       "6    0.073776  \n",
       "0    0.103120  \n",
       "1    0.033760  \n",
       "2    0.307664  \n",
       "3    0.004375  \n",
       "4    0.010145  \n",
       "5    0.025361  \n",
       "6    0.071495  \n",
       "0    0.001046  \n",
       "1   -0.000023  \n",
       "2    0.454246  \n",
       "3    0.000957  \n",
       "4    0.026376  \n",
       "5    0.014523  \n",
       "0    0.102519  \n",
       "1    0.033704  \n",
       "2    0.305011  \n",
       "3    0.003728  \n",
       "4    0.010228  \n",
       "5    0.027649  \n",
       "6    0.071979  \n",
       "0    0.102561  \n",
       "1    0.033715  \n",
       "2    0.305423  \n",
       "3    0.003730  \n",
       "4    0.010189  \n",
       "5    0.027432  \n",
       "6    0.071687  "
      ]
     },
     "execution_count": 167,
     "metadata": {},
     "output_type": "execute_result"
    }
   ],
   "source": [
    "final_feat_importance"
   ]
  },
  {
   "cell_type": "code",
   "execution_count": 168,
   "id": "5f5756b1",
   "metadata": {},
   "outputs": [],
   "source": [
    "final_feat_importance.to_csv('../../data/final_feat_importance.csv', index=False)"
   ]
  },
  {
   "cell_type": "markdown",
   "id": "5b040b70",
   "metadata": {},
   "source": [
    "Saving the data"
   ]
  }
 ],
 "metadata": {
  "kernelspec": {
   "display_name": "Python 3 (ipykernel)",
   "language": "python",
   "name": "python3"
  },
  "language_info": {
   "codemirror_mode": {
    "name": "ipython",
    "version": 3
   },
   "file_extension": ".py",
   "mimetype": "text/x-python",
   "name": "python",
   "nbconvert_exporter": "python",
   "pygments_lexer": "ipython3",
   "version": "3.11.4"
  }
 },
 "nbformat": 4,
 "nbformat_minor": 5
}
